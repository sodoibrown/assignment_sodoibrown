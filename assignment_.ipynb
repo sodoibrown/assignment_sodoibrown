{
 "cells": [
  {
   "cell_type": "code",
   "execution_count": 1,
   "metadata": {},
   "outputs": [],
   "source": [
    "import requests\n",
    "from bs4 import BeautifulSoup"
   ]
  },
  {
   "cell_type": "markdown",
   "metadata": {},
   "source": [
    "Get response from news site"
   ]
  },
  {
   "cell_type": "code",
   "execution_count": 2,
   "metadata": {},
   "outputs": [],
   "source": [
    "home_url = 'http://n.neurology.org'"
   ]
  },
  {
   "cell_type": "code",
   "execution_count": 3,
   "metadata": {},
   "outputs": [],
   "source": [
    "url = 'http://n.neurology.org/content/early/recent'"
   ]
  },
  {
   "cell_type": "code",
   "execution_count": 4,
   "metadata": {},
   "outputs": [],
   "source": [
    "response = requests.get(url)"
   ]
  },
  {
   "cell_type": "code",
   "execution_count": 5,
   "metadata": {},
   "outputs": [
    {
     "data": {
      "text/plain": [
       "<Response [200]>"
      ]
     },
     "execution_count": 5,
     "metadata": {},
     "output_type": "execute_result"
    }
   ],
   "source": [
    "response"
   ]
  },
  {
   "cell_type": "code",
   "execution_count": 6,
   "metadata": {},
   "outputs": [
    {
     "data": {
      "text/plain": [
       "'<!DOCTYPE html>\\n<html lang=\"en\" dir=\"ltr\"\\n  xmlns=\"http://www.w3.org/1999/xhtml\"\\n  xmlns:mml=\"http://www.w3.org/1998/Math/MathML\">\\n  <head profile=\"ht'"
      ]
     },
     "execution_count": 6,
     "metadata": {},
     "output_type": "execute_result"
    }
   ],
   "source": [
    "response.text[:150]"
   ]
  },
  {
   "cell_type": "code",
   "execution_count": 7,
   "metadata": {},
   "outputs": [
    {
     "data": {
      "text/plain": [
       "'utf-8'"
      ]
     },
     "execution_count": 7,
     "metadata": {},
     "output_type": "execute_result"
    }
   ],
   "source": [
    "response.encoding"
   ]
  },
  {
   "cell_type": "markdown",
   "metadata": {},
   "source": [
    "BeautifulSoup start (parsing)"
   ]
  },
  {
   "cell_type": "code",
   "execution_count": 8,
   "metadata": {},
   "outputs": [],
   "source": [
    "html = response.text"
   ]
  },
  {
   "cell_type": "code",
   "execution_count": 9,
   "metadata": {},
   "outputs": [],
   "source": [
    "soup = BeautifulSoup(html,'html.parser')"
   ]
  },
  {
   "cell_type": "markdown",
   "metadata": {},
   "source": [
    "- 구조 : Ahead of Print (기사항목)"
   ]
  },
  {
   "cell_type": "code",
   "execution_count": 10,
   "metadata": {},
   "outputs": [],
   "source": [
    "div = soup.find('div',attrs={'class':'panel-pane pane-highwire-pap'})"
   ]
  },
  {
   "cell_type": "code",
   "execution_count": 12,
   "metadata": {},
   "outputs": [
    {
     "data": {
      "text/plain": [
       "<div class=\"panel-pane pane-highwire-pap\">\n",
       "<div class=\"pane-content\">\n",
       "<div class=\"highwire-list-wrapper highwire-list-pap highwire-article-citation-list\"><h3 class=\"highwire-list-title\">December 21, 2018</h3><div class=\"highwire-list\"><ul id=\"december-21-2018\"><li class=\"first odd\"><div class=\"highwire-article-citation highwire-citation-type-highwire-article\" data-apath=\"/neurology/early/2018/12/21/WNL.0000000000006766.atom\" data-node-nid=\"165859\" data-pisa=\"neurology;WNL.0000000000006766v1\" data-pisa-master=\"neurology;WNL.0000000000006766\" id=\"node165859\"><div class=\"highwire-cite highwire-cite-highwire-article highwire-citation-aan-list-compact clearfix\">\n",
       "<a class=\"highwire-cite-linked-title\" data-hide-link-title=\"0\" data-icon-position=\"\" href=\"/content/early/2018/12/21/WNL.0000000000006766\"><span class=\"highwire-cite-title title-with-subtitle\">Forecasting outcomes in anti-NMDAR encephalitis</span><span class=\"highwire-cite-subtitle\">Clearer prognostic markers needed</span></a>\n",
       "<div class=\"highwire-cite-authors\"><div class=\"highwire-citation-authors-type highwire-citation-authors-type-author\"><span class=\"contributor-of-type\"><em></em></span> <span class=\"highwire-citation-authors\"><span class=\"highwire-citation-author first\" data-delta=\"0\">Stephan Rüegg</span>, <span class=\"highwire-citation-author\" data-delta=\"1\">E. Ann Yeh</span>, <span class=\"highwire-citation-author\" data-delta=\"2\">Jerome Honnorat</span></span></div></div>\n",
       "<div class=\"highwire-cite-extras\"><div class=\"aan-article-citation-variant-list\"><ul class=\"links variants-list inline\"><li class=\"full-textpdf first last\"><a class=\"highwire-variant-link variant-full-textpdf \" data-hide-link-title=\"0\" data-icon-position=\"\" href=\"/content/early/2018/12/21/WNL.0000000000006766.full.pdf\" rel=\"alternate\" title=\"Full Text (PDF)\" type=\"application/pdf\">Full Text (PDF) </a></li>\n",
       "</ul></div><span class=\"highwire-foxycart-add-to-cart-ahah highwire-foxycart-add-to-cart-ahah\" data-apath=\"/neurology/early/2018/12/21/WNL.0000000000006766.atom\" data-font-icon=\"icon-shopping-cart\" data-parent-id=\"1301\" data-text=\"Add to Cart (%short-price)\" data-type=\"link\"></span></div>\n",
       "</div>\n",
       "</div></li><li class=\"even\"><div class=\"highwire-article-citation highwire-citation-type-highwire-article\" data-apath=\"/neurology/early/2018/12/21/WNL.0000000000006789.atom\" data-node-nid=\"165860\" data-pisa=\"neurology;WNL.0000000000006789v1\" data-pisa-master=\"neurology;WNL.0000000000006789\" id=\"node165860\"><div class=\"highwire-cite highwire-cite-highwire-article highwire-citation-aan-list-compact clearfix\">\n",
       "<a class=\"highwire-cite-linked-title\" data-hide-link-title=\"0\" data-icon-position=\"\" href=\"/content/early/2018/12/21/WNL.0000000000006789\"><span class=\"highwire-cite-title\">Cytotoxic edema affecting distinct fiber tracts in Ciguatera fish poisoning</span></a>\n",
       "<div class=\"highwire-cite-authors\"><div class=\"highwire-citation-authors-type highwire-citation-authors-type-author\"><span class=\"contributor-of-type\"><em></em></span> <span class=\"highwire-citation-authors\"><span class=\"highwire-citation-author first\" data-delta=\"0\">Yavor Yalachkov</span>, <span class=\"highwire-citation-author\" data-delta=\"1\">Marcel Hildner</span>, <span class=\"highwire-citation-author\" data-delta=\"2\">Nenad Polomac</span>, <span class=\"highwire-citation-author\" data-delta=\"3\">Kolja Jahnke</span>, <span class=\"highwire-citation-author\" data-delta=\"4\">Marlies Wagner</span>, <span class=\"highwire-citation-author\" data-delta=\"5\">Simon Baudrexel</span></span></div></div>\n",
       "<div class=\"highwire-cite-extras\"><div class=\"aan-article-citation-variant-list\"><ul class=\"links variants-list inline\"><li class=\"full-textpdf first last\"><a class=\"highwire-variant-link variant-full-textpdf \" data-hide-link-title=\"0\" data-icon-position=\"\" href=\"/content/early/2018/12/21/WNL.0000000000006789.full.pdf\" rel=\"alternate\" title=\"Full Text (PDF)\" type=\"application/pdf\">Full Text (PDF) </a></li>\n",
       "</ul></div><span class=\"highwire-foxycart-add-to-cart-ahah highwire-foxycart-add-to-cart-ahah\" data-apath=\"/neurology/early/2018/12/21/WNL.0000000000006789.atom\" data-font-icon=\"icon-shopping-cart\" data-parent-id=\"1301\" data-text=\"Add to Cart (%short-price)\" data-type=\"link\"></span></div>\n",
       "</div>\n",
       "</div></li><li class=\"odd\"><div class=\"highwire-article-citation highwire-citation-type-highwire-article\" data-apath=\"/neurology/early/2018/12/21/WNL.0000000000006751.atom\" data-node-nid=\"165861\" data-pisa=\"neurology;WNL.0000000000006751v1\" data-pisa-master=\"neurology;WNL.0000000000006751\" id=\"node165861\"><div class=\"highwire-cite highwire-cite-highwire-article highwire-citation-aan-list-compact clearfix\">\n",
       "<a class=\"highwire-cite-linked-title\" data-hide-link-title=\"0\" data-icon-position=\"\" href=\"/content/early/2018/12/21/WNL.0000000000006751\"><span class=\"highwire-cite-title title-with-subtitle\">Readmitted after a seizure-related hospitalization</span><span class=\"highwire-cite-subtitle\">Déjà vu</span></a>\n",
       "<div class=\"highwire-cite-authors\"><div class=\"highwire-citation-authors-type highwire-citation-authors-type-author\"><span class=\"contributor-of-type\"><em></em></span> <span class=\"highwire-citation-authors\"><span class=\"highwire-citation-author first\" data-delta=\"0\">Nathalie Jetté</span>, <span class=\"highwire-citation-author\" data-delta=\"1\">Kimford J. Meador</span>, <span class=\"highwire-citation-author\" data-delta=\"2\">Churl-Su Kwon</span></span></div></div>\n",
       "<div class=\"highwire-cite-extras\"><div class=\"aan-article-citation-variant-list\"><ul class=\"links variants-list inline\"><li class=\"full-textpdf first last\"><a class=\"highwire-variant-link variant-full-textpdf \" data-hide-link-title=\"0\" data-icon-position=\"\" href=\"/content/early/2018/12/21/WNL.0000000000006751.full.pdf\" rel=\"alternate\" title=\"Full Text (PDF)\" type=\"application/pdf\">Full Text (PDF) </a></li>\n",
       "</ul></div><span class=\"highwire-foxycart-add-to-cart-ahah highwire-foxycart-add-to-cart-ahah\" data-apath=\"/neurology/early/2018/12/21/WNL.0000000000006751.atom\" data-font-icon=\"icon-shopping-cart\" data-parent-id=\"1301\" data-text=\"Add to Cart (%short-price)\" data-type=\"link\"></span></div>\n",
       "</div>\n",
       "</div></li><li class=\"even\"><div class=\"highwire-article-citation highwire-citation-type-highwire-article\" data-apath=\"/neurology/early/2018/12/21/WNL.0000000000006788.atom\" data-node-nid=\"165856\" data-pisa=\"neurology;WNL.0000000000006788v1\" data-pisa-master=\"neurology;WNL.0000000000006788\" id=\"node165856\"><div class=\"highwire-cite highwire-cite-highwire-article highwire-citation-aan-list-compact clearfix\">\n",
       "<a class=\"highwire-cite-linked-title\" data-hide-link-title=\"0\" data-icon-position=\"\" href=\"/content/early/2018/12/21/WNL.0000000000006788\"><span class=\"highwire-cite-title title-with-subtitle\">Word comprehension in temporal cortex and Wernicke area</span><span class=\"highwire-cite-subtitle\">A PPA perspective</span></a>\n",
       "<div class=\"highwire-cite-authors\"><div class=\"highwire-citation-authors-type highwire-citation-authors-type-author\"><span class=\"contributor-of-type\"><em></em></span> <span class=\"highwire-citation-authors\"><span class=\"highwire-citation-author first\" data-delta=\"0\">M.-Marsel Mesulam</span>, <span class=\"highwire-citation-author\" data-delta=\"1\">Benjamin M. Rader</span>, <span class=\"highwire-citation-author\" data-delta=\"2\">Jaiashre Sridhar</span>, <span class=\"highwire-citation-author\" data-delta=\"3\">Matthew J. Nelson</span>, <span class=\"highwire-citation-author\" data-delta=\"4\">Jungmoon Hyun</span>, <span class=\"highwire-citation-author\" data-delta=\"5\">Alfred Rademaker</span>, <span class=\"highwire-citation-author\" data-delta=\"6\">Changiz Geula</span>, <span class=\"highwire-citation-author\" data-delta=\"7\">Eileen H. Bigio</span>, <span class=\"highwire-citation-author\" data-delta=\"8\">Cynthia K. Thompson</span>, <span class=\"highwire-citation-author\" data-delta=\"9\">Tamar D. Gefen</span>, <span class=\"highwire-citation-author\" data-delta=\"10\">Sandra Weintraub</span>, <span class=\"highwire-citation-author\" data-delta=\"11\">Emily J. Rogalski</span></span></div></div>\n",
       "<div class=\"highwire-cite-extras\"><div class=\"aan-article-citation-variant-list\"><ul class=\"links variants-list inline\"><li class=\"abstract first\"><a class=\"highwire-variant-link variant-abstract \" data-hide-link-title=\"0\" data-icon-position=\"\" href=\"/content/early/2018/12/21/WNL.0000000000006788.abstract\" rel=\"alternate\" title=\"Abstract\">Abstract </a></li>\n",
       "<li class=\"full-textpdf last\"><a class=\"highwire-variant-link variant-full-textpdf \" data-hide-link-title=\"0\" data-icon-position=\"\" href=\"/content/early/2018/12/21/WNL.0000000000006788.full.pdf\" rel=\"alternate\" title=\"Full Text (PDF)\" type=\"application/pdf\">Full Text (PDF) </a></li>\n",
       "</ul></div><span class=\"highwire-foxycart-add-to-cart-ahah highwire-foxycart-add-to-cart-ahah\" data-apath=\"/neurology/early/2018/12/21/WNL.0000000000006788.atom\" data-font-icon=\"icon-shopping-cart\" data-parent-id=\"1301\" data-text=\"Add to Cart (%short-price)\" data-type=\"link\"></span></div>\n",
       "</div>\n",
       "</div></li><li class=\"odd\"><div class=\"highwire-article-citation highwire-citation-type-highwire-article\" data-apath=\"/neurology/early/2018/12/21/WNL.0000000000006783.atom\" data-node-nid=\"165857\" data-pisa=\"neurology;WNL.0000000000006783v1\" data-pisa-master=\"neurology;WNL.0000000000006783\" id=\"node165857\"><div class=\"highwire-cite highwire-cite-highwire-article highwire-citation-aan-list-compact clearfix\">\n",
       "<div class=\"highwire-cite-overline\"><span class=\"highwire-cite-metadata-oa-ind highwire-cite-metadata\">Open Access</span></div>\n",
       "<a class=\"highwire-cite-linked-title\" data-hide-link-title=\"0\" data-icon-position=\"\" href=\"/content/early/2018/12/21/WNL.0000000000006783\"><span class=\"highwire-cite-title\">A score that predicts 1-year functional status in patients with anti-NMDA receptor encephalitis</span></a>\n",
       "<div class=\"highwire-cite-authors\"><div class=\"highwire-citation-authors-type highwire-citation-authors-type-author\"><span class=\"contributor-of-type\"><em></em></span> <span class=\"highwire-citation-authors\"><span class=\"highwire-citation-author first\" data-delta=\"0\">Ramani Balu</span>, <span class=\"highwire-citation-author\" data-delta=\"1\">Lindsey McCracken</span>, <span class=\"highwire-citation-author\" data-delta=\"2\">Eric Lancaster</span>, <span class=\"highwire-citation-author\" data-delta=\"3\">Francesc Graus</span>, <span class=\"highwire-citation-author\" data-delta=\"4\">Josep Dalmau</span>, <span class=\"highwire-citation-author\" data-delta=\"5\">Maarten J. Titulaer</span></span></div></div>\n",
       "<div class=\"highwire-cite-extras\"><div class=\"aan-article-citation-variant-list\"><ul class=\"links variants-list inline\"><li class=\"abstract first\"><a class=\"highwire-variant-link variant-abstract \" data-hide-link-title=\"0\" data-icon-position=\"\" href=\"/content/early/2018/12/21/WNL.0000000000006783.abstract\" rel=\"alternate\" title=\"Abstract\">Abstract </a></li>\n",
       "<li class=\"full-textpdf last\"><a class=\"highwire-variant-link variant-full-textpdf \" data-hide-link-title=\"0\" data-icon-position=\"\" href=\"/content/early/2018/12/21/WNL.0000000000006783.full.pdf\" rel=\"alternate\" title=\"Full Text (PDF)\" type=\"application/pdf\">Full Text (PDF) </a></li>\n",
       "</ul></div><span class=\"highwire-foxycart-add-to-cart-ahah highwire-foxycart-add-to-cart-ahah\" data-apath=\"/neurology/early/2018/12/21/WNL.0000000000006783.atom\" data-font-icon=\"icon-shopping-cart\" data-parent-id=\"1301\" data-text=\"Add to Cart (%short-price)\" data-type=\"link\"></span></div>\n",
       "</div>\n",
       "</div></li><li class=\"last even\"><div class=\"highwire-article-citation highwire-citation-type-highwire-article\" data-apath=\"/neurology/early/2018/12/21/WNL.0000000000006746.atom\" data-node-nid=\"165858\" data-pisa=\"neurology;WNL.0000000000006746v1\" data-pisa-master=\"neurology;WNL.0000000000006746\" id=\"node165858\"><div class=\"highwire-cite highwire-cite-highwire-article highwire-citation-aan-list-compact clearfix\">\n",
       "<a class=\"highwire-cite-linked-title\" data-hide-link-title=\"0\" data-icon-position=\"\" href=\"/content/early/2018/12/21/WNL.0000000000006746\"><span class=\"highwire-cite-title\">Readmission after seizure discharge in a nationally representative sample</span></a>\n",
       "<div class=\"highwire-cite-authors\"><div class=\"highwire-citation-authors-type highwire-citation-authors-type-author\"><span class=\"contributor-of-type\"><em></em></span> <span class=\"highwire-citation-authors\"><span class=\"highwire-citation-author first\" data-delta=\"0\">Leah J. Blank</span>, <span class=\"highwire-citation-author\" data-delta=\"1\">James A.G. Crispo</span>, <span class=\"highwire-citation-author\" data-delta=\"2\">Dylan P. Thibault</span>, <span class=\"highwire-citation-author\" data-delta=\"3\">Kathryn A. Davis</span>, <span class=\"highwire-citation-author\" data-delta=\"4\">Brian Litt</span>, <span class=\"highwire-citation-author\" data-delta=\"5\">Allison W. Willis</span></span></div></div>\n",
       "<div class=\"highwire-cite-extras\"><div class=\"aan-article-citation-variant-list\"><ul class=\"links variants-list inline\"><li class=\"abstract first\"><a class=\"highwire-variant-link variant-abstract \" data-hide-link-title=\"0\" data-icon-position=\"\" href=\"/content/early/2018/12/21/WNL.0000000000006746.abstract\" rel=\"alternate\" title=\"Abstract\">Abstract </a></li>\n",
       "<li class=\"full-textpdf last\"><a class=\"highwire-variant-link variant-full-textpdf \" data-hide-link-title=\"0\" data-icon-position=\"\" href=\"/content/early/2018/12/21/WNL.0000000000006746.full.pdf\" rel=\"alternate\" title=\"Full Text (PDF)\" type=\"application/pdf\">Full Text (PDF) </a></li>\n",
       "</ul></div><span class=\"highwire-foxycart-add-to-cart-ahah highwire-foxycart-add-to-cart-ahah\" data-apath=\"/neurology/early/2018/12/21/WNL.0000000000006746.atom\" data-font-icon=\"icon-shopping-cart\" data-parent-id=\"1301\" data-text=\"Add to Cart (%short-price)\" data-type=\"link\"></span></div>\n",
       "</div>\n",
       "</div></li></ul></div></div><div class=\"highwire-list-wrapper highwire-list-pap highwire-article-citation-list\"><h3 class=\"highwire-list-title\">December 19, 2018</h3><div class=\"highwire-list\"><ul id=\"december-19-2018\"><li class=\"first odd\"><div class=\"highwire-article-citation highwire-citation-type-highwire-article\" data-apath=\"/neurology/early/2018/12/19/WNL.0000000000006767.atom\" data-node-nid=\"165735\" data-pisa=\"neurology;WNL.0000000000006767v1\" data-pisa-master=\"neurology;WNL.0000000000006767\" id=\"node165735\"><div class=\"highwire-cite highwire-cite-highwire-article highwire-citation-aan-list-compact clearfix\">\n",
       "<a class=\"highwire-cite-linked-title\" data-hide-link-title=\"0\" data-icon-position=\"\" href=\"/content/early/2018/12/19/WNL.0000000000006767\"><span class=\"highwire-cite-title\">Are lobar microbleeds of diagnostic value in the community?</span></a>\n",
       "<div class=\"highwire-cite-authors\"><div class=\"highwire-citation-authors-type highwire-citation-authors-type-author\"><span class=\"contributor-of-type\"><em></em></span> <span class=\"highwire-citation-authors\"><span class=\"highwire-citation-author first\" data-delta=\"0\">Ashkan Shoamanesh</span>, <span class=\"highwire-citation-author\" data-delta=\"1\">Stephen Salloway</span>, <span class=\"highwire-citation-author\" data-delta=\"2\">Carlos S. Kase</span></span></div></div>\n",
       "<div class=\"highwire-cite-extras\"><div class=\"aan-article-citation-variant-list\"><ul class=\"links variants-list inline\"><li class=\"full-textpdf first last\"><a class=\"highwire-variant-link variant-full-textpdf \" data-hide-link-title=\"0\" data-icon-position=\"\" href=\"/content/early/2018/12/19/WNL.0000000000006767.full.pdf\" rel=\"alternate\" title=\"Full Text (PDF)\" type=\"application/pdf\">Full Text (PDF) </a></li>\n",
       "</ul></div><span class=\"highwire-foxycart-add-to-cart-ahah highwire-foxycart-add-to-cart-ahah\" data-apath=\"/neurology/early/2018/12/19/WNL.0000000000006767.atom\" data-font-icon=\"icon-shopping-cart\" data-parent-id=\"1301\" data-text=\"Add to Cart (%short-price)\" data-type=\"link\"></span></div>\n",
       "</div>\n",
       "</div></li><li class=\"even\"><div class=\"highwire-article-citation highwire-citation-type-highwire-article\" data-apath=\"/neurology/early/2018/12/19/WNL.0000000000006747.atom\" data-node-nid=\"165736\" data-pisa=\"neurology;WNL.0000000000006747v1\" data-pisa-master=\"neurology;WNL.0000000000006747\" id=\"node165736\"><div class=\"highwire-cite highwire-cite-highwire-article highwire-citation-aan-list-compact clearfix\">\n",
       "<a class=\"highwire-cite-linked-title\" data-hide-link-title=\"0\" data-icon-position=\"\" href=\"/content/early/2018/12/19/WNL.0000000000006747\"><span class=\"highwire-cite-title title-with-subtitle\">Cerebral palsy to cerebral palsy spectrum disorder</span><span class=\"highwire-cite-subtitle\">Time for a name change?</span></a>\n",
       "<div class=\"highwire-cite-authors\"><div class=\"highwire-citation-authors-type highwire-citation-authors-type-author\"><span class=\"contributor-of-type\"><em></em></span> <span class=\"highwire-citation-authors\"><span class=\"highwire-citation-author first\" data-delta=\"0\">Michael Shevell</span></span></div></div>\n",
       "<div class=\"highwire-cite-extras\"><div class=\"aan-article-citation-variant-list\"><ul class=\"links variants-list inline\"><li class=\"abstract first\"><a class=\"highwire-variant-link variant-abstract \" data-hide-link-title=\"0\" data-icon-position=\"\" href=\"/content/early/2018/12/19/WNL.0000000000006747.abstract\" rel=\"alternate\" title=\"Abstract\">Abstract </a></li>\n",
       "<li class=\"full-textpdf last\"><a class=\"highwire-variant-link variant-full-textpdf \" data-hide-link-title=\"0\" data-icon-position=\"\" href=\"/content/early/2018/12/19/WNL.0000000000006747.full.pdf\" rel=\"alternate\" title=\"Full Text (PDF)\" type=\"application/pdf\">Full Text (PDF) </a></li>\n",
       "</ul></div><span class=\"highwire-foxycart-add-to-cart-ahah highwire-foxycart-add-to-cart-ahah\" data-apath=\"/neurology/early/2018/12/19/WNL.0000000000006747.atom\" data-font-icon=\"icon-shopping-cart\" data-parent-id=\"1301\" data-text=\"Add to Cart (%short-price)\" data-type=\"link\"></span></div>\n",
       "</div>\n",
       "</div></li><li class=\"odd\"><div class=\"highwire-article-citation highwire-citation-type-highwire-article\" data-apath=\"/neurology/early/2018/12/19/WNL.0000000000006819.atom\" data-node-nid=\"165737\" data-pisa=\"neurology;WNL.0000000000006819v1\" data-pisa-master=\"neurology;WNL.0000000000006819\" id=\"node165737\"><div class=\"highwire-cite highwire-cite-highwire-article highwire-citation-aan-list-compact clearfix\">\n",
       "<a class=\"highwire-cite-linked-title\" data-hide-link-title=\"0\" data-icon-position=\"\" href=\"/content/early/2018/12/19/WNL.0000000000006819\"><span class=\"highwire-cite-title\">Early onset as a marker for disease severity in FSHD</span></a>\n",
       "<div class=\"highwire-cite-authors\"><div class=\"highwire-citation-authors-type highwire-citation-authors-type-author\"><span class=\"contributor-of-type\"><em></em></span> <span class=\"highwire-citation-authors\"><span class=\"highwire-citation-author first\" data-delta=\"0\">Rianne J.M. Goselink</span>, <span class=\"highwire-citation-author\" data-delta=\"1\">Karlien Mul</span>, <span class=\"highwire-citation-author\" data-delta=\"2\">Caroline R. van Kernebeek</span>, <span class=\"highwire-citation-author\" data-delta=\"3\">Richard J.L.F. Lemmers</span>, <span class=\"highwire-citation-author\" data-delta=\"4\">Silvère M. van der Maarel</span>, <span class=\"highwire-citation-author\" data-delta=\"5\">Tim H.A. Schreuder</span>, <span class=\"highwire-citation-author\" data-delta=\"6\">Corrie E. Erasmus</span>, <span class=\"highwire-citation-author\" data-delta=\"7\">George W. Padberg</span>, <span class=\"highwire-citation-author\" data-delta=\"8\">Jeffrey M. Statland</span>, <span class=\"highwire-citation-author\" data-delta=\"9\">Nicol C. Voermans</span>, <span class=\"highwire-citation-author\" data-delta=\"10\">Baziel G.M. van Engelen</span></span></div></div>\n",
       "<div class=\"highwire-cite-extras\"><div class=\"aan-article-citation-variant-list\"><ul class=\"links variants-list inline\"><li class=\"abstract first\"><a class=\"highwire-variant-link variant-abstract \" data-hide-link-title=\"0\" data-icon-position=\"\" href=\"/content/early/2018/12/19/WNL.0000000000006819.abstract\" rel=\"alternate\" title=\"Abstract\">Abstract </a></li>\n",
       "<li class=\"full-textpdf last\"><a class=\"highwire-variant-link variant-full-textpdf \" data-hide-link-title=\"0\" data-icon-position=\"\" href=\"/content/early/2018/12/19/WNL.0000000000006819.full.pdf\" rel=\"alternate\" title=\"Full Text (PDF)\" type=\"application/pdf\">Full Text (PDF) </a></li>\n",
       "</ul></div><span class=\"highwire-foxycart-add-to-cart-ahah highwire-foxycart-add-to-cart-ahah\" data-apath=\"/neurology/early/2018/12/19/WNL.0000000000006819.atom\" data-font-icon=\"icon-shopping-cart\" data-parent-id=\"1301\" data-text=\"Add to Cart (%short-price)\" data-type=\"link\"></span></div>\n",
       "</div>\n",
       "</div></li><li class=\"even\"><div class=\"highwire-article-citation highwire-citation-type-highwire-article\" data-apath=\"/neurology/early/2018/12/19/WNL.0000000000006716.atom\" data-node-nid=\"165738\" data-pisa=\"neurology;WNL.0000000000006716v1\" data-pisa-master=\"neurology;WNL.0000000000006716\" id=\"node165738\"><div class=\"highwire-cite highwire-cite-highwire-article highwire-citation-aan-list-compact clearfix\">\n",
       "<a class=\"highwire-cite-linked-title\" data-hide-link-title=\"0\" data-icon-position=\"\" href=\"/content/early/2018/12/19/WNL.0000000000006716\"><span class=\"highwire-cite-title title-with-subtitle\">Neurologic and neuroscience education</span><span class=\"highwire-cite-subtitle\">Mitigating neurophobia to mentor health care providers</span></a>\n",
       "<div class=\"highwire-cite-authors\"><div class=\"highwire-citation-authors-type highwire-citation-authors-type-author\"><span class=\"contributor-of-type\"><em></em></span> <span class=\"highwire-citation-authors\"><span class=\"highwire-citation-author first\" data-delta=\"0\">Stefano Sandrone</span>, <span class=\"highwire-citation-author\" data-delta=\"1\">Jimmy V. Berthaud</span>, <span class=\"highwire-citation-author\" data-delta=\"2\">Miguel Chuquilin</span>, <span class=\"highwire-citation-author\" data-delta=\"3\">Jacquelyne Cios</span>, <span class=\"highwire-citation-author\" data-delta=\"4\">Pritha Ghosh</span>, <span class=\"highwire-citation-author\" data-delta=\"5\">Rachel J. Gottlieb-Smith</span>, <span class=\"highwire-citation-author\" data-delta=\"6\">Hani Kushlaf</span>, <span class=\"highwire-citation-author\" data-delta=\"7\">Sneha Mantri</span>, <span class=\"highwire-citation-author\" data-delta=\"8\">Neil Masangkay</span>, <span class=\"highwire-citation-author\" data-delta=\"9\">Daniel L. Menkes</span>, <span class=\"highwire-citation-author\" data-delta=\"10\">Kathryn S. Nevel</span>, <span class=\"highwire-citation-author\" data-delta=\"11\">Harini Sarva</span>, <span class=\"highwire-citation-author\" data-delta=\"12\">Logan D. Schneider</span></span></div></div>\n",
       "<div class=\"highwire-cite-extras\"><div class=\"aan-article-citation-variant-list\"><ul class=\"links variants-list inline\"><li class=\"abstract first\"><a class=\"highwire-variant-link variant-abstract \" data-hide-link-title=\"0\" data-icon-position=\"\" href=\"/content/early/2018/12/19/WNL.0000000000006716.abstract\" rel=\"alternate\" title=\"Abstract\">Abstract </a></li>\n",
       "<li class=\"full-textpdf last\"><a class=\"highwire-variant-link variant-full-textpdf \" data-hide-link-title=\"0\" data-icon-position=\"\" href=\"/content/early/2018/12/19/WNL.0000000000006716.full.pdf\" rel=\"alternate\" title=\"Full Text (PDF)\" type=\"application/pdf\">Full Text (PDF) </a></li>\n",
       "</ul></div><span class=\"highwire-foxycart-add-to-cart-ahah highwire-foxycart-add-to-cart-ahah\" data-apath=\"/neurology/early/2018/12/19/WNL.0000000000006716.atom\" data-font-icon=\"icon-shopping-cart\" data-parent-id=\"1301\" data-text=\"Add to Cart (%short-price)\" data-type=\"link\"></span></div>\n",
       "</div>\n",
       "</div></li><li class=\"odd\"><div class=\"highwire-article-citation highwire-citation-type-highwire-article\" data-apath=\"/neurology/early/2018/12/19/WNL.0000000000006782.atom\" data-node-nid=\"165739\" data-pisa=\"neurology;WNL.0000000000006782v1\" data-pisa-master=\"neurology;WNL.0000000000006782\" id=\"node165739\"><div class=\"highwire-cite highwire-cite-highwire-article highwire-citation-aan-list-compact clearfix\">\n",
       "<a class=\"highwire-cite-linked-title\" data-hide-link-title=\"0\" data-icon-position=\"\" href=\"/content/early/2018/12/19/WNL.0000000000006782\"><span class=\"highwire-cite-title title-with-subtitle\">Stride management assist exoskeleton vs functional gait training in stroke</span><span class=\"highwire-cite-subtitle\">A randomized trial</span></a>\n",
       "<div class=\"highwire-cite-authors\"><div class=\"highwire-citation-authors-type highwire-citation-authors-type-author\"><span class=\"contributor-of-type\"><em></em></span> <span class=\"highwire-citation-authors\"><span class=\"highwire-citation-author first\" data-delta=\"0\">Arun Jayaraman</span>, <span class=\"highwire-citation-author\" data-delta=\"1\">Megan K. O'Brien</span>, <span class=\"highwire-citation-author\" data-delta=\"2\">Sangeetha Madhavan</span>, <span class=\"highwire-citation-author\" data-delta=\"3\">Chaithanya K. Mummidisetty</span>, <span class=\"highwire-citation-author\" data-delta=\"4\">Heidi R. Roth</span>, <span class=\"highwire-citation-author\" data-delta=\"5\">Kristen Hohl</span>, <span class=\"highwire-citation-author\" data-delta=\"6\">Annie Tapp</span>, <span class=\"highwire-citation-author\" data-delta=\"7\">Kimberly Brennan</span>, <span class=\"highwire-citation-author\" data-delta=\"8\">Masha Kocherginsky</span>, <span class=\"highwire-citation-author\" data-delta=\"9\">Kenton J. Williams</span>, <span class=\"highwire-citation-author\" data-delta=\"10\">Hideaki Takahashi</span>, <span class=\"highwire-citation-author\" data-delta=\"11\">William Z. Rymer</span></span></div></div>\n",
       "<div class=\"highwire-cite-extras\"><div class=\"aan-article-citation-variant-list\"><ul class=\"links variants-list inline\"><li class=\"abstract first\"><a class=\"highwire-variant-link variant-abstract \" data-hide-link-title=\"0\" data-icon-position=\"\" href=\"/content/early/2018/12/19/WNL.0000000000006782.abstract\" rel=\"alternate\" title=\"Abstract\">Abstract </a></li>\n",
       "<li class=\"full-textpdf last\"><a class=\"highwire-variant-link variant-full-textpdf \" data-hide-link-title=\"0\" data-icon-position=\"\" href=\"/content/early/2018/12/19/WNL.0000000000006782.full.pdf\" rel=\"alternate\" title=\"Full Text (PDF)\" type=\"application/pdf\">Full Text (PDF) </a></li>\n",
       "</ul></div><span class=\"highwire-foxycart-add-to-cart-ahah highwire-foxycart-add-to-cart-ahah\" data-apath=\"/neurology/early/2018/12/19/WNL.0000000000006782.atom\" data-font-icon=\"icon-shopping-cart\" data-parent-id=\"1301\" data-text=\"Add to Cart (%short-price)\" data-type=\"link\"></span></div>\n",
       "</div>\n",
       "</div></li><li class=\"even\"><div class=\"highwire-article-citation highwire-citation-type-highwire-article\" data-apath=\"/neurology/early/2018/12/19/WNL.0000000000006765.atom\" data-node-nid=\"165740\" data-pisa=\"neurology;WNL.0000000000006765v1\" data-pisa-master=\"neurology;WNL.0000000000006765\" id=\"node165740\"><div class=\"highwire-cite highwire-cite-highwire-article highwire-citation-aan-list-compact clearfix\">\n",
       "<a class=\"highwire-cite-linked-title\" data-hide-link-title=\"0\" data-icon-position=\"\" href=\"/content/early/2018/12/19/WNL.0000000000006765\"><span class=\"highwire-cite-title title-with-subtitle\">Postconvulsive central apnea and asystole</span><span class=\"highwire-cite-subtitle\">A risk marker for sudden unexpected death in epilepsy (SUDEP)?</span></a>\n",
       "<div class=\"highwire-cite-authors\"><div class=\"highwire-citation-authors-type highwire-citation-authors-type-author\"><span class=\"contributor-of-type\"><em></em></span> <span class=\"highwire-citation-authors\"><span class=\"highwire-citation-author first\" data-delta=\"0\">Erik K. St. Louis</span>, <span class=\"highwire-citation-author\" data-delta=\"1\">Barbara A. Dworetzky</span></span></div></div>\n",
       "<div class=\"highwire-cite-extras\"><div class=\"aan-article-citation-variant-list\"><ul class=\"links variants-list inline\"><li class=\"full-textpdf first last\"><a class=\"highwire-variant-link variant-full-textpdf \" data-hide-link-title=\"0\" data-icon-position=\"\" href=\"/content/early/2018/12/19/WNL.0000000000006765.full.pdf\" rel=\"alternate\" title=\"Full Text (PDF)\" type=\"application/pdf\">Full Text (PDF) </a></li>\n",
       "</ul></div><span class=\"highwire-foxycart-add-to-cart-ahah highwire-foxycart-add-to-cart-ahah\" data-apath=\"/neurology/early/2018/12/19/WNL.0000000000006765.atom\" data-font-icon=\"icon-shopping-cart\" data-parent-id=\"1301\" data-text=\"Add to Cart (%short-price)\" data-type=\"link\"></span></div>\n",
       "</div>\n",
       "</div></li><li class=\"odd\"><div class=\"highwire-article-citation highwire-citation-type-highwire-article\" data-apath=\"/neurology/early/2018/12/19/WNL.0000000000006785.atom\" data-node-nid=\"165741\" data-pisa=\"neurology;WNL.0000000000006785v1\" data-pisa-master=\"neurology;WNL.0000000000006785\" id=\"node165741\"><div class=\"highwire-cite highwire-cite-highwire-article highwire-citation-aan-list-compact clearfix\">\n",
       "<a class=\"highwire-cite-linked-title\" data-hide-link-title=\"0\" data-icon-position=\"\" href=\"/content/early/2018/12/19/WNL.0000000000006785\"><span class=\"highwire-cite-title\">Postconvulsive central apnea as a biomarker for sudden unexpected death in epilepsy (SUDEP)</span></a>\n",
       "<div class=\"highwire-cite-authors\"><div class=\"highwire-citation-authors-type highwire-citation-authors-type-author\"><span class=\"contributor-of-type\"><em></em></span> <span class=\"highwire-citation-authors\"><span class=\"highwire-citation-author first\" data-delta=\"0\">Laura Vilella</span>, <span class=\"highwire-citation-author\" data-delta=\"1\">Nuria Lacuey</span>, <span class=\"highwire-citation-author\" data-delta=\"2\">Johnson P. Hampson</span>, <span class=\"highwire-citation-author\" data-delta=\"3\">M.R. Sandhya Rani</span>, <span class=\"highwire-citation-author\" data-delta=\"4\">Rup K. Sainju</span>, <span class=\"highwire-citation-author\" data-delta=\"5\">Daniel Friedman</span>, <span class=\"highwire-citation-author\" data-delta=\"6\">Maromi Nei</span>, <span class=\"highwire-citation-author\" data-delta=\"7\">Kingman Strohl</span>, <span class=\"highwire-citation-author\" data-delta=\"8\">Catherine Scott</span>, <span class=\"highwire-citation-author\" data-delta=\"9\">Brian K. Gehlbach</span>, <span class=\"highwire-citation-author\" data-delta=\"10\">Bilal Zonjy</span>, <span class=\"highwire-citation-author\" data-delta=\"11\">Norma J. Hupp</span>, <span class=\"highwire-citation-author\" data-delta=\"12\">Anita Zaremba</span>, <span class=\"highwire-citation-author\" data-delta=\"13\">Nassim Shafiabadi</span>, <span class=\"highwire-citation-author\" data-delta=\"14\">Xiuhe Zhao</span>, <span class=\"highwire-citation-author\" data-delta=\"15\">Victoria Reick-Mitrisin</span>, <span class=\"highwire-citation-author\" data-delta=\"16\">Stephan Schuele</span>, <span class=\"highwire-citation-author\" data-delta=\"17\">Jennifer Ogren</span>, <span class=\"highwire-citation-author\" data-delta=\"18\">Ronald M. Harper</span>, <span class=\"highwire-citation-author\" data-delta=\"19\">Beate Diehl</span>, <span class=\"highwire-citation-author\" data-delta=\"20\">Lisa Bateman</span>, <span class=\"highwire-citation-author\" data-delta=\"21\">Orrin Devinsky</span>, <span class=\"highwire-citation-author\" data-delta=\"22\">George B. Richerson</span>, <span class=\"highwire-citation-author\" data-delta=\"23\">Philippe Ryvlin</span>, <span class=\"highwire-citation-author\" data-delta=\"24\">Samden D. Lhatoo</span></span></div></div>\n",
       "<div class=\"highwire-cite-extras\"><div class=\"aan-article-citation-variant-list\"><ul class=\"links variants-list inline\"><li class=\"abstract first\"><a class=\"highwire-variant-link variant-abstract \" data-hide-link-title=\"0\" data-icon-position=\"\" href=\"/content/early/2018/12/19/WNL.0000000000006785.abstract\" rel=\"alternate\" title=\"Abstract\">Abstract </a></li>\n",
       "<li class=\"full-textpdf last\"><a class=\"highwire-variant-link variant-full-textpdf \" data-hide-link-title=\"0\" data-icon-position=\"\" href=\"/content/early/2018/12/19/WNL.0000000000006785.full.pdf\" rel=\"alternate\" title=\"Full Text (PDF)\" type=\"application/pdf\">Full Text (PDF) </a></li>\n",
       "</ul></div><span class=\"highwire-foxycart-add-to-cart-ahah highwire-foxycart-add-to-cart-ahah\" data-apath=\"/neurology/early/2018/12/19/WNL.0000000000006785.atom\" data-font-icon=\"icon-shopping-cart\" data-parent-id=\"1301\" data-text=\"Add to Cart (%short-price)\" data-type=\"link\"></span></div>\n",
       "</div>\n",
       "</div></li><li class=\"even\"><div class=\"highwire-article-citation highwire-citation-type-highwire-article\" data-apath=\"/neurology/early/2018/12/19/WNL.0000000000006784.atom\" data-node-nid=\"165732\" data-pisa=\"neurology;WNL.0000000000006784v1\" data-pisa-master=\"neurology;WNL.0000000000006784\" id=\"node165732\"><div class=\"highwire-cite highwire-cite-highwire-article highwire-citation-aan-list-compact clearfix\">\n",
       "<a class=\"highwire-cite-linked-title\" data-hide-link-title=\"0\" data-icon-position=\"\" href=\"/content/early/2018/12/19/WNL.0000000000006784\"><span class=\"highwire-cite-title title-with-subtitle\">Lifestyle and neurocognition in older adults with cognitive impairments</span><span class=\"highwire-cite-subtitle\">A randomized trial</span></a>\n",
       "<div class=\"highwire-cite-authors\"><div class=\"highwire-citation-authors-type highwire-citation-authors-type-author\"><span class=\"contributor-of-type\"><em></em></span> <span class=\"highwire-citation-authors\"><span class=\"highwire-citation-author first\" data-delta=\"0\">James A. Blumenthal</span>, <span class=\"highwire-citation-author\" data-delta=\"1\">Patrick J. Smith</span>, <span class=\"highwire-citation-author\" data-delta=\"2\">Stephanie Mabe</span>, <span class=\"highwire-citation-author\" data-delta=\"3\">Alan Hinderliter</span>, <span class=\"highwire-citation-author\" data-delta=\"4\">Pao-Hwa Lin</span>, <span class=\"highwire-citation-author\" data-delta=\"5\">Lawrence Liao</span>, <span class=\"highwire-citation-author\" data-delta=\"6\">Kathleen A. Welsh-Bohmer</span>, <span class=\"highwire-citation-author\" data-delta=\"7\">Jeffrey N. Browndyke</span>, <span class=\"highwire-citation-author\" data-delta=\"8\">William E. Kraus</span>, <span class=\"highwire-citation-author\" data-delta=\"9\">P. Murali Doraiswamy</span>, <span class=\"highwire-citation-author\" data-delta=\"10\">James R. Burke</span>, <span class=\"highwire-citation-author\" data-delta=\"11\">Andrew Sherwood</span></span></div></div>\n",
       "<div class=\"highwire-cite-extras\"><div class=\"aan-article-citation-variant-list\"><ul class=\"links variants-list inline\"><li class=\"abstract first\"><a class=\"highwire-variant-link variant-abstract \" data-hide-link-title=\"0\" data-icon-position=\"\" href=\"/content/early/2018/12/19/WNL.0000000000006784.abstract\" rel=\"alternate\" title=\"Abstract\">Abstract </a></li>\n",
       "<li class=\"full-textpdf last\"><a class=\"highwire-variant-link variant-full-textpdf \" data-hide-link-title=\"0\" data-icon-position=\"\" href=\"/content/early/2018/12/19/WNL.0000000000006784.full.pdf\" rel=\"alternate\" title=\"Full Text (PDF)\" type=\"application/pdf\">Full Text (PDF) </a></li>\n",
       "</ul></div><span class=\"highwire-foxycart-add-to-cart-ahah highwire-foxycart-add-to-cart-ahah\" data-apath=\"/neurology/early/2018/12/19/WNL.0000000000006784.atom\" data-font-icon=\"icon-shopping-cart\" data-parent-id=\"1301\" data-text=\"Add to Cart (%short-price)\" data-type=\"link\"></span></div>\n",
       "</div>\n",
       "</div></li><li class=\"odd\"><div class=\"highwire-article-citation highwire-citation-type-highwire-article\" data-apath=\"/neurology/early/2018/12/19/WNL.0000000000006777.atom\" data-node-nid=\"165733\" data-pisa=\"neurology;WNL.0000000000006777v1\" data-pisa-master=\"neurology;WNL.0000000000006777\" id=\"node165733\"><div class=\"highwire-cite highwire-cite-highwire-article highwire-citation-aan-list-compact clearfix\">\n",
       "<a class=\"highwire-cite-linked-title\" data-hide-link-title=\"0\" data-icon-position=\"\" href=\"/content/early/2018/12/19/WNL.0000000000006777\"><span class=\"highwire-cite-title title-with-subtitle\">Hypoxemia following generalized convulsive seizures</span><span class=\"highwire-cite-subtitle\">Risk factors and effect of oxygen therapy</span></a>\n",
       "<div class=\"highwire-cite-authors\"><div class=\"highwire-citation-authors-type highwire-citation-authors-type-author\"><span class=\"contributor-of-type\"><em></em></span> <span class=\"highwire-citation-authors\"><span class=\"highwire-citation-author first\" data-delta=\"0\">Sylvain Rheims</span>, <span class=\"highwire-citation-author\" data-delta=\"1\">Blanca Mercedes Alvarez</span>, <span class=\"highwire-citation-author\" data-delta=\"2\">Veriano Alexandre</span>, <span class=\"highwire-citation-author\" data-delta=\"3\">Jonathan Curot</span>, <span class=\"highwire-citation-author\" data-delta=\"4\">Louis Maillard</span>, <span class=\"highwire-citation-author\" data-delta=\"5\">Fabrice Bartolomei</span>, <span class=\"highwire-citation-author\" data-delta=\"6\">Philippe Derambure</span>, <span class=\"highwire-citation-author\" data-delta=\"7\">Edouard Hirsch</span>, <span class=\"highwire-citation-author\" data-delta=\"8\">Véronique Michel</span>, <span class=\"highwire-citation-author\" data-delta=\"9\">Francine Chassoux</span>, <span class=\"highwire-citation-author\" data-delta=\"10\">Didier Tourniaire</span>, <span class=\"highwire-citation-author\" data-delta=\"11\">Arielle Crespel</span>, <span class=\"highwire-citation-author\" data-delta=\"12\">Arnaud Biraben</span>, <span class=\"highwire-citation-author\" data-delta=\"13\">Vincent Navarro</span>, <span class=\"highwire-citation-author\" data-delta=\"14\">Philippe Kahane</span>, <span class=\"highwire-citation-author\" data-delta=\"15\">Bertrand De Toffol</span>, <span class=\"highwire-citation-author\" data-delta=\"16\">Pierre Thomas</span>, <span class=\"highwire-citation-author\" data-delta=\"17\">Sarah Rosenberg</span>, <span class=\"highwire-citation-author\" data-delta=\"18\">Luc Valton</span>, <span class=\"highwire-citation-author\" data-delta=\"19\">Laurent Bezin</span>, <span class=\"highwire-citation-author\" data-delta=\"20\">Philippe Ryvlin</span>, <span class=\"highwire-citation-author\" data-delta=\"21\"><span class=\"nlm-collab\" data-hwp-id=\"collab-1\">on behalf of the REPO<span class=\"nlm-sub\">2</span>MSE study group</span></span></span></div></div>\n",
       "<div class=\"highwire-cite-extras\"><div class=\"aan-article-citation-variant-list\"><ul class=\"links variants-list inline\"><li class=\"abstract first\"><a class=\"highwire-variant-link variant-abstract \" data-hide-link-title=\"0\" data-icon-position=\"\" href=\"/content/early/2018/12/19/WNL.0000000000006777.abstract\" rel=\"alternate\" title=\"Abstract\">Abstract </a></li>\n",
       "<li class=\"full-textpdf last\"><a class=\"highwire-variant-link variant-full-textpdf \" data-hide-link-title=\"0\" data-icon-position=\"\" href=\"/content/early/2018/12/19/WNL.0000000000006777.full.pdf\" rel=\"alternate\" title=\"Full Text (PDF)\" type=\"application/pdf\">Full Text (PDF) </a></li>\n",
       "</ul></div><span class=\"highwire-foxycart-add-to-cart-ahah highwire-foxycart-add-to-cart-ahah\" data-apath=\"/neurology/early/2018/12/19/WNL.0000000000006777.atom\" data-font-icon=\"icon-shopping-cart\" data-parent-id=\"1301\" data-text=\"Add to Cart (%short-price)\" data-type=\"link\"></span></div>\n",
       "</div>\n",
       "</div></li><li class=\"last even\"><div class=\"highwire-article-citation highwire-citation-type-highwire-article\" data-apath=\"/neurology/early/2018/12/19/WNL.0000000000006780.atom\" data-node-nid=\"165734\" data-pisa=\"neurology;WNL.0000000000006780v1\" data-pisa-master=\"neurology;WNL.0000000000006780\" id=\"node165734\"><div class=\"highwire-cite highwire-cite-highwire-article highwire-citation-aan-list-compact clearfix\">\n",
       "<a class=\"highwire-cite-linked-title\" data-hide-link-title=\"0\" data-icon-position=\"\" href=\"/content/early/2018/12/19/WNL.0000000000006780\"><span class=\"highwire-cite-title title-with-subtitle\">Cerebral microbleeds</span><span class=\"highwire-cite-subtitle\">Prevalence and relationship to amyloid burden</span></a>\n",
       "<div class=\"highwire-cite-authors\"><div class=\"highwire-citation-authors-type highwire-citation-authors-type-author\"><span class=\"contributor-of-type\"><em></em></span> <span class=\"highwire-citation-authors\"><span class=\"highwire-citation-author first\" data-delta=\"0\">Jonathan Graff-Radford</span>, <span class=\"highwire-citation-author\" data-delta=\"1\">Hugo Botha</span>, <span class=\"highwire-citation-author\" data-delta=\"2\">Alejandro A. Rabinstein</span>, <span class=\"highwire-citation-author\" data-delta=\"3\">Jeffrey L. Gunter</span>, <span class=\"highwire-citation-author\" data-delta=\"4\">Scott A. Przybelski</span>, <span class=\"highwire-citation-author\" data-delta=\"5\">Timothy Lesnick</span>, <span class=\"highwire-citation-author\" data-delta=\"6\">John Huston</span>, <span class=\"highwire-citation-author\" data-delta=\"7\">Kelly D. Flemming</span>, <span class=\"highwire-citation-author\" data-delta=\"8\">Gregory M. Preboske</span>, <span class=\"highwire-citation-author\" data-delta=\"9\">Matthew L. Senjem</span>, <span class=\"highwire-citation-author\" data-delta=\"10\">Robert D. Brown</span>, <span class=\"highwire-citation-author\" data-delta=\"11\">Michelle M. Mielke</span>, <span class=\"highwire-citation-author\" data-delta=\"12\">Rosebud O. Roberts</span>, <span class=\"highwire-citation-author\" data-delta=\"13\">Val J. Lowe</span>, <span class=\"highwire-citation-author\" data-delta=\"14\">David S. Knopman</span>, <span class=\"highwire-citation-author\" data-delta=\"15\">Ronald C. Petersen</span>, <span class=\"highwire-citation-author\" data-delta=\"16\">Walter Kremers</span>, <span class=\"highwire-citation-author\" data-delta=\"17\">Prashanthi Vemuri</span>, <span class=\"highwire-citation-author\" data-delta=\"18\">Clifford R. Jack</span>, <span class=\"highwire-citation-author\" data-delta=\"19\">Kejal Kantarci</span></span></div></div>\n",
       "<div class=\"highwire-cite-extras\"><div class=\"aan-article-citation-variant-list\"><ul class=\"links variants-list inline\"><li class=\"abstract first\"><a class=\"highwire-variant-link variant-abstract \" data-hide-link-title=\"0\" data-icon-position=\"\" href=\"/content/early/2018/12/19/WNL.0000000000006780.abstract\" rel=\"alternate\" title=\"Abstract\">Abstract </a></li>\n",
       "<li class=\"full-textpdf last\"><a class=\"highwire-variant-link variant-full-textpdf \" data-hide-link-title=\"0\" data-icon-position=\"\" href=\"/content/early/2018/12/19/WNL.0000000000006780.full.pdf\" rel=\"alternate\" title=\"Full Text (PDF)\" type=\"application/pdf\">Full Text (PDF) </a></li>\n",
       "</ul></div><span class=\"highwire-foxycart-add-to-cart-ahah highwire-foxycart-add-to-cart-ahah\" data-apath=\"/neurology/early/2018/12/19/WNL.0000000000006780.atom\" data-font-icon=\"icon-shopping-cart\" data-parent-id=\"1301\" data-text=\"Add to Cart (%short-price)\" data-type=\"link\"></span></div>\n",
       "</div>\n",
       "</div></li></ul></div></div><div class=\"highwire-list-wrapper highwire-list-pap highwire-article-citation-list\"><h3 class=\"highwire-list-title\">December 14, 2018</h3><div class=\"highwire-list\"><ul id=\"december-14-2018\"><li class=\"first odd\"><div class=\"highwire-article-citation highwire-citation-type-highwire-article\" data-apath=\"/neurology/early/2018/12/14/WNL.0000000000006715.atom\" data-node-nid=\"165720\" data-pisa=\"neurology;WNL.0000000000006715v1\" data-pisa-master=\"neurology;WNL.0000000000006715\" id=\"node165720\"><div class=\"highwire-cite highwire-cite-highwire-article highwire-citation-aan-list-compact clearfix\">\n",
       "<a class=\"highwire-cite-linked-title\" data-hide-link-title=\"0\" data-icon-position=\"\" href=\"/content/early/2018/12/14/WNL.0000000000006715\"><span class=\"highwire-cite-title title-with-subtitle\">Predicting stroke outcome</span><span class=\"highwire-cite-subtitle\">Role of a biomarker panel</span></a>\n",
       "<div class=\"highwire-cite-authors\"><div class=\"highwire-citation-authors-type highwire-citation-authors-type-author\"><span class=\"contributor-of-type\"><em></em></span> <span class=\"highwire-citation-authors\"><span class=\"highwire-citation-author first\" data-delta=\"0\">Glen C. Jickling</span>, <span class=\"highwire-citation-author\" data-delta=\"1\">Thiago L. Russo</span></span></div></div>\n",
       "<div class=\"highwire-cite-extras\"><div class=\"aan-article-citation-variant-list\"><ul class=\"links variants-list inline\"><li class=\"full-textpdf first last\"><a class=\"highwire-variant-link variant-full-textpdf \" data-hide-link-title=\"0\" data-icon-position=\"\" href=\"/content/early/2018/12/14/WNL.0000000000006715.full.pdf\" rel=\"alternate\" title=\"Full Text (PDF)\" type=\"application/pdf\">Full Text (PDF) </a></li>\n",
       "</ul></div><span class=\"highwire-foxycart-add-to-cart-ahah highwire-foxycart-add-to-cart-ahah\" data-apath=\"/neurology/early/2018/12/14/WNL.0000000000006715.atom\" data-font-icon=\"icon-shopping-cart\" data-parent-id=\"1301\" data-text=\"Add to Cart (%short-price)\" data-type=\"link\"></span></div>\n",
       "</div>\n",
       "</div></li><li class=\"even\"><div class=\"highwire-article-citation highwire-citation-type-highwire-article\" data-apath=\"/neurology/early/2018/12/14/WNL.0000000000006779.atom\" data-node-nid=\"165721\" data-pisa=\"neurology;WNL.0000000000006779v1\" data-pisa-master=\"neurology;WNL.0000000000006779\" id=\"node165721\"><div class=\"highwire-cite highwire-cite-highwire-article highwire-citation-aan-list-compact clearfix\">\n",
       "<a class=\"highwire-cite-linked-title\" data-hide-link-title=\"0\" data-icon-position=\"\" href=\"/content/early/2018/12/14/WNL.0000000000006779\"><span class=\"highwire-cite-title\">Prolonged allocentric navigation deficits indicate hippocampal damage in TGA</span></a>\n",
       "<div class=\"highwire-cite-authors\"><div class=\"highwire-citation-authors-type highwire-citation-authors-type-author\"><span class=\"contributor-of-type\"><em></em></span> <span class=\"highwire-citation-authors\"><span class=\"highwire-citation-author first\" data-delta=\"0\">Florian Schöberl</span>, <span class=\"highwire-citation-author\" data-delta=\"1\">Stephanie Irving</span>, <span class=\"highwire-citation-author\" data-delta=\"2\">Cauchy Pradhan</span>, <span class=\"highwire-citation-author\" data-delta=\"3\">Stanislavs Bardins</span>, <span class=\"highwire-citation-author\" data-delta=\"4\">Christoph Trapp</span>, <span class=\"highwire-citation-author\" data-delta=\"5\">Erich Schneider</span>, <span class=\"highwire-citation-author\" data-delta=\"6\">Günter Kugler</span>, <span class=\"highwire-citation-author\" data-delta=\"7\">Peter Bartenstein</span>, <span class=\"highwire-citation-author\" data-delta=\"8\">Marianne Dieterich</span>, <span class=\"highwire-citation-author\" data-delta=\"9\">Thomas Brandt</span>, <span class=\"highwire-citation-author\" data-delta=\"10\">Andreas Zwergal</span></span></div></div>\n",
       "<div class=\"highwire-cite-extras\"><div class=\"aan-article-citation-variant-list\"><ul class=\"links variants-list inline\"><li class=\"abstract first\"><a class=\"highwire-variant-link variant-abstract \" data-hide-link-title=\"0\" data-icon-position=\"\" href=\"/content/early/2018/12/14/WNL.0000000000006779.abstract\" rel=\"alternate\" title=\"Abstract\">Abstract </a></li>\n",
       "<li class=\"full-textpdf last\"><a class=\"highwire-variant-link variant-full-textpdf \" data-hide-link-title=\"0\" data-icon-position=\"\" href=\"/content/early/2018/12/14/WNL.0000000000006779.full.pdf\" rel=\"alternate\" title=\"Full Text (PDF)\" type=\"application/pdf\">Full Text (PDF) </a></li>\n",
       "</ul></div><span class=\"highwire-foxycart-add-to-cart-ahah highwire-foxycart-add-to-cart-ahah\" data-apath=\"/neurology/early/2018/12/14/WNL.0000000000006779.atom\" data-font-icon=\"icon-shopping-cart\" data-parent-id=\"1301\" data-text=\"Add to Cart (%short-price)\" data-type=\"link\"></span></div>\n",
       "</div>\n",
       "</div></li><li class=\"odd\"><div class=\"highwire-article-citation highwire-citation-type-highwire-article\" data-apath=\"/neurology/early/2018/12/14/WNL.0000000000006776.atom\" data-node-nid=\"165722\" data-pisa=\"neurology;WNL.0000000000006776v1\" data-pisa-master=\"neurology;WNL.0000000000006776\" id=\"node165722\"><div class=\"highwire-cite highwire-cite-highwire-article highwire-citation-aan-list-compact clearfix\">\n",
       "<a class=\"highwire-cite-linked-title\" data-hide-link-title=\"0\" data-icon-position=\"\" href=\"/content/early/2018/12/14/WNL.0000000000006776\"><span class=\"highwire-cite-title\">Sleep-disordered breathing among patients admitted for inpatient video-EEG monitoring</span></a>\n",
       "<div class=\"highwire-cite-authors\"><div class=\"highwire-citation-authors-type highwire-citation-authors-type-author\"><span class=\"contributor-of-type\"><em></em></span> <span class=\"highwire-citation-authors\"><span class=\"highwire-citation-author first\" data-delta=\"0\">Shobi Sivathamboo</span>, <span class=\"highwire-citation-author\" data-delta=\"1\">Sarah Farrand</span>, <span class=\"highwire-citation-author\" data-delta=\"2\">Zhibin Chen</span>, <span class=\"highwire-citation-author\" data-delta=\"3\">Elise J. White</span>, <span class=\"highwire-citation-author\" data-delta=\"4\">Andrew (Andreas) Pattichis</span>, <span class=\"highwire-citation-author\" data-delta=\"5\">Callum Hollis</span>, <span class=\"highwire-citation-author\" data-delta=\"6\">John Carino</span>, <span class=\"highwire-citation-author\" data-delta=\"7\">Caitlin J. Roberts</span>, <span class=\"highwire-citation-author\" data-delta=\"8\">Thomas Minogue</span>, <span class=\"highwire-citation-author\" data-delta=\"9\">Nigel C. Jones</span>, <span class=\"highwire-citation-author\" data-delta=\"10\">Raju Yerra</span>, <span class=\"highwire-citation-author\" data-delta=\"11\">Christopher French</span>, <span class=\"highwire-citation-author\" data-delta=\"12\">Piero Perucca</span>, <span class=\"highwire-citation-author\" data-delta=\"13\">Patrick Kwan</span>, <span class=\"highwire-citation-author\" data-delta=\"14\">Dennis Velakoulis</span>, <span class=\"highwire-citation-author\" data-delta=\"15\">Terence J. O'Brien</span>, <span class=\"highwire-citation-author\" data-delta=\"16\">Jeremy Goldin</span></span></div></div>\n",
       "<div class=\"highwire-cite-extras\"><div class=\"aan-article-citation-variant-list\"><ul class=\"links variants-list inline\"><li class=\"abstract first\"><a class=\"highwire-variant-link variant-abstract \" data-hide-link-title=\"0\" data-icon-position=\"\" href=\"/content/early/2018/12/14/WNL.0000000000006776.abstract\" rel=\"alternate\" title=\"Abstract\">Abstract </a></li>\n",
       "<li class=\"full-textpdf last\"><a class=\"highwire-variant-link variant-full-textpdf \" data-hide-link-title=\"0\" data-icon-position=\"\" href=\"/content/early/2018/12/14/WNL.0000000000006776.full.pdf\" rel=\"alternate\" title=\"Full Text (PDF)\" type=\"application/pdf\">Full Text (PDF) </a></li>\n",
       "</ul></div><span class=\"highwire-foxycart-add-to-cart-ahah highwire-foxycart-add-to-cart-ahah\" data-apath=\"/neurology/early/2018/12/14/WNL.0000000000006776.atom\" data-font-icon=\"icon-shopping-cart\" data-parent-id=\"1301\" data-text=\"Add to Cart (%short-price)\" data-type=\"link\"></span></div>\n",
       "</div>\n",
       "</div></li><li class=\"even\"><div class=\"highwire-article-citation highwire-citation-type-highwire-article\" data-apath=\"/neurology/early/2018/12/14/WNL.0000000000006742.atom\" data-node-nid=\"165723\" data-pisa=\"neurology;WNL.0000000000006742v1\" data-pisa-master=\"neurology;WNL.0000000000006742\" id=\"node165723\"><div class=\"highwire-cite highwire-cite-highwire-article highwire-citation-aan-list-compact clearfix\">\n",
       "<a class=\"highwire-cite-linked-title\" data-hide-link-title=\"0\" data-icon-position=\"\" href=\"/content/early/2018/12/14/WNL.0000000000006742\"><span class=\"highwire-cite-title\">Spectrum and time course of epilepsy and the associated cognitive decline in <em>MECP2</em> duplication syndrome</span></a>\n",
       "<div class=\"highwire-cite-authors\"><div class=\"highwire-citation-authors-type highwire-citation-authors-type-author\"><span class=\"contributor-of-type\"><em></em></span> <span class=\"highwire-citation-authors\"><span class=\"highwire-citation-author first\" data-delta=\"0\">Dana Marafi</span>, <span class=\"highwire-citation-author\" data-delta=\"1\">Bernhard Suter</span>, <span class=\"highwire-citation-author\" data-delta=\"2\">Rebecca Schultz</span>, <span class=\"highwire-citation-author\" data-delta=\"3\">Daniel Glaze</span>, <span class=\"highwire-citation-author\" data-delta=\"4\">Valory N. Pavlik</span>, <span class=\"highwire-citation-author\" data-delta=\"5\">Alica M. Goldman</span></span></div></div>\n",
       "<div class=\"highwire-cite-extras\"><div class=\"aan-article-citation-variant-list\"><ul class=\"links variants-list inline\"><li class=\"abstract first\"><a class=\"highwire-variant-link variant-abstract \" data-hide-link-title=\"0\" data-icon-position=\"\" href=\"/content/early/2018/12/14/WNL.0000000000006742.abstract\" rel=\"alternate\" title=\"Abstract\">Abstract </a></li>\n",
       "<li class=\"full-textpdf last\"><a class=\"highwire-variant-link variant-full-textpdf \" data-hide-link-title=\"0\" data-icon-position=\"\" href=\"/content/early/2018/12/14/WNL.0000000000006742.full.pdf\" rel=\"alternate\" title=\"Full Text (PDF)\" type=\"application/pdf\">Full Text (PDF) </a></li>\n",
       "</ul></div><span class=\"highwire-foxycart-add-to-cart-ahah highwire-foxycart-add-to-cart-ahah\" data-apath=\"/neurology/early/2018/12/14/WNL.0000000000006742.atom\" data-font-icon=\"icon-shopping-cart\" data-parent-id=\"1301\" data-text=\"Add to Cart (%short-price)\" data-type=\"link\"></span></div>\n",
       "</div>\n",
       "</div></li><li class=\"last odd\"><div class=\"highwire-article-citation highwire-citation-type-highwire-article\" data-apath=\"/neurology/early/2018/12/14/WNL.0000000000006717.atom\" data-node-nid=\"165724\" data-pisa=\"neurology;WNL.0000000000006717v1\" data-pisa-master=\"neurology;WNL.0000000000006717\" id=\"node165724\"><div class=\"highwire-cite highwire-cite-highwire-article highwire-citation-aan-list-compact clearfix\">\n",
       "<a class=\"highwire-cite-linked-title\" data-hide-link-title=\"0\" data-icon-position=\"\" href=\"/content/early/2018/12/14/WNL.0000000000006717\"><span class=\"highwire-cite-title\">Multiple biomarkers covering distinct pathways for predicting outcomes after ischemic stroke</span></a>\n",
       "<div class=\"highwire-cite-authors\"><div class=\"highwire-citation-authors-type highwire-citation-authors-type-author\"><span class=\"contributor-of-type\"><em></em></span> <span class=\"highwire-citation-authors\"><span class=\"highwire-citation-author first\" data-delta=\"0\">Chongke Zhong</span>, <span class=\"highwire-citation-author\" data-delta=\"1\">Zhengbao Zhu</span>, <span class=\"highwire-citation-author\" data-delta=\"2\">Aili Wang</span>, <span class=\"highwire-citation-author\" data-delta=\"3\">Tan Xu</span>, <span class=\"highwire-citation-author\" data-delta=\"4\">Xiaoqing Bu</span>, <span class=\"highwire-citation-author\" data-delta=\"5\">Hao Peng</span>, <span class=\"highwire-citation-author\" data-delta=\"6\">Jingyuan Yang</span>, <span class=\"highwire-citation-author\" data-delta=\"7\">Liyuan Han</span>, <span class=\"highwire-citation-author\" data-delta=\"8\">Jing Chen</span>, <span class=\"highwire-citation-author\" data-delta=\"9\">Tian Xu</span>, <span class=\"highwire-citation-author\" data-delta=\"10\">Yanbo Peng</span>, <span class=\"highwire-citation-author\" data-delta=\"11\">Jinchao Wang</span>, <span class=\"highwire-citation-author\" data-delta=\"12\">Qunwei Li</span>, <span class=\"highwire-citation-author\" data-delta=\"13\">Zhong Ju</span>, <span class=\"highwire-citation-author\" data-delta=\"14\">Deqin Geng</span>, <span class=\"highwire-citation-author\" data-delta=\"15\">Jiang He</span>, <span class=\"highwire-citation-author\" data-delta=\"16\">Yonghong Zhang</span></span></div></div>\n",
       "<div class=\"highwire-cite-extras\"><div class=\"aan-article-citation-variant-list\"><ul class=\"links variants-list inline\"><li class=\"abstract first\"><a class=\"highwire-variant-link variant-abstract \" data-hide-link-title=\"0\" data-icon-position=\"\" href=\"/content/early/2018/12/14/WNL.0000000000006717.abstract\" rel=\"alternate\" title=\"Abstract\">Abstract </a></li>\n",
       "<li class=\"full-textpdf last\"><a class=\"highwire-variant-link variant-full-textpdf \" data-hide-link-title=\"0\" data-icon-position=\"\" href=\"/content/early/2018/12/14/WNL.0000000000006717.full.pdf\" rel=\"alternate\" title=\"Full Text (PDF)\" type=\"application/pdf\">Full Text (PDF) </a></li>\n",
       "</ul></div><span class=\"highwire-foxycart-add-to-cart-ahah highwire-foxycart-add-to-cart-ahah\" data-apath=\"/neurology/early/2018/12/14/WNL.0000000000006717.atom\" data-font-icon=\"icon-shopping-cart\" data-parent-id=\"1301\" data-text=\"Add to Cart (%short-price)\" data-type=\"link\"></span></div>\n",
       "</div>\n",
       "</div></li></ul></div></div><div class=\"highwire-list-wrapper highwire-list-pap highwire-article-citation-list\"><h3 class=\"highwire-list-title\">December 12, 2018</h3><div class=\"highwire-list\"><ul id=\"december-12-2018\"><li class=\"first odd\"><div class=\"highwire-article-citation highwire-citation-type-highwire-article\" data-apath=\"/neurology/early/2018/12/12/WNL.0000000000006729.atom\" data-node-nid=\"165714\" data-pisa=\"neurology;WNL.0000000000006729v1\" data-pisa-master=\"neurology;WNL.0000000000006729\" id=\"node165714\"><div class=\"highwire-cite highwire-cite-highwire-article highwire-citation-aan-list-compact clearfix\">\n",
       "<div class=\"highwire-cite-overline\"><span class=\"highwire-cite-metadata-oa-ind highwire-cite-metadata\">Open Access</span></div>\n",
       "<a class=\"highwire-cite-linked-title\" data-hide-link-title=\"0\" data-icon-position=\"\" href=\"/content/early/2018/12/12/WNL.0000000000006729\"><span class=\"highwire-cite-title title-with-subtitle\"><em>SYNGAP1</em> encephalopathy</span><span class=\"highwire-cite-subtitle\">A distinctive generalized developmental and epileptic encephalopathy</span></a>\n",
       "<div class=\"highwire-cite-authors\"><div class=\"highwire-citation-authors-type highwire-citation-authors-type-author\"><span class=\"contributor-of-type\"><em></em></span> <span class=\"highwire-citation-authors\"><span class=\"highwire-citation-author first\" data-delta=\"0\">Danique R.M. Vlaskamp</span>, <span class=\"highwire-citation-author\" data-delta=\"1\">Benjamin J. Shaw</span>, <span class=\"highwire-citation-author\" data-delta=\"2\">Rosemary Burgess</span>, <span class=\"highwire-citation-author\" data-delta=\"3\">Davide Mei</span>, <span class=\"highwire-citation-author\" data-delta=\"4\">Martino Montomoli</span>, <span class=\"highwire-citation-author\" data-delta=\"5\">Han Xie</span>, <span class=\"highwire-citation-author\" data-delta=\"6\">Candace T. Myers</span>, <span class=\"highwire-citation-author\" data-delta=\"7\">Mark F. Bennett</span>, <span class=\"highwire-citation-author\" data-delta=\"8\">Wenshu XiangWei</span>, <span class=\"highwire-citation-author\" data-delta=\"9\">Danielle Williams</span>, <span class=\"highwire-citation-author\" data-delta=\"10\">Saskia M. Maas</span>, <span class=\"highwire-citation-author\" data-delta=\"11\">Alice S. Brooks</span>, <span class=\"highwire-citation-author\" data-delta=\"12\">Grazia M.S. Mancini</span>, <span class=\"highwire-citation-author\" data-delta=\"13\">Ingrid M.B.H. van de Laar</span>, <span class=\"highwire-citation-author\" data-delta=\"14\">Johanna M. van Hagen</span>, <span class=\"highwire-citation-author\" data-delta=\"15\">Tyson L. Ware</span>, <span class=\"highwire-citation-author\" data-delta=\"16\">Richard I. Webster</span>, <span class=\"highwire-citation-author\" data-delta=\"17\">Stephen Malone</span>, <span class=\"highwire-citation-author\" data-delta=\"18\">Samuel F. Berkovic</span>, <span class=\"highwire-citation-author\" data-delta=\"19\">Renate M. Kalnins</span>, <span class=\"highwire-citation-author\" data-delta=\"20\">Federico Sicca</span>, <span class=\"highwire-citation-author\" data-delta=\"21\">G. Christoph Korenke</span>, <span class=\"highwire-citation-author\" data-delta=\"22\">Conny M.A. van Ravenswaaij-Arts</span>, <span class=\"highwire-citation-author\" data-delta=\"23\">Michael S. Hildebrand</span>, <span class=\"highwire-citation-author\" data-delta=\"24\">Heather C. Mefford</span>, <span class=\"highwire-citation-author\" data-delta=\"25\">Yuwu Jiang</span>, <span class=\"highwire-citation-author\" data-delta=\"26\">Renzo Guerrini</span>, <span class=\"highwire-citation-author\" data-delta=\"27\">Ingrid E. Scheffer</span></span></div></div>\n",
       "<div class=\"highwire-cite-extras\"><div class=\"aan-article-citation-variant-list\"><ul class=\"links variants-list inline\"><li class=\"abstract first\"><a class=\"highwire-variant-link variant-abstract \" data-hide-link-title=\"0\" data-icon-position=\"\" href=\"/content/early/2018/12/12/WNL.0000000000006729.abstract\" rel=\"alternate\" title=\"Abstract\">Abstract </a></li>\n",
       "<li class=\"full-textpdf last\"><a class=\"highwire-variant-link variant-full-textpdf \" data-hide-link-title=\"0\" data-icon-position=\"\" href=\"/content/early/2018/12/12/WNL.0000000000006729.full.pdf\" rel=\"alternate\" title=\"Full Text (PDF)\" type=\"application/pdf\">Full Text (PDF) </a></li>\n",
       "</ul></div><span class=\"highwire-foxycart-add-to-cart-ahah highwire-foxycart-add-to-cart-ahah\" data-apath=\"/neurology/early/2018/12/12/WNL.0000000000006729.atom\" data-font-icon=\"icon-shopping-cart\" data-parent-id=\"1301\" data-text=\"Add to Cart (%short-price)\" data-type=\"link\"></span></div>\n",
       "</div>\n",
       "</div></li><li class=\"even\"><div class=\"highwire-article-citation highwire-citation-type-highwire-article\" data-apath=\"/neurology/early/2018/12/12/WNL.0000000000006778.atom\" data-node-nid=\"165715\" data-pisa=\"neurology;WNL.0000000000006778v1\" data-pisa-master=\"neurology;WNL.0000000000006778\" id=\"node165715\"><div class=\"highwire-cite highwire-cite-highwire-article highwire-citation-aan-list-compact clearfix\">\n",
       "<a class=\"highwire-cite-linked-title\" data-hide-link-title=\"0\" data-icon-position=\"\" href=\"/content/early/2018/12/12/WNL.0000000000006778\"><span class=\"highwire-cite-title\">Military-related risk factors in female veterans and risk of dementia</span></a>\n",
       "<div class=\"highwire-cite-authors\"><div class=\"highwire-citation-authors-type highwire-citation-authors-type-author\"><span class=\"contributor-of-type\"><em></em></span> <span class=\"highwire-citation-authors\"><span class=\"highwire-citation-author first\" data-delta=\"0\">Kristine Yaffe</span>, <span class=\"highwire-citation-author\" data-delta=\"1\">Sandy J. Lwi</span>, <span class=\"highwire-citation-author\" data-delta=\"2\">Tina D. Hoang</span>, <span class=\"highwire-citation-author\" data-delta=\"3\">Feng Xia</span>, <span class=\"highwire-citation-author\" data-delta=\"4\">Deborah E. Barnes</span>, <span class=\"highwire-citation-author\" data-delta=\"5\">Shira Maguen</span>, <span class=\"highwire-citation-author\" data-delta=\"6\">Carrie B. Peltz</span></span></div></div>\n",
       "<div class=\"highwire-cite-extras\"><div class=\"aan-article-citation-variant-list\"><ul class=\"links variants-list inline\"><li class=\"abstract first\"><a class=\"highwire-variant-link variant-abstract \" data-hide-link-title=\"0\" data-icon-position=\"\" href=\"/content/early/2018/12/12/WNL.0000000000006778.abstract\" rel=\"alternate\" title=\"Abstract\">Abstract </a></li>\n",
       "<li class=\"full-textpdf last\"><a class=\"highwire-variant-link variant-full-textpdf \" data-hide-link-title=\"0\" data-icon-position=\"\" href=\"/content/early/2018/12/12/WNL.0000000000006778.full.pdf\" rel=\"alternate\" title=\"Full Text (PDF)\" type=\"application/pdf\">Full Text (PDF) </a></li>\n",
       "</ul></div><span class=\"highwire-foxycart-add-to-cart-ahah highwire-foxycart-add-to-cart-ahah\" data-apath=\"/neurology/early/2018/12/12/WNL.0000000000006778.atom\" data-font-icon=\"icon-shopping-cart\" data-parent-id=\"1301\" data-text=\"Add to Cart (%short-price)\" data-type=\"link\"></span></div>\n",
       "</div>\n",
       "</div></li><li class=\"odd\"><div class=\"highwire-article-citation highwire-citation-type-highwire-article\" data-apath=\"/neurology/early/2018/12/12/WNL.0000000000006720.atom\" data-node-nid=\"165716\" data-pisa=\"neurology;WNL.0000000000006720v1\" data-pisa-master=\"neurology;WNL.0000000000006720\" id=\"node165716\"><div class=\"highwire-cite highwire-cite-highwire-article highwire-citation-aan-list-compact clearfix\">\n",
       "<a class=\"highwire-cite-linked-title\" data-hide-link-title=\"0\" data-icon-position=\"\" href=\"/content/early/2018/12/12/WNL.0000000000006720\"><span class=\"highwire-cite-title\">A synaptic protein defect associated with reflex seizure disorder</span></a>\n",
       "<div class=\"highwire-cite-authors\"><div class=\"highwire-citation-authors-type highwire-citation-authors-type-author\"><span class=\"contributor-of-type\"><em></em></span> <span class=\"highwire-citation-authors\"><span class=\"highwire-citation-author first\" data-delta=\"0\">Pasquale Striano</span>, <span class=\"highwire-citation-author\" data-delta=\"1\">Peter Huppke</span></span></div></div>\n",
       "<div class=\"highwire-cite-extras\"><div class=\"aan-article-citation-variant-list\"><ul class=\"links variants-list inline\"><li class=\"full-textpdf first last\"><a class=\"highwire-variant-link variant-full-textpdf \" data-hide-link-title=\"0\" data-icon-position=\"\" href=\"/content/early/2018/12/12/WNL.0000000000006720.full.pdf\" rel=\"alternate\" title=\"Full Text (PDF)\" type=\"application/pdf\">Full Text (PDF) </a></li>\n",
       "</ul></div><span class=\"highwire-foxycart-add-to-cart-ahah highwire-foxycart-add-to-cart-ahah\" data-apath=\"/neurology/early/2018/12/12/WNL.0000000000006720.atom\" data-font-icon=\"icon-shopping-cart\" data-parent-id=\"1301\" data-text=\"Add to Cart (%short-price)\" data-type=\"link\"></span></div>\n",
       "</div>\n",
       "</div></li><li class=\"even\"><div class=\"highwire-article-citation highwire-citation-type-highwire-article\" data-apath=\"/neurology/early/2018/12/12/WNL.0000000000006768.atom\" data-node-nid=\"165712\" data-pisa=\"neurology;WNL.0000000000006768v1\" data-pisa-master=\"neurology;WNL.0000000000006768\" id=\"node165712\"><div class=\"highwire-cite highwire-cite-highwire-article highwire-citation-aan-list-compact clearfix\">\n",
       "<a class=\"highwire-cite-linked-title\" data-hide-link-title=\"0\" data-icon-position=\"\" href=\"/content/early/2018/12/12/WNL.0000000000006768\"><span class=\"highwire-cite-title title-with-subtitle\">Associations of TBI, PTSD, and depression with dementia risk among female military veterans</span><span class=\"highwire-cite-subtitle\">Not just men</span></a>\n",
       "<div class=\"highwire-cite-authors\"><div class=\"highwire-citation-authors-type highwire-citation-authors-type-author\"><span class=\"contributor-of-type\"><em></em></span> <span class=\"highwire-citation-authors\"><span class=\"highwire-citation-author first\" data-delta=\"0\">Andrea L. C. Schneider</span>, <span class=\"highwire-citation-author\" data-delta=\"1\">Geoffrey Ling</span></span></div></div>\n",
       "<div class=\"highwire-cite-extras\"><div class=\"aan-article-citation-variant-list\"><ul class=\"links variants-list inline\"><li class=\"full-textpdf first last\"><a class=\"highwire-variant-link variant-full-textpdf \" data-hide-link-title=\"0\" data-icon-position=\"\" href=\"/content/early/2018/12/12/WNL.0000000000006768.full.pdf\" rel=\"alternate\" title=\"Full Text (PDF)\" type=\"application/pdf\">Full Text (PDF) </a></li>\n",
       "</ul></div><span class=\"highwire-foxycart-add-to-cart-ahah highwire-foxycart-add-to-cart-ahah\" data-apath=\"/neurology/early/2018/12/12/WNL.0000000000006768.atom\" data-font-icon=\"icon-shopping-cart\" data-parent-id=\"1301\" data-text=\"Add to Cart (%short-price)\" data-type=\"link\"></span></div>\n",
       "</div>\n",
       "</div></li><li class=\"last odd\"><div class=\"highwire-article-citation highwire-citation-type-highwire-article\" data-apath=\"/neurology/early/2018/12/12/WNL.0000000000006737.atom\" data-node-nid=\"165713\" data-pisa=\"neurology;WNL.0000000000006737v1\" data-pisa-master=\"neurology;WNL.0000000000006737\" id=\"node165713\"><div class=\"highwire-cite highwire-cite-highwire-article highwire-citation-aan-list-compact clearfix\">\n",
       "<a class=\"highwire-cite-linked-title\" data-hide-link-title=\"0\" data-icon-position=\"\" href=\"/content/early/2018/12/12/WNL.0000000000006737\"><span class=\"highwire-cite-title\">Age and time course of long-term motor and nonmotor complications in Parkinson disease</span></a>\n",
       "<div class=\"highwire-cite-authors\"><div class=\"highwire-citation-authors-type highwire-citation-authors-type-author\"><span class=\"contributor-of-type\"><em></em></span> <span class=\"highwire-citation-authors\"><span class=\"highwire-citation-author first\" data-delta=\"0\">Stéphane Prange</span>, <span class=\"highwire-citation-author\" data-delta=\"1\">Teodor Danaila</span>, <span class=\"highwire-citation-author\" data-delta=\"2\">Chloé Laurencin</span>, <span class=\"highwire-citation-author\" data-delta=\"3\">Catherine Caire</span>, <span class=\"highwire-citation-author\" data-delta=\"4\">Elise Metereau</span>, <span class=\"highwire-citation-author\" data-delta=\"5\">Hélène Merle</span>, <span class=\"highwire-citation-author\" data-delta=\"6\">Emmanuel Broussolle</span>, <span class=\"highwire-citation-author\" data-delta=\"7\">Delphine Maucort-Boulch</span>, <span class=\"highwire-citation-author\" data-delta=\"8\">Stéphane Thobois</span></span></div></div>\n",
       "<div class=\"highwire-cite-extras\"><div class=\"aan-article-citation-variant-list\"><ul class=\"links variants-list inline\"><li class=\"abstract first\"><a class=\"highwire-variant-link variant-abstract \" data-hide-link-title=\"0\" data-icon-position=\"\" href=\"/content/early/2018/12/12/WNL.0000000000006737.abstract\" rel=\"alternate\" title=\"Abstract\">Abstract </a></li>\n",
       "<li class=\"full-textpdf last\"><a class=\"highwire-variant-link variant-full-textpdf \" data-hide-link-title=\"0\" data-icon-position=\"\" href=\"/content/early/2018/12/12/WNL.0000000000006737.full.pdf\" rel=\"alternate\" title=\"Full Text (PDF)\" type=\"application/pdf\">Full Text (PDF) </a></li>\n",
       "</ul></div><span class=\"highwire-foxycart-add-to-cart-ahah highwire-foxycart-add-to-cart-ahah\" data-apath=\"/neurology/early/2018/12/12/WNL.0000000000006737.atom\" data-font-icon=\"icon-shopping-cart\" data-parent-id=\"1301\" data-text=\"Add to Cart (%short-price)\" data-type=\"link\"></span></div>\n",
       "</div>\n",
       "</div></li></ul></div></div><div class=\"highwire-list-wrapper highwire-list-pap highwire-article-citation-list\"><h3 class=\"highwire-list-title\">December 07, 2018</h3><div class=\"highwire-list\"><ul id=\"december-07-2018\"><li class=\"first odd\"><div class=\"highwire-article-citation highwire-citation-type-highwire-article\" data-apath=\"/neurology/early/2018/12/07/WNL.0000000000006721.atom\" data-node-nid=\"165695\" data-pisa=\"neurology;WNL.0000000000006721v1\" data-pisa-master=\"neurology;WNL.0000000000006721\" id=\"node165695\"><div class=\"highwire-cite highwire-cite-highwire-article highwire-citation-aan-list-compact clearfix\">\n",
       "<a class=\"highwire-cite-linked-title\" data-hide-link-title=\"0\" data-icon-position=\"\" href=\"/content/early/2018/12/07/WNL.0000000000006721\"><span class=\"highwire-cite-title title-with-subtitle\">Cerebrotendinous xanthomatosis</span><span class=\"highwire-cite-subtitle\">The rare “treatable” disease you never consider</span></a>\n",
       "<div class=\"highwire-cite-authors\"><div class=\"highwire-citation-authors-type highwire-citation-authors-type-author\"><span class=\"contributor-of-type\"><em></em></span> <span class=\"highwire-citation-authors\"><span class=\"highwire-citation-author first\" data-delta=\"0\">Gerald V. Raymond</span>, <span class=\"highwire-citation-author\" data-delta=\"1\">Raphael Schiffmann</span></span></div></div>\n",
       "<div class=\"highwire-cite-extras\"><div class=\"aan-article-citation-variant-list\"><ul class=\"links variants-list inline\"><li class=\"full-textpdf first last\"><a class=\"highwire-variant-link variant-full-textpdf \" data-hide-link-title=\"0\" data-icon-position=\"\" href=\"/content/early/2018/12/07/WNL.0000000000006721.full.pdf\" rel=\"alternate\" title=\"Full Text (PDF)\" type=\"application/pdf\">Full Text (PDF) </a></li>\n",
       "</ul></div><span class=\"highwire-foxycart-add-to-cart-ahah highwire-foxycart-add-to-cart-ahah\" data-apath=\"/neurology/early/2018/12/07/WNL.0000000000006721.atom\" data-font-icon=\"icon-shopping-cart\" data-parent-id=\"1301\" data-text=\"Add to Cart (%short-price)\" data-type=\"link\"></span></div>\n",
       "</div>\n",
       "</div></li><li class=\"even\"><div class=\"highwire-article-citation highwire-citation-type-highwire-article\" data-apath=\"/neurology/early/2018/12/07/WNL.0000000000006727.atom\" data-node-nid=\"165696\" data-pisa=\"neurology;WNL.0000000000006727v1\" data-pisa-master=\"neurology;WNL.0000000000006727\" id=\"node165696\"><div class=\"highwire-cite highwire-cite-highwire-article highwire-citation-aan-list-compact clearfix\">\n",
       "<a class=\"highwire-cite-linked-title\" data-hide-link-title=\"0\" data-icon-position=\"\" href=\"/content/early/2018/12/07/WNL.0000000000006727\"><span class=\"highwire-cite-title\">Development and validation of a score to detect paroxysmal atrial fibrillation after stroke</span></a>\n",
       "<div class=\"highwire-cite-authors\"><div class=\"highwire-citation-authors-type highwire-citation-authors-type-author\"><span class=\"contributor-of-type\"><em></em></span> <span class=\"highwire-citation-authors\"><span class=\"highwire-citation-author first\" data-delta=\"0\">Timo Uphaus</span>, <span class=\"highwire-citation-author\" data-delta=\"1\">Mark Weber-Krüger</span>, <span class=\"highwire-citation-author\" data-delta=\"2\">Martin Grond</span>, <span class=\"highwire-citation-author\" data-delta=\"3\">Gerrit Toenges</span>, <span class=\"highwire-citation-author\" data-delta=\"4\">Antje Jahn-Eimermacher</span>, <span class=\"highwire-citation-author\" data-delta=\"5\">Marek Jauss</span>, <span class=\"highwire-citation-author\" data-delta=\"6\">Paulus Kirchhof</span>, <span class=\"highwire-citation-author\" data-delta=\"7\">Rolf Wachter</span>, <span class=\"highwire-citation-author\" data-delta=\"8\">Klaus Gröschel</span></span></div></div>\n",
       "<div class=\"highwire-cite-extras\"><div class=\"aan-article-citation-variant-list\"><ul class=\"links variants-list inline\"><li class=\"abstract first\"><a class=\"highwire-variant-link variant-abstract \" data-hide-link-title=\"0\" data-icon-position=\"\" href=\"/content/early/2018/12/07/WNL.0000000000006727.abstract\" rel=\"alternate\" title=\"Abstract\">Abstract </a></li>\n",
       "<li class=\"full-textpdf last\"><a class=\"highwire-variant-link variant-full-textpdf \" data-hide-link-title=\"0\" data-icon-position=\"\" href=\"/content/early/2018/12/07/WNL.0000000000006727.full.pdf\" rel=\"alternate\" title=\"Full Text (PDF)\" type=\"application/pdf\">Full Text (PDF) </a></li>\n",
       "</ul></div><span class=\"highwire-foxycart-add-to-cart-ahah highwire-foxycart-add-to-cart-ahah\" data-apath=\"/neurology/early/2018/12/07/WNL.0000000000006727.atom\" data-font-icon=\"icon-shopping-cart\" data-parent-id=\"1301\" data-text=\"Add to Cart (%short-price)\" data-type=\"link\"></span></div>\n",
       "</div>\n",
       "</div></li><li class=\"odd\"><div class=\"highwire-article-citation highwire-citation-type-highwire-article\" data-apath=\"/neurology/early/2018/12/07/WNL.0000000000006745.atom\" data-node-nid=\"165697\" data-pisa=\"neurology;WNL.0000000000006745v1\" data-pisa-master=\"neurology;WNL.0000000000006745\" id=\"node165697\"><div class=\"highwire-cite highwire-cite-highwire-article highwire-citation-aan-list-compact clearfix\">\n",
       "<div class=\"highwire-cite-overline\"><span class=\"highwire-cite-metadata-oa-ind highwire-cite-metadata\">Open Access</span></div>\n",
       "<a class=\"highwire-cite-linked-title\" data-hide-link-title=\"0\" data-icon-position=\"\" href=\"/content/early/2018/12/07/WNL.0000000000006745\"><span class=\"highwire-cite-title\">Translating the biology of aging into novel therapeutics for Alzheimer disease</span></a>\n",
       "<div class=\"highwire-cite-authors\"><div class=\"highwire-citation-authors-type highwire-citation-authors-type-author\"><span class=\"contributor-of-type\"><em></em></span> <span class=\"highwire-citation-authors\"><span class=\"highwire-citation-author first\" data-delta=\"0\">Yuko Hara</span>, <span class=\"highwire-citation-author\" data-delta=\"1\">Nicholas McKeehan</span>, <span class=\"highwire-citation-author\" data-delta=\"2\">Howard M. Fillit</span></span></div></div>\n",
       "<div class=\"highwire-cite-extras\"><div class=\"aan-article-citation-variant-list\"><ul class=\"links variants-list inline\"><li class=\"abstract first\"><a class=\"highwire-variant-link variant-abstract \" data-hide-link-title=\"0\" data-icon-position=\"\" href=\"/content/early/2018/12/07/WNL.0000000000006745.abstract\" rel=\"alternate\" title=\"Abstract\">Abstract </a></li>\n",
       "<li class=\"full-textpdf last\"><a class=\"highwire-variant-link variant-full-textpdf \" data-hide-link-title=\"0\" data-icon-position=\"\" href=\"/content/early/2018/12/07/WNL.0000000000006745.full.pdf\" rel=\"alternate\" title=\"Full Text (PDF)\" type=\"application/pdf\">Full Text (PDF) </a></li>\n",
       "</ul></div><span class=\"highwire-foxycart-add-to-cart-ahah highwire-foxycart-add-to-cart-ahah\" data-apath=\"/neurology/early/2018/12/07/WNL.0000000000006745.atom\" data-font-icon=\"icon-shopping-cart\" data-parent-id=\"1301\" data-text=\"Add to Cart (%short-price)\" data-type=\"link\"></span></div>\n",
       "</div>\n",
       "</div></li><li class=\"even\"><div class=\"highwire-article-citation highwire-citation-type-highwire-article\" data-apath=\"/neurology/early/2018/12/07/WNL.0000000000006719.atom\" data-node-nid=\"165698\" data-pisa=\"neurology;WNL.0000000000006719v1\" data-pisa-master=\"neurology;WNL.0000000000006719\" id=\"node165698\"><div class=\"highwire-cite highwire-cite-highwire-article highwire-citation-aan-list-compact clearfix\">\n",
       "<a class=\"highwire-cite-linked-title\" data-hide-link-title=\"0\" data-icon-position=\"\" href=\"/content/early/2018/12/07/WNL.0000000000006719\"><span class=\"highwire-cite-title title-with-subtitle\">ECG monitoring after acute ischemic stroke</span><span class=\"highwire-cite-subtitle\">Does patient selection matter?</span></a>\n",
       "<div class=\"highwire-cite-authors\"><div class=\"highwire-citation-authors-type highwire-citation-authors-type-author\"><span class=\"contributor-of-type\"><em></em></span> <span class=\"highwire-citation-authors\"><span class=\"highwire-citation-author first\" data-delta=\"0\">Mira Katan</span>, <span class=\"highwire-citation-author\" data-delta=\"1\">Steven A. Lubitz</span></span></div></div>\n",
       "<div class=\"highwire-cite-extras\"><div class=\"aan-article-citation-variant-list\"><ul class=\"links variants-list inline\"><li class=\"full-textpdf first last\"><a class=\"highwire-variant-link variant-full-textpdf \" data-hide-link-title=\"0\" data-icon-position=\"\" href=\"/content/early/2018/12/07/WNL.0000000000006719.full.pdf\" rel=\"alternate\" title=\"Full Text (PDF)\" type=\"application/pdf\">Full Text (PDF) </a></li>\n",
       "</ul></div><span class=\"highwire-foxycart-add-to-cart-ahah highwire-foxycart-add-to-cart-ahah\" data-apath=\"/neurology/early/2018/12/07/WNL.0000000000006719.atom\" data-font-icon=\"icon-shopping-cart\" data-parent-id=\"1301\" data-text=\"Add to Cart (%short-price)\" data-type=\"link\"></span></div>\n",
       "</div>\n",
       "</div></li><li class=\"odd\"><div class=\"highwire-article-citation highwire-citation-type-highwire-article\" data-apath=\"/neurology/early/2018/12/07/WNL.0000000000006736.atom\" data-node-nid=\"165699\" data-pisa=\"neurology;WNL.0000000000006736v1\" data-pisa-master=\"neurology;WNL.0000000000006736\" id=\"node165699\"><div class=\"highwire-cite highwire-cite-highwire-article highwire-citation-aan-list-compact clearfix\">\n",
       "<div class=\"highwire-cite-overline\"><span class=\"highwire-cite-metadata-oa-ind highwire-cite-metadata\">Open Access</span></div>\n",
       "<a class=\"highwire-cite-linked-title\" data-hide-link-title=\"0\" data-icon-position=\"\" href=\"/content/early/2018/12/07/WNL.0000000000006736\"><span class=\"highwire-cite-title\">Tau imaging detects distinctive distribution of tau pathology in ALS/PDC on the Kii Peninsula</span></a>\n",
       "<div class=\"highwire-cite-authors\"><div class=\"highwire-citation-authors-type highwire-citation-authors-type-author\"><span class=\"contributor-of-type\"><em></em></span> <span class=\"highwire-citation-authors\"><span class=\"highwire-citation-author first\" data-delta=\"0\">Hitoshi Shinotoh</span>, <span class=\"highwire-citation-author\" data-delta=\"1\">Hitoshi Shimada</span>, <span class=\"highwire-citation-author\" data-delta=\"2\">Yasumasa Kokubo</span>, <span class=\"highwire-citation-author\" data-delta=\"3\">Kenji Tagai</span>, <span class=\"highwire-citation-author\" data-delta=\"4\">Fumitoshi Niwa</span>, <span class=\"highwire-citation-author\" data-delta=\"5\">Soichiro Kitamura</span>, <span class=\"highwire-citation-author\" data-delta=\"6\">Hironobu Endo</span>, <span class=\"highwire-citation-author\" data-delta=\"7\">Maiko Ono</span>, <span class=\"highwire-citation-author\" data-delta=\"8\">Yasuyuki Kimura</span>, <span class=\"highwire-citation-author\" data-delta=\"9\">Shigeki Hirano</span>, <span class=\"highwire-citation-author\" data-delta=\"10\">Maya Mimuro</span>, <span class=\"highwire-citation-author\" data-delta=\"11\">Masanori Ichise</span>, <span class=\"highwire-citation-author\" data-delta=\"12\">Naruhiko Sahara</span>, <span class=\"highwire-citation-author\" data-delta=\"13\">Ming-Rong Zhang</span>, <span class=\"highwire-citation-author\" data-delta=\"14\">Tetsuya Suhara</span>, <span class=\"highwire-citation-author\" data-delta=\"15\">Makoto Higuchi</span></span></div></div>\n",
       "<div class=\"highwire-cite-extras\"><div class=\"aan-article-citation-variant-list\"><ul class=\"links variants-list inline\"><li class=\"abstract first\"><a class=\"highwire-variant-link variant-abstract \" data-hide-link-title=\"0\" data-icon-position=\"\" href=\"/content/early/2018/12/07/WNL.0000000000006736.abstract\" rel=\"alternate\" title=\"Abstract\">Abstract </a></li>\n",
       "<li class=\"full-textpdf last\"><a class=\"highwire-variant-link variant-full-textpdf \" data-hide-link-title=\"0\" data-icon-position=\"\" href=\"/content/early/2018/12/07/WNL.0000000000006736.full.pdf\" rel=\"alternate\" title=\"Full Text (PDF)\" type=\"application/pdf\">Full Text (PDF) </a></li>\n",
       "</ul></div><span class=\"highwire-foxycart-add-to-cart-ahah highwire-foxycart-add-to-cart-ahah\" data-apath=\"/neurology/early/2018/12/07/WNL.0000000000006736.atom\" data-font-icon=\"icon-shopping-cart\" data-parent-id=\"1301\" data-text=\"Add to Cart (%short-price)\" data-type=\"link\"></span></div>\n",
       "</div>\n",
       "</div></li><li class=\"last even\"><div class=\"highwire-article-citation highwire-citation-type-highwire-article\" data-apath=\"/neurology/early/2018/12/07/WNL.0000000000006731.atom\" data-node-nid=\"165700\" data-pisa=\"neurology;WNL.0000000000006731v1\" data-pisa-master=\"neurology;WNL.0000000000006731\" id=\"node165700\"><div class=\"highwire-cite highwire-cite-highwire-article highwire-citation-aan-list-compact clearfix\">\n",
       "<a class=\"highwire-cite-linked-title\" data-hide-link-title=\"0\" data-icon-position=\"\" href=\"/content/early/2018/12/07/WNL.0000000000006731\"><span class=\"highwire-cite-title\">Long-term treatment effect in cerebrotendinous xanthomatosis depends on age at treatment start</span></a>\n",
       "<div class=\"highwire-cite-authors\"><div class=\"highwire-citation-authors-type highwire-citation-authors-type-author\"><span class=\"contributor-of-type\"><em></em></span> <span class=\"highwire-citation-authors\"><span class=\"highwire-citation-author first\" data-delta=\"0\">Bianca M.L. Stelten</span>, <span class=\"highwire-citation-author\" data-delta=\"1\">Hidde H. Huidekoper</span>, <span class=\"highwire-citation-author\" data-delta=\"2\">Bart P.C. van de Warrenburg</span>, <span class=\"highwire-citation-author\" data-delta=\"3\">Eva H. Brilstra</span>, <span class=\"highwire-citation-author\" data-delta=\"4\">Carla E.M. Hollak</span>, <span class=\"highwire-citation-author\" data-delta=\"5\">Harm.R. Haak</span>, <span class=\"highwire-citation-author\" data-delta=\"6\">Leo A.J. Kluijtmans</span>, <span class=\"highwire-citation-author\" data-delta=\"7\">Ron A. Wevers</span>, <span class=\"highwire-citation-author\" data-delta=\"8\">Aad Verrips</span></span></div></div>\n",
       "<div class=\"highwire-cite-extras\"><div class=\"aan-article-citation-variant-list\"><ul class=\"links variants-list inline\"><li class=\"abstract first\"><a class=\"highwire-variant-link variant-abstract \" data-hide-link-title=\"0\" data-icon-position=\"\" href=\"/content/early/2018/12/07/WNL.0000000000006731.abstract\" rel=\"alternate\" title=\"Abstract\">Abstract </a></li>\n",
       "<li class=\"full-textpdf last\"><a class=\"highwire-variant-link variant-full-textpdf \" data-hide-link-title=\"0\" data-icon-position=\"\" href=\"/content/early/2018/12/07/WNL.0000000000006731.full.pdf\" rel=\"alternate\" title=\"Full Text (PDF)\" type=\"application/pdf\">Full Text (PDF) </a></li>\n",
       "</ul></div><span class=\"highwire-foxycart-add-to-cart-ahah highwire-foxycart-add-to-cart-ahah\" data-apath=\"/neurology/early/2018/12/07/WNL.0000000000006731.atom\" data-font-icon=\"icon-shopping-cart\" data-parent-id=\"1301\" data-text=\"Add to Cart (%short-price)\" data-type=\"link\"></span></div>\n",
       "</div>\n",
       "</div></li></ul></div></div><div class=\"highwire-list-wrapper highwire-list-pap highwire-article-citation-list\"><h3 class=\"highwire-list-title\">December 05, 2018</h3><div class=\"highwire-list\"><ul id=\"december-05-2018\"><li class=\"first odd\"><div class=\"highwire-article-citation highwire-citation-type-highwire-article\" data-apath=\"/neurology/early/2018/12/05/WNL.0000000000006691.atom\" data-node-nid=\"165511\" data-pisa=\"neurology;WNL.0000000000006691v1\" data-pisa-master=\"neurology;WNL.0000000000006691\" id=\"node165511\"><div class=\"highwire-cite highwire-cite-highwire-article highwire-citation-aan-list-compact clearfix\">\n",
       "<a class=\"highwire-cite-linked-title\" data-hide-link-title=\"0\" data-icon-position=\"\" href=\"/content/early/2018/12/05/WNL.0000000000006691\"><span class=\"highwire-cite-title title-with-subtitle\">Noninvasive identification of seizure lateralization in children</span><span class=\"highwire-cite-subtitle\">Name that thing</span></a>\n",
       "<div class=\"highwire-cite-authors\"><div class=\"highwire-citation-authors-type highwire-citation-authors-type-author\"><span class=\"contributor-of-type\"><em></em></span> <span class=\"highwire-citation-authors\"><span class=\"highwire-citation-author first\" data-delta=\"0\">Marla J. Hamberger</span>, <span class=\"highwire-citation-author\" data-delta=\"1\">William S. MacAllister</span>, <span class=\"highwire-citation-author\" data-delta=\"2\">William T. Seidel</span>, <span class=\"highwire-citation-author\" data-delta=\"3\">Robyn M. Busch</span>, <span class=\"highwire-citation-author\" data-delta=\"4\">Christine M. Salinas</span>, <span class=\"highwire-citation-author\" data-delta=\"5\">Patricia Klaas</span>, <span class=\"highwire-citation-author\" data-delta=\"6\">Mary Lou Smith</span></span></div></div>\n",
       "<div class=\"highwire-cite-extras\"><div class=\"aan-article-citation-variant-list\"><ul class=\"links variants-list inline\"><li class=\"abstract first\"><a class=\"highwire-variant-link variant-abstract \" data-hide-link-title=\"0\" data-icon-position=\"\" href=\"/content/early/2018/12/05/WNL.0000000000006691.abstract\" rel=\"alternate\" title=\"Abstract\">Abstract </a></li>\n",
       "<li class=\"full-textpdf last\"><a class=\"highwire-variant-link variant-full-textpdf \" data-hide-link-title=\"0\" data-icon-position=\"\" href=\"/content/early/2018/12/05/WNL.0000000000006691.full.pdf\" rel=\"alternate\" title=\"Full Text (PDF)\" type=\"application/pdf\">Full Text (PDF) </a></li>\n",
       "</ul></div><span class=\"highwire-foxycart-add-to-cart-ahah highwire-foxycart-add-to-cart-ahah\" data-apath=\"/neurology/early/2018/12/05/WNL.0000000000006691.atom\" data-font-icon=\"icon-shopping-cart\" data-parent-id=\"1301\" data-text=\"Add to Cart (%short-price)\" data-type=\"link\"></span></div>\n",
       "</div>\n",
       "</div></li><li class=\"even\"><div class=\"highwire-article-citation highwire-citation-type-highwire-article\" data-apath=\"/neurology/early/2018/12/05/WNL.0000000000006749.atom\" data-node-nid=\"165512\" data-pisa=\"neurology;WNL.0000000000006749v1\" data-pisa-master=\"neurology;WNL.0000000000006749\" id=\"node165512\"><div class=\"highwire-cite highwire-cite-highwire-article highwire-citation-aan-list-compact clearfix\">\n",
       "<a class=\"highwire-cite-linked-title\" data-hide-link-title=\"0\" data-icon-position=\"\" href=\"/content/early/2018/12/05/WNL.0000000000006749\"><span class=\"highwire-cite-title title-with-subtitle\">Atrial cardiopathy</span><span class=\"highwire-cite-subtitle\">A new cause for stroke?</span></a>\n",
       "<div class=\"highwire-cite-authors\"><div class=\"highwire-citation-authors-type highwire-citation-authors-type-author\"><span class=\"contributor-of-type\"><em></em></span> <span class=\"highwire-citation-authors\"><span class=\"highwire-citation-author first\" data-delta=\"0\">Dana Leifer</span>, <span class=\"highwire-citation-author\" data-delta=\"1\">Tatjana Rundek</span></span></div></div>\n",
       "<div class=\"highwire-cite-extras\"><div class=\"aan-article-citation-variant-list\"><ul class=\"links variants-list inline\"><li class=\"full-textpdf first last\"><a class=\"highwire-variant-link variant-full-textpdf \" data-hide-link-title=\"0\" data-icon-position=\"\" href=\"/content/early/2018/12/05/WNL.0000000000006749.full.pdf\" rel=\"alternate\" title=\"Full Text (PDF)\" type=\"application/pdf\">Full Text (PDF) </a></li>\n",
       "</ul></div><span class=\"highwire-foxycart-add-to-cart-ahah highwire-foxycart-add-to-cart-ahah\" data-apath=\"/neurology/early/2018/12/05/WNL.0000000000006749.atom\" data-font-icon=\"icon-shopping-cart\" data-parent-id=\"1301\" data-text=\"Add to Cart (%short-price)\" data-type=\"link\"></span></div>\n",
       "</div>\n",
       "</div></li><li class=\"odd\"><div class=\"highwire-article-citation highwire-citation-type-highwire-article\" data-apath=\"/neurology/early/2018/12/05/WNL.0000000000006680.atom\" data-node-nid=\"165513\" data-pisa=\"neurology;WNL.0000000000006680v1\" data-pisa-master=\"neurology;WNL.0000000000006680\" id=\"node165513\"><div class=\"highwire-cite highwire-cite-highwire-article highwire-citation-aan-list-compact clearfix\">\n",
       "<a class=\"highwire-cite-linked-title\" data-hide-link-title=\"0\" data-icon-position=\"\" href=\"/content/early/2018/12/05/WNL.0000000000006680\"><span class=\"highwire-cite-title title-with-subtitle\">Naming things</span><span class=\"highwire-cite-subtitle\">Its importance in youth with epilepsy</span></a>\n",
       "<div class=\"highwire-cite-authors\"><div class=\"highwire-citation-authors-type highwire-citation-authors-type-author\"><span class=\"contributor-of-type\"><em></em></span> <span class=\"highwire-citation-authors\"><span class=\"highwire-citation-author first\" data-delta=\"0\">Bruce P. Hermann</span>, <span class=\"highwire-citation-author\" data-delta=\"1\">Benjamin Tolchin</span></span></div></div>\n",
       "<div class=\"highwire-cite-extras\"><div class=\"aan-article-citation-variant-list\"><ul class=\"links variants-list inline\"><li class=\"full-textpdf first last\"><a class=\"highwire-variant-link variant-full-textpdf \" data-hide-link-title=\"0\" data-icon-position=\"\" href=\"/content/early/2018/12/05/WNL.0000000000006680.full.pdf\" rel=\"alternate\" title=\"Full Text (PDF)\" type=\"application/pdf\">Full Text (PDF) </a></li>\n",
       "</ul></div><span class=\"highwire-foxycart-add-to-cart-ahah highwire-foxycart-add-to-cart-ahah\" data-apath=\"/neurology/early/2018/12/05/WNL.0000000000006680.atom\" data-font-icon=\"icon-shopping-cart\" data-parent-id=\"1301\" data-text=\"Add to Cart (%short-price)\" data-type=\"link\"></span></div>\n",
       "</div>\n",
       "</div></li><li class=\"even\"><div class=\"highwire-article-citation highwire-citation-type-highwire-article\" data-apath=\"/neurology/early/2018/12/05/WNL.0000000000006738.atom\" data-node-nid=\"165508\" data-pisa=\"neurology;WNL.0000000000006738v1\" data-pisa-master=\"neurology;WNL.0000000000006738\" id=\"node165508\"><div class=\"highwire-cite highwire-cite-highwire-article highwire-citation-aan-list-compact clearfix\">\n",
       "<a class=\"highwire-cite-linked-title\" data-hide-link-title=\"0\" data-icon-position=\"\" href=\"/content/early/2018/12/05/WNL.0000000000006738\"><span class=\"highwire-cite-title\">Brain networks' functional connectivity separates aphasic deficits in stroke</span></a>\n",
       "<div class=\"highwire-cite-authors\"><div class=\"highwire-citation-authors-type highwire-citation-authors-type-author\"><span class=\"contributor-of-type\"><em></em></span> <span class=\"highwire-citation-authors\"><span class=\"highwire-citation-author first\" data-delta=\"0\">Antonello Baldassarre</span>, <span class=\"highwire-citation-author\" data-delta=\"1\">Nicholas V. Metcalf</span>, <span class=\"highwire-citation-author\" data-delta=\"2\">Gordon L. Shulman</span>, <span class=\"highwire-citation-author\" data-delta=\"3\">Maurizio Corbetta</span></span></div></div>\n",
       "<div class=\"highwire-cite-extras\"><div class=\"aan-article-citation-variant-list\"><ul class=\"links variants-list inline\"><li class=\"abstract first\"><a class=\"highwire-variant-link variant-abstract \" data-hide-link-title=\"0\" data-icon-position=\"\" href=\"/content/early/2018/12/05/WNL.0000000000006738.abstract\" rel=\"alternate\" title=\"Abstract\">Abstract </a></li>\n",
       "<li class=\"full-textpdf last\"><a class=\"highwire-variant-link variant-full-textpdf \" data-hide-link-title=\"0\" data-icon-position=\"\" href=\"/content/early/2018/12/05/WNL.0000000000006738.full.pdf\" rel=\"alternate\" title=\"Full Text (PDF)\" type=\"application/pdf\">Full Text (PDF) </a></li>\n",
       "</ul></div><span class=\"highwire-foxycart-add-to-cart-ahah highwire-foxycart-add-to-cart-ahah\" data-apath=\"/neurology/early/2018/12/05/WNL.0000000000006738.atom\" data-font-icon=\"icon-shopping-cart\" data-parent-id=\"1301\" data-text=\"Add to Cart (%short-price)\" data-type=\"link\"></span></div>\n",
       "</div>\n",
       "</div></li><li class=\"odd\"><div class=\"highwire-article-citation highwire-citation-type-highwire-article\" data-apath=\"/neurology/early/2018/12/05/WNL.0000000000006748.atom\" data-node-nid=\"165509\" data-pisa=\"neurology;WNL.0000000000006748v1\" data-pisa-master=\"neurology;WNL.0000000000006748\" id=\"node165509\"><div class=\"highwire-cite highwire-cite-highwire-article highwire-citation-aan-list-compact clearfix\">\n",
       "<a class=\"highwire-cite-linked-title\" data-hide-link-title=\"0\" data-icon-position=\"\" href=\"/content/early/2018/12/05/WNL.0000000000006748\"><span class=\"highwire-cite-title\">Atrial cardiopathy in patients with embolic strokes of unknown source and other stroke etiologies</span></a>\n",
       "<div class=\"highwire-cite-authors\"><div class=\"highwire-citation-authors-type highwire-citation-authors-type-author\"><span class=\"contributor-of-type\"><em></em></span> <span class=\"highwire-citation-authors\"><span class=\"highwire-citation-author first\" data-delta=\"0\">Shirin Jalini</span>, <span class=\"highwire-citation-author\" data-delta=\"1\">Rajasumi Rajalingam</span>, <span class=\"highwire-citation-author\" data-delta=\"2\">Rosane Nisenbaum</span>, <span class=\"highwire-citation-author\" data-delta=\"3\">Angelo Dave Javier</span>, <span class=\"highwire-citation-author\" data-delta=\"4\">Anna Woo</span>, <span class=\"highwire-citation-author\" data-delta=\"5\">Aleksandra Pikula</span></span></div></div>\n",
       "<div class=\"highwire-cite-extras\"><div class=\"aan-article-citation-variant-list\"><ul class=\"links variants-list inline\"><li class=\"abstract first\"><a class=\"highwire-variant-link variant-abstract \" data-hide-link-title=\"0\" data-icon-position=\"\" href=\"/content/early/2018/12/05/WNL.0000000000006748.abstract\" rel=\"alternate\" title=\"Abstract\">Abstract </a></li>\n",
       "<li class=\"full-textpdf last\"><a class=\"highwire-variant-link variant-full-textpdf \" data-hide-link-title=\"0\" data-icon-position=\"\" href=\"/content/early/2018/12/05/WNL.0000000000006748.full.pdf\" rel=\"alternate\" title=\"Full Text (PDF)\" type=\"application/pdf\">Full Text (PDF) </a></li>\n",
       "</ul></div><span class=\"highwire-foxycart-add-to-cart-ahah highwire-foxycart-add-to-cart-ahah\" data-apath=\"/neurology/early/2018/12/05/WNL.0000000000006748.atom\" data-font-icon=\"icon-shopping-cart\" data-parent-id=\"1301\" data-text=\"Add to Cart (%short-price)\" data-type=\"link\"></span></div>\n",
       "</div>\n",
       "</div></li><li class=\"last even\"><div class=\"highwire-article-citation highwire-citation-type-highwire-article\" data-apath=\"/neurology/early/2018/12/05/WNL.0000000000006739.atom\" data-node-nid=\"165510\" data-pisa=\"neurology;WNL.0000000000006739v1\" data-pisa-master=\"neurology;WNL.0000000000006739\" id=\"node165510\"><div class=\"highwire-cite highwire-cite-highwire-article highwire-citation-aan-list-compact clearfix\">\n",
       "<a class=\"highwire-cite-linked-title\" data-hide-link-title=\"0\" data-icon-position=\"\" href=\"/content/early/2018/12/05/WNL.0000000000006739\"><span class=\"highwire-cite-title title-with-subtitle\">Neurology residency training in 2017</span><span class=\"highwire-cite-subtitle\">A survey of preparation, perspectives, and plans</span></a>\n",
       "<div class=\"highwire-cite-authors\"><div class=\"highwire-citation-authors-type highwire-citation-authors-type-author\"><span class=\"contributor-of-type\"><em></em></span> <span class=\"highwire-citation-authors\"><span class=\"highwire-citation-author first\" data-delta=\"0\">Abhimanyu Mahajan</span>, <span class=\"highwire-citation-author\" data-delta=\"1\">Carolyn Cahill</span>, <span class=\"highwire-citation-author\" data-delta=\"2\">Eugene Scharf</span>, <span class=\"highwire-citation-author\" data-delta=\"3\">Sahil Gupta</span>, <span class=\"highwire-citation-author\" data-delta=\"4\">Stephanie Ahrens</span>, <span class=\"highwire-citation-author\" data-delta=\"5\">Elizabeth Joe</span>, <span class=\"highwire-citation-author\" data-delta=\"6\">Logan Schneider</span></span></div></div>\n",
       "<div class=\"highwire-cite-extras\"><div class=\"aan-article-citation-variant-list\"><ul class=\"links variants-list inline\"><li class=\"abstract first\"><a class=\"highwire-variant-link variant-abstract \" data-hide-link-title=\"0\" data-icon-position=\"\" href=\"/content/early/2018/12/05/WNL.0000000000006739.abstract\" rel=\"alternate\" title=\"Abstract\">Abstract </a></li>\n",
       "<li class=\"full-textpdf last\"><a class=\"highwire-variant-link variant-full-textpdf \" data-hide-link-title=\"0\" data-icon-position=\"\" href=\"/content/early/2018/12/05/WNL.0000000000006739.full.pdf\" rel=\"alternate\" title=\"Full Text (PDF)\" type=\"application/pdf\">Full Text (PDF) </a></li>\n",
       "</ul></div><span class=\"highwire-foxycart-add-to-cart-ahah highwire-foxycart-add-to-cart-ahah\" data-apath=\"/neurology/early/2018/12/05/WNL.0000000000006739.atom\" data-font-icon=\"icon-shopping-cart\" data-parent-id=\"1301\" data-text=\"Add to Cart (%short-price)\" data-type=\"link\"></span></div>\n",
       "</div>\n",
       "</div></li></ul></div></div><div class=\"highwire-list-wrapper highwire-list-pap highwire-article-citation-list\"><h3 class=\"highwire-list-title\">November 30, 2018</h3><div class=\"highwire-list\"><ul id=\"november-30-2018\"><li class=\"first odd\"><div class=\"highwire-article-citation highwire-citation-type-highwire-article\" data-apath=\"/neurology/early/2018/11/30/WNL.0000000000006700.atom\" data-node-nid=\"165493\" data-pisa=\"neurology;WNL.0000000000006700v1\" data-pisa-master=\"neurology;WNL.0000000000006700\" id=\"node165493\"><div class=\"highwire-cite highwire-cite-highwire-article highwire-citation-aan-list-compact clearfix\">\n",
       "<a class=\"highwire-cite-linked-title\" data-hide-link-title=\"0\" data-icon-position=\"\" href=\"/content/early/2018/11/30/WNL.0000000000006700\"><span class=\"highwire-cite-title\">Trajectories of motor abnormalities in milder phenotypes of ataxia telangiectasia</span></a>\n",
       "<div class=\"highwire-cite-authors\"><div class=\"highwire-citation-authors-type highwire-citation-authors-type-author\"><span class=\"contributor-of-type\"><em></em></span> <span class=\"highwire-citation-authors\"><span class=\"highwire-citation-author first\" data-delta=\"0\">Nienke J.H. van Os</span>, <span class=\"highwire-citation-author\" data-delta=\"1\">Anke Hensiek</span>, <span class=\"highwire-citation-author\" data-delta=\"2\">Judith van Gaalen</span>, <span class=\"highwire-citation-author\" data-delta=\"3\">Alexander M.R. Taylor</span>, <span class=\"highwire-citation-author\" data-delta=\"4\">Marcel van Deuren</span>, <span class=\"highwire-citation-author\" data-delta=\"5\">Corry M.R. Weemaes</span>, <span class=\"highwire-citation-author\" data-delta=\"6\">Michèl A.A.P. Willemsen</span>, <span class=\"highwire-citation-author\" data-delta=\"7\">Bart P.C. van de Warrenburg</span></span></div></div>\n",
       "<div class=\"highwire-cite-extras\"><div class=\"aan-article-citation-variant-list\"><ul class=\"links variants-list inline\"><li class=\"abstract first\"><a class=\"highwire-variant-link variant-abstract \" data-hide-link-title=\"0\" data-icon-position=\"\" href=\"/content/early/2018/11/30/WNL.0000000000006700.abstract\" rel=\"alternate\" title=\"Abstract\">Abstract </a></li>\n",
       "<li class=\"full-textpdf last\"><a class=\"highwire-variant-link variant-full-textpdf \" data-hide-link-title=\"0\" data-icon-position=\"\" href=\"/content/early/2018/11/30/WNL.0000000000006700.full.pdf\" rel=\"alternate\" title=\"Full Text (PDF)\" type=\"application/pdf\">Full Text (PDF) </a></li>\n",
       "</ul></div><span class=\"highwire-foxycart-add-to-cart-ahah highwire-foxycart-add-to-cart-ahah\" data-apath=\"/neurology/early/2018/11/30/WNL.0000000000006700.atom\" data-font-icon=\"icon-shopping-cart\" data-parent-id=\"1301\" data-text=\"Add to Cart (%short-price)\" data-type=\"link\"></span></div>\n",
       "</div>\n",
       "</div></li><li class=\"even\"><div class=\"highwire-article-citation highwire-citation-type-highwire-article\" data-apath=\"/neurology/early/2018/11/30/WNL.0000000000006689.atom\" data-node-nid=\"165494\" data-pisa=\"neurology;WNL.0000000000006689v1\" data-pisa-master=\"neurology;WNL.0000000000006689\" id=\"node165494\"><div class=\"highwire-cite highwire-cite-highwire-article highwire-citation-aan-list-compact clearfix\">\n",
       "<a class=\"highwire-cite-linked-title\" data-hide-link-title=\"0\" data-icon-position=\"\" href=\"/content/early/2018/11/30/WNL.0000000000006689\"><span class=\"highwire-cite-title\">Continuous EEG is associated with favorable hospitalization outcomes for critically ill patients</span></a>\n",
       "<div class=\"highwire-cite-authors\"><div class=\"highwire-citation-authors-type highwire-citation-authors-type-author\"><span class=\"contributor-of-type\"><em></em></span> <span class=\"highwire-citation-authors\"><span class=\"highwire-citation-author first\" data-delta=\"0\">Chloe E. Hill</span>, <span class=\"highwire-citation-author\" data-delta=\"1\">Leah J. Blank</span>, <span class=\"highwire-citation-author\" data-delta=\"2\">Dylan Thibault</span>, <span class=\"highwire-citation-author\" data-delta=\"3\">Kathryn A. Davis</span>, <span class=\"highwire-citation-author\" data-delta=\"4\">Nabila Dahodwala</span>, <span class=\"highwire-citation-author\" data-delta=\"5\">Brian Litt</span>, <span class=\"highwire-citation-author\" data-delta=\"6\">Allison W. Willis</span></span></div></div>\n",
       "<div class=\"highwire-cite-extras\"><div class=\"aan-article-citation-variant-list\"><ul class=\"links variants-list inline\"><li class=\"abstract first\"><a class=\"highwire-variant-link variant-abstract \" data-hide-link-title=\"0\" data-icon-position=\"\" href=\"/content/early/2018/11/30/WNL.0000000000006689.abstract\" rel=\"alternate\" title=\"Abstract\">Abstract </a></li>\n",
       "<li class=\"full-textpdf last\"><a class=\"highwire-variant-link variant-full-textpdf \" data-hide-link-title=\"0\" data-icon-position=\"\" href=\"/content/early/2018/11/30/WNL.0000000000006689.full.pdf\" rel=\"alternate\" title=\"Full Text (PDF)\" type=\"application/pdf\">Full Text (PDF) </a></li>\n",
       "</ul></div><span class=\"highwire-foxycart-add-to-cart-ahah highwire-foxycart-add-to-cart-ahah\" data-apath=\"/neurology/early/2018/11/30/WNL.0000000000006689.atom\" data-font-icon=\"icon-shopping-cart\" data-parent-id=\"1301\" data-text=\"Add to Cart (%short-price)\" data-type=\"link\"></span></div>\n",
       "</div>\n",
       "</div></li><li class=\"odd\"><div class=\"highwire-article-citation highwire-citation-type-highwire-article\" data-apath=\"/neurology/early/2018/11/30/WNL.0000000000006694.atom\" data-node-nid=\"165495\" data-pisa=\"neurology;WNL.0000000000006694v1\" data-pisa-master=\"neurology;WNL.0000000000006694\" id=\"node165495\"><div class=\"highwire-cite highwire-cite-highwire-article highwire-citation-aan-list-compact clearfix\">\n",
       "<a class=\"highwire-cite-linked-title\" data-hide-link-title=\"0\" data-icon-position=\"\" href=\"/content/early/2018/11/30/WNL.0000000000006694\"><span class=\"highwire-cite-title\">White matter differences between essential tremor and Parkinson disease</span></a>\n",
       "<div class=\"highwire-cite-authors\"><div class=\"highwire-citation-authors-type highwire-citation-authors-type-author\"><span class=\"contributor-of-type\"><em></em></span> <span class=\"highwire-citation-authors\"><span class=\"highwire-citation-author first\" data-delta=\"0\">Meher R. Juttukonda</span>, <span class=\"highwire-citation-author\" data-delta=\"1\">Giulia Franco</span>, <span class=\"highwire-citation-author\" data-delta=\"2\">Dario J. Englot</span>, <span class=\"highwire-citation-author\" data-delta=\"3\">Ya-Chen Lin</span>, <span class=\"highwire-citation-author\" data-delta=\"4\">Kalen J. Petersen</span>, <span class=\"highwire-citation-author\" data-delta=\"5\">Paula Trujillo</span>, <span class=\"highwire-citation-author\" data-delta=\"6\">Peter Hedera</span>, <span class=\"highwire-citation-author\" data-delta=\"7\">Bennett A. Landman</span>, <span class=\"highwire-citation-author\" data-delta=\"8\">Hakmook Kang</span>, <span class=\"highwire-citation-author\" data-delta=\"9\">Manus J. Donahue</span>, <span class=\"highwire-citation-author\" data-delta=\"10\">Peter E. Konrad</span>, <span class=\"highwire-citation-author\" data-delta=\"11\">Benoit M. Dawant</span>, <span class=\"highwire-citation-author\" data-delta=\"12\">Daniel O. Claassen</span></span></div></div>\n",
       "<div class=\"highwire-cite-extras\"><div class=\"aan-article-citation-variant-list\"><ul class=\"links variants-list inline\"><li class=\"abstract first\"><a class=\"highwire-variant-link variant-abstract \" data-hide-link-title=\"0\" data-icon-position=\"\" href=\"/content/early/2018/11/30/WNL.0000000000006694.abstract\" rel=\"alternate\" title=\"Abstract\">Abstract </a></li>\n",
       "<li class=\"full-textpdf last\"><a class=\"highwire-variant-link variant-full-textpdf \" data-hide-link-title=\"0\" data-icon-position=\"\" href=\"/content/early/2018/11/30/WNL.0000000000006694.full.pdf\" rel=\"alternate\" title=\"Full Text (PDF)\" type=\"application/pdf\">Full Text (PDF) </a></li>\n",
       "</ul></div><span class=\"highwire-foxycart-add-to-cart-ahah highwire-foxycart-add-to-cart-ahah\" data-apath=\"/neurology/early/2018/11/30/WNL.0000000000006694.atom\" data-font-icon=\"icon-shopping-cart\" data-parent-id=\"1301\" data-text=\"Add to Cart (%short-price)\" data-type=\"link\"></span></div>\n",
       "</div>\n",
       "</div></li><li class=\"even\"><div class=\"highwire-article-citation highwire-citation-type-highwire-article\" data-apath=\"/neurology/early/2018/11/30/WNL.0000000000006690.atom\" data-node-nid=\"165496\" data-pisa=\"neurology;WNL.0000000000006690v1\" data-pisa-master=\"neurology;WNL.0000000000006690\" id=\"node165496\"><div class=\"highwire-cite highwire-cite-highwire-article highwire-citation-aan-list-compact clearfix\">\n",
       "<a class=\"highwire-cite-linked-title\" data-hide-link-title=\"0\" data-icon-position=\"\" href=\"/content/early/2018/11/30/WNL.0000000000006690\"><span class=\"highwire-cite-title title-with-subtitle\">Developmental venous anomaly in adult patients with diffuse glioma</span><span class=\"highwire-cite-subtitle\">A clinically relevant coexistence?</span></a>\n",
       "<div class=\"highwire-cite-authors\"><div class=\"highwire-citation-authors-type highwire-citation-authors-type-author\"><span class=\"contributor-of-type\"><em></em></span> <span class=\"highwire-citation-authors\"><span class=\"highwire-citation-author first\" data-delta=\"0\">Alexandre Roux</span>, <span class=\"highwire-citation-author\" data-delta=\"1\">Myriam Edjlali</span>, <span class=\"highwire-citation-author\" data-delta=\"2\">Sayuri Porelli</span>, <span class=\"highwire-citation-author\" data-delta=\"3\">Arnault Tauziede-Espariat</span>, <span class=\"highwire-citation-author\" data-delta=\"4\">Marc Zanello</span>, <span class=\"highwire-citation-author\" data-delta=\"5\">Edouard Dezamis</span>, <span class=\"highwire-citation-author\" data-delta=\"6\">Gilles Zah-Bi</span>, <span class=\"highwire-citation-author\" data-delta=\"7\">Marc Sanson</span>, <span class=\"highwire-citation-author\" data-delta=\"8\">Stéphanie Puget</span>, <span class=\"highwire-citation-author\" data-delta=\"9\">Laurent Capelle</span>, <span class=\"highwire-citation-author\" data-delta=\"10\">Pascale Varlet</span>, <span class=\"highwire-citation-author\" data-delta=\"11\">Catherine Oppenheim</span>, <span class=\"highwire-citation-author\" data-delta=\"12\">Johan Pallud</span></span></div></div>\n",
       "<div class=\"highwire-cite-extras\"><div class=\"aan-article-citation-variant-list\"><ul class=\"links variants-list inline\"><li class=\"abstract first\"><a class=\"highwire-variant-link variant-abstract \" data-hide-link-title=\"0\" data-icon-position=\"\" href=\"/content/early/2018/11/30/WNL.0000000000006690.abstract\" rel=\"alternate\" title=\"Abstract\">Abstract </a></li>\n",
       "<li class=\"full-textpdf last\"><a class=\"highwire-variant-link variant-full-textpdf \" data-hide-link-title=\"0\" data-icon-position=\"\" href=\"/content/early/2018/11/30/WNL.0000000000006690.full.pdf\" rel=\"alternate\" title=\"Full Text (PDF)\" type=\"application/pdf\">Full Text (PDF) </a></li>\n",
       "</ul></div><span class=\"highwire-foxycart-add-to-cart-ahah highwire-foxycart-add-to-cart-ahah\" data-apath=\"/neurology/early/2018/11/30/WNL.0000000000006690.atom\" data-font-icon=\"icon-shopping-cart\" data-parent-id=\"1301\" data-text=\"Add to Cart (%short-price)\" data-type=\"link\"></span></div>\n",
       "</div>\n",
       "</div></li><li class=\"last odd\"><div class=\"highwire-article-citation highwire-citation-type-highwire-article\" data-apath=\"/neurology/early/2018/11/30/WNL.0000000000006692.atom\" data-node-nid=\"165497\" data-pisa=\"neurology;WNL.0000000000006692v1\" data-pisa-master=\"neurology;WNL.0000000000006692\" id=\"node165497\"><div class=\"highwire-cite highwire-cite-highwire-article highwire-citation-aan-list-compact clearfix\">\n",
       "<a class=\"highwire-cite-linked-title\" data-hide-link-title=\"0\" data-icon-position=\"\" href=\"/content/early/2018/11/30/WNL.0000000000006692\"><span class=\"highwire-cite-title\">CSF β-amyloid<sub>42</sub> and risk of freezing of gait in early Parkinson disease</span></a>\n",
       "<div class=\"highwire-cite-authors\"><div class=\"highwire-citation-authors-type highwire-citation-authors-type-author\"><span class=\"contributor-of-type\"><em></em></span> <span class=\"highwire-citation-authors\"><span class=\"highwire-citation-author first\" data-delta=\"0\">Ryul Kim</span>, <span class=\"highwire-citation-author\" data-delta=\"1\">Joongyub Lee</span>, <span class=\"highwire-citation-author\" data-delta=\"2\">Han-Joon Kim</span>, <span class=\"highwire-citation-author\" data-delta=\"3\">Aryun Kim</span>, <span class=\"highwire-citation-author\" data-delta=\"4\">Mihee Jang</span>, <span class=\"highwire-citation-author\" data-delta=\"5\">Beomseok Jeon</span>, <span class=\"highwire-citation-author\" data-delta=\"6\">Un Jung Kang</span></span></div></div>\n",
       "<div class=\"highwire-cite-extras\"><div class=\"aan-article-citation-variant-list\"><ul class=\"links variants-list inline\"><li class=\"abstract first\"><a class=\"highwire-variant-link variant-abstract \" data-hide-link-title=\"0\" data-icon-position=\"\" href=\"/content/early/2018/11/30/WNL.0000000000006692.abstract\" rel=\"alternate\" title=\"Abstract\">Abstract </a></li>\n",
       "<li class=\"full-textpdf last\"><a class=\"highwire-variant-link variant-full-textpdf \" data-hide-link-title=\"0\" data-icon-position=\"\" href=\"/content/early/2018/11/30/WNL.0000000000006692.full.pdf\" rel=\"alternate\" title=\"Full Text (PDF)\" type=\"application/pdf\">Full Text (PDF) </a></li>\n",
       "</ul></div><span class=\"highwire-foxycart-add-to-cart-ahah highwire-foxycart-add-to-cart-ahah\" data-apath=\"/neurology/early/2018/11/30/WNL.0000000000006692.atom\" data-font-icon=\"icon-shopping-cart\" data-parent-id=\"1301\" data-text=\"Add to Cart (%short-price)\" data-type=\"link\"></span></div>\n",
       "</div>\n",
       "</div></li></ul></div></div><div class=\"highwire-list-wrapper highwire-list-pap highwire-article-citation-list\"><h3 class=\"highwire-list-title\">November 28, 2018</h3><div class=\"highwire-list\"><ul id=\"november-28-2018\"><li class=\"first last odd\"><div class=\"highwire-article-citation highwire-citation-type-highwire-article\" data-apath=\"/neurology/early/2018/11/27/WNL.0000000000006699.atom\" data-node-nid=\"165489\" data-pisa=\"neurology;WNL.0000000000006699v1\" data-pisa-master=\"neurology;WNL.0000000000006699\" id=\"node165489\"><div class=\"highwire-cite highwire-cite-highwire-article highwire-citation-aan-list-compact clearfix\">\n",
       "<a class=\"highwire-cite-linked-title\" data-hide-link-title=\"0\" data-icon-position=\"\" href=\"/content/early/2018/11/27/WNL.0000000000006699\"><span class=\"highwire-cite-title\">Estimating the prevalence at death of CTE neuropathology among professional football players</span></a>\n",
       "<div class=\"highwire-cite-authors\"><div class=\"highwire-citation-authors-type highwire-citation-authors-type-author\"><span class=\"contributor-of-type\"><em></em></span> <span class=\"highwire-citation-authors\"><span class=\"highwire-citation-author first\" data-delta=\"0\">Zachary O. Binney</span>, <span class=\"highwire-citation-author\" data-delta=\"1\">Kathleen E. Bachynski</span></span></div></div>\n",
       "<div class=\"highwire-cite-extras\"><div class=\"aan-article-citation-variant-list\"><ul class=\"links variants-list inline\"><li class=\"full-textpdf first last\"><a class=\"highwire-variant-link variant-full-textpdf \" data-hide-link-title=\"0\" data-icon-position=\"\" href=\"/content/early/2018/11/27/WNL.0000000000006699.full.pdf\" rel=\"alternate\" title=\"Full Text (PDF)\" type=\"application/pdf\">Full Text (PDF) </a></li>\n",
       "</ul></div><span class=\"highwire-foxycart-add-to-cart-ahah highwire-foxycart-add-to-cart-ahah\" data-apath=\"/neurology/early/2018/11/27/WNL.0000000000006699.atom\" data-font-icon=\"icon-shopping-cart\" data-parent-id=\"1301\" data-text=\"Add to Cart (%short-price)\" data-type=\"link\"></span></div>\n",
       "</div>\n",
       "</div></li></ul></div></div><div class=\"highwire-list-wrapper highwire-list-pap highwire-article-citation-list\"><h3 class=\"highwire-list-title\">November 21, 2018</h3><div class=\"highwire-list\"><ul id=\"november-21-2018\"><li class=\"first odd\"><div class=\"highwire-article-citation highwire-citation-type-highwire-article\" data-apath=\"/neurology/early/2018/11/21/WNL.0000000000006688.atom\" data-node-nid=\"165378\" data-pisa=\"neurology;WNL.0000000000006688v1\" data-pisa-master=\"neurology;WNL.0000000000006688\" id=\"node165378\"><div class=\"highwire-cite highwire-cite-highwire-article highwire-citation-aan-list-compact clearfix\">\n",
       "<a class=\"highwire-cite-linked-title\" data-hide-link-title=\"0\" data-icon-position=\"\" href=\"/content/early/2018/11/21/WNL.0000000000006688\"><span class=\"highwire-cite-title\">High prevalence of neutralizing antibodies after long-term botulinum neurotoxin therapy</span></a>\n",
       "<div class=\"highwire-cite-authors\"><div class=\"highwire-citation-authors-type highwire-citation-authors-type-author\"><span class=\"contributor-of-type\"><em></em></span> <span class=\"highwire-citation-authors\"><span class=\"highwire-citation-author first\" data-delta=\"0\">Philipp Albrecht</span>, <span class=\"highwire-citation-author\" data-delta=\"1\">Alexander Jansen</span>, <span class=\"highwire-citation-author\" data-delta=\"2\">John-Ih Lee</span>, <span class=\"highwire-citation-author\" data-delta=\"3\">Marek Moll</span>, <span class=\"highwire-citation-author\" data-delta=\"4\">Marius Ringelstein</span>, <span class=\"highwire-citation-author\" data-delta=\"5\">Dietmar Rosenthal</span>, <span class=\"highwire-citation-author\" data-delta=\"6\">Hans Bigalke</span>, <span class=\"highwire-citation-author\" data-delta=\"7\">Orhan Aktas</span>, <span class=\"highwire-citation-author\" data-delta=\"8\">Hans-Peter Hartung</span>, <span class=\"highwire-citation-author\" data-delta=\"9\">Harald Hefter</span></span></div></div>\n",
       "<div class=\"highwire-cite-extras\"><div class=\"aan-article-citation-variant-list\"><ul class=\"links variants-list inline\"><li class=\"abstract first\"><a class=\"highwire-variant-link variant-abstract \" data-hide-link-title=\"0\" data-icon-position=\"\" href=\"/content/early/2018/11/21/WNL.0000000000006688.abstract\" rel=\"alternate\" title=\"Abstract\">Abstract </a></li>\n",
       "<li class=\"full-textpdf last\"><a class=\"highwire-variant-link variant-full-textpdf \" data-hide-link-title=\"0\" data-icon-position=\"\" href=\"/content/early/2018/11/21/WNL.0000000000006688.full.pdf\" rel=\"alternate\" title=\"Full Text (PDF)\" type=\"application/pdf\">Full Text (PDF) </a></li>\n",
       "</ul></div><span class=\"highwire-foxycart-add-to-cart-ahah highwire-foxycart-add-to-cart-ahah\" data-apath=\"/neurology/early/2018/11/21/WNL.0000000000006688.atom\" data-font-icon=\"icon-shopping-cart\" data-parent-id=\"1301\" data-text=\"Add to Cart (%short-price)\" data-type=\"link\"></span></div>\n",
       "</div>\n",
       "</div></li><li class=\"last even\"><div class=\"highwire-article-citation highwire-citation-type-highwire-article\" data-apath=\"/neurology/early/2018/11/21/WNL.0000000000006684.atom\" data-node-nid=\"165377\" data-pisa=\"neurology;WNL.0000000000006684v1\" data-pisa-master=\"neurology;WNL.0000000000006684\" id=\"node165377\"><div class=\"highwire-cite highwire-cite-highwire-article highwire-citation-aan-list-compact clearfix\">\n",
       "<a class=\"highwire-cite-linked-title\" data-hide-link-title=\"0\" data-icon-position=\"\" href=\"/content/early/2018/11/21/WNL.0000000000006684\"><span class=\"highwire-cite-title\">Long-term intake of vegetables and fruits and subjective cognitive function in US men</span></a>\n",
       "<div class=\"highwire-cite-authors\"><div class=\"highwire-citation-authors-type highwire-citation-authors-type-author\"><span class=\"contributor-of-type\"><em></em></span> <span class=\"highwire-citation-authors\"><span class=\"highwire-citation-author first\" data-delta=\"0\">Changzheng Yuan</span>, <span class=\"highwire-citation-author\" data-delta=\"1\">Elinor Fondell</span>, <span class=\"highwire-citation-author\" data-delta=\"2\">Ambika Bhushan</span>, <span class=\"highwire-citation-author\" data-delta=\"3\">Alberto Ascherio</span>, <span class=\"highwire-citation-author\" data-delta=\"4\">Olivia I. Okereke</span>, <span class=\"highwire-citation-author\" data-delta=\"5\">Francine Grodstein</span>, <span class=\"highwire-citation-author\" data-delta=\"6\">Walter C. Willett</span></span></div></div>\n",
       "<div class=\"highwire-cite-extras\"><div class=\"aan-article-citation-variant-list\"><ul class=\"links variants-list inline\"><li class=\"abstract first\"><a class=\"highwire-variant-link variant-abstract \" data-hide-link-title=\"0\" data-icon-position=\"\" href=\"/content/early/2018/11/21/WNL.0000000000006684.abstract\" rel=\"alternate\" title=\"Abstract\">Abstract </a></li>\n",
       "<li class=\"full-textpdf last\"><a class=\"highwire-variant-link variant-full-textpdf \" data-hide-link-title=\"0\" data-icon-position=\"\" href=\"/content/early/2018/11/21/WNL.0000000000006684.full.pdf\" rel=\"alternate\" title=\"Full Text (PDF)\" type=\"application/pdf\">Full Text (PDF) </a></li>\n",
       "</ul></div><span class=\"highwire-foxycart-add-to-cart-ahah highwire-foxycart-add-to-cart-ahah\" data-apath=\"/neurology/early/2018/11/21/WNL.0000000000006684.atom\" data-font-icon=\"icon-shopping-cart\" data-parent-id=\"1301\" data-text=\"Add to Cart (%short-price)\" data-type=\"link\"></span></div>\n",
       "</div>\n",
       "</div></li></ul></div></div><div class=\"highwire-list-wrapper highwire-list-pap highwire-article-citation-list\"><h3 class=\"highwire-list-title\">November 14, 2018</h3><div class=\"highwire-list\"><ul id=\"november-14-2018\"><li class=\"first last odd\"><div class=\"highwire-article-citation highwire-citation-type-highwire-article\" data-apath=\"/neurology/early/2018/11/14/WNL.0000000000006669.atom\" data-node-nid=\"165174\" data-pisa=\"neurology;WNL.0000000000006669v1\" data-pisa-master=\"neurology;WNL.0000000000006669\" id=\"node165174\"><div class=\"highwire-cite highwire-cite-highwire-article highwire-citation-aan-list-compact clearfix\">\n",
       "<a class=\"highwire-cite-linked-title\" data-hide-link-title=\"0\" data-icon-position=\"\" href=\"/content/early/2018/11/14/WNL.0000000000006669\"><span class=\"highwire-cite-title\">Prediagnostic plasma branched chain amino acids and the risk of amyotrophic lateral sclerosis</span></a>\n",
       "<div class=\"highwire-cite-authors\"><div class=\"highwire-citation-authors-type highwire-citation-authors-type-author\"><span class=\"contributor-of-type\"><em></em></span> <span class=\"highwire-citation-authors\"><span class=\"highwire-citation-author first\" data-delta=\"0\">Kjetil Bjornevik</span>, <span class=\"highwire-citation-author\" data-delta=\"1\">Éilis J. O'Reilly</span>, <span class=\"highwire-citation-author\" data-delta=\"2\">James D. Berry</span>, <span class=\"highwire-citation-author\" data-delta=\"3\">Clary B. Clish</span>, <span class=\"highwire-citation-author\" data-delta=\"4\">Sarah Jeanfavre</span>, <span class=\"highwire-citation-author\" data-delta=\"5\">Ikuko Kato</span>, <span class=\"highwire-citation-author\" data-delta=\"6\">Laurence N. Kolonel</span>, <span class=\"highwire-citation-author\" data-delta=\"7\">Loic Le Marchand</span>, <span class=\"highwire-citation-author\" data-delta=\"8\">Marjorie L. McCullough</span>, <span class=\"highwire-citation-author\" data-delta=\"9\">Sabrina Paganoni</span>, <span class=\"highwire-citation-author\" data-delta=\"10\">Michael A. Schwarzschild</span>, <span class=\"highwire-citation-author\" data-delta=\"11\">Evelyn O. Talbott</span>, <span class=\"highwire-citation-author\" data-delta=\"12\">Robert B. Wallace</span>, <span class=\"highwire-citation-author\" data-delta=\"13\">Zhongli Zhang</span>, <span class=\"highwire-citation-author\" data-delta=\"14\">JoAnn E. Manson</span>, <span class=\"highwire-citation-author\" data-delta=\"15\">Alberto Ascherio</span></span></div></div>\n",
       "<div class=\"highwire-cite-extras\"><div class=\"aan-article-citation-variant-list\"><ul class=\"links variants-list inline\"><li class=\"abstract first\"><a class=\"highwire-variant-link variant-abstract \" data-hide-link-title=\"0\" data-icon-position=\"\" href=\"/content/early/2018/11/14/WNL.0000000000006669.abstract\" rel=\"alternate\" title=\"Abstract\">Abstract </a></li>\n",
       "<li class=\"full-textpdf last\"><a class=\"highwire-variant-link variant-full-textpdf \" data-hide-link-title=\"0\" data-icon-position=\"\" href=\"/content/early/2018/11/14/WNL.0000000000006669.full.pdf\" rel=\"alternate\" title=\"Full Text (PDF)\" type=\"application/pdf\">Full Text (PDF) </a></li>\n",
       "</ul></div><span class=\"highwire-foxycart-add-to-cart-ahah highwire-foxycart-add-to-cart-ahah\" data-apath=\"/neurology/early/2018/11/14/WNL.0000000000006669.atom\" data-font-icon=\"icon-shopping-cart\" data-parent-id=\"1301\" data-text=\"Add to Cart (%short-price)\" data-type=\"link\"></span></div>\n",
       "</div>\n",
       "</div></li></ul></div></div><div class=\"highwire-list-wrapper highwire-list-pap highwire-article-citation-list\"><h3 class=\"highwire-list-title\">November 09, 2018</h3><div class=\"highwire-list\"><ul id=\"november-09-2018\"><li class=\"first last odd\"><div class=\"highwire-article-citation highwire-citation-type-highwire-article\" data-apath=\"/neurology/early/2018/11/09/WNL.0000000000006670.atom\" data-node-nid=\"165153\" data-pisa=\"neurology;WNL.0000000000006670v1\" data-pisa-master=\"neurology;WNL.0000000000006670\" id=\"node165153\"><div class=\"highwire-cite highwire-cite-highwire-article highwire-citation-aan-list-compact clearfix\">\n",
       "<a class=\"highwire-cite-linked-title\" data-hide-link-title=\"0\" data-icon-position=\"\" href=\"/content/early/2018/11/09/WNL.0000000000006670\"><span class=\"highwire-cite-title\">Safety, tolerability, and efficacy of fluoxetine as an antiviral for acute flaccid myelitis</span></a>\n",
       "<div class=\"highwire-cite-authors\"><div class=\"highwire-citation-authors-type highwire-citation-authors-type-author\"><span class=\"contributor-of-type\"><em></em></span> <span class=\"highwire-citation-authors\"><span class=\"highwire-citation-author first\" data-delta=\"0\">Kevin Messacar</span>, <span class=\"highwire-citation-author\" data-delta=\"1\">Stefan Sillau</span>, <span class=\"highwire-citation-author\" data-delta=\"2\">Sarah E. Hopkins</span>, <span class=\"highwire-citation-author\" data-delta=\"3\">Catherine Otten</span>, <span class=\"highwire-citation-author\" data-delta=\"4\">Molly Wilson-Murphy</span>, <span class=\"highwire-citation-author\" data-delta=\"5\">Brian Wong</span>, <span class=\"highwire-citation-author\" data-delta=\"6\">Jonathan D. Santoro</span>, <span class=\"highwire-citation-author\" data-delta=\"7\">Andrew Treister</span>, <span class=\"highwire-citation-author\" data-delta=\"8\">Harlori K. Bains</span>, <span class=\"highwire-citation-author\" data-delta=\"9\">Alcy Torres</span>, <span class=\"highwire-citation-author\" data-delta=\"10\">Luke Zabrocki</span>, <span class=\"highwire-citation-author\" data-delta=\"11\">Julia R. Glanternik</span>, <span class=\"highwire-citation-author\" data-delta=\"12\">Amanda L. Hurst</span>, <span class=\"highwire-citation-author\" data-delta=\"13\">Jan A. Martin</span>, <span class=\"highwire-citation-author\" data-delta=\"14\">Teri Schreiner</span>, <span class=\"highwire-citation-author\" data-delta=\"15\">Naila Makhani</span>, <span class=\"highwire-citation-author\" data-delta=\"16\">Roberta L. DeBiasi</span>, <span class=\"highwire-citation-author\" data-delta=\"17\">Michael C. Kruer</span>, <span class=\"highwire-citation-author\" data-delta=\"18\">Adriana H. Tremoulet</span>, <span class=\"highwire-citation-author\" data-delta=\"19\">Keith Van Haren</span>, <span class=\"highwire-citation-author\" data-delta=\"20\">Jay Desai</span>, <span class=\"highwire-citation-author\" data-delta=\"21\">Leslie A. Benson</span>, <span class=\"highwire-citation-author\" data-delta=\"22\">Mark P. Gorman</span>, <span class=\"highwire-citation-author\" data-delta=\"23\">Mark J. Abzug</span>, <span class=\"highwire-citation-author\" data-delta=\"24\">Kenneth L. Tyler</span>, <span class=\"highwire-citation-author\" data-delta=\"25\">Samuel R. Dominguez</span></span></div></div>\n",
       "<div class=\"highwire-cite-extras\"><div class=\"aan-article-citation-variant-list\"><ul class=\"links variants-list inline\"><li class=\"abstract first\"><a class=\"highwire-variant-link variant-abstract \" data-hide-link-title=\"0\" data-icon-position=\"\" href=\"/content/early/2018/11/09/WNL.0000000000006670.abstract\" rel=\"alternate\" title=\"Abstract\">Abstract </a></li>\n",
       "<li class=\"full-textpdf last\"><a class=\"highwire-variant-link variant-full-textpdf \" data-hide-link-title=\"0\" data-icon-position=\"\" href=\"/content/early/2018/11/09/WNL.0000000000006670.full.pdf\" rel=\"alternate\" title=\"Full Text (PDF)\" type=\"application/pdf\">Full Text (PDF) </a></li>\n",
       "</ul></div><span class=\"highwire-foxycart-add-to-cart-ahah highwire-foxycart-add-to-cart-ahah\" data-apath=\"/neurology/early/2018/11/09/WNL.0000000000006670.atom\" data-font-icon=\"icon-shopping-cart\" data-parent-id=\"1301\" data-text=\"Add to Cart (%short-price)\" data-type=\"link\"></span></div>\n",
       "</div>\n",
       "</div></li></ul></div></div><div class=\"highwire-list-wrapper highwire-list-pap highwire-article-citation-list\"><h3 class=\"highwire-list-title\">October 31, 2018</h3><div class=\"highwire-list\"><ul id=\"october-31-2018\"><li class=\"first odd\"><div class=\"highwire-article-citation highwire-citation-type-highwire-article\" data-apath=\"/neurology/early/2018/10/31/WNL.0000000000006584.atom\" data-node-nid=\"164964\" data-pisa=\"neurology;WNL.0000000000006584v1\" data-pisa-master=\"neurology;WNL.0000000000006584\" id=\"node164964\"><div class=\"highwire-cite highwire-cite-highwire-article highwire-citation-aan-list-compact clearfix\">\n",
       "<a class=\"highwire-cite-linked-title\" data-hide-link-title=\"0\" data-icon-position=\"\" href=\"/content/early/2018/10/31/WNL.0000000000006584\"><span class=\"highwire-cite-title title-with-subtitle\">Misdiagnosis of multiple sclerosis</span><span class=\"highwire-cite-subtitle\">If you have a hammer, everything looks like a nail?</span></a>\n",
       "<div class=\"highwire-cite-authors\"><div class=\"highwire-citation-authors-type highwire-citation-authors-type-author\"><span class=\"contributor-of-type\"><em></em></span> <span class=\"highwire-citation-authors\"><span class=\"highwire-citation-author first\" data-delta=\"0\">Wallace J. Brownlee</span></span></div></div>\n",
       "<div class=\"highwire-cite-extras\"><div class=\"aan-article-citation-variant-list\"><ul class=\"links variants-list inline\"><li class=\"full-textpdf first last\"><a class=\"highwire-variant-link variant-full-textpdf \" data-hide-link-title=\"0\" data-icon-position=\"\" href=\"/content/early/2018/10/31/WNL.0000000000006584.full.pdf\" rel=\"alternate\" title=\"Full Text (PDF)\" type=\"application/pdf\">Full Text (PDF) </a></li>\n",
       "</ul></div><span class=\"highwire-foxycart-add-to-cart-ahah highwire-foxycart-add-to-cart-ahah\" data-apath=\"/neurology/early/2018/10/31/WNL.0000000000006584.atom\" data-font-icon=\"icon-shopping-cart\" data-parent-id=\"1301\" data-text=\"Add to Cart (%short-price)\" data-type=\"link\"></span></div>\n",
       "</div>\n",
       "</div></li><li class=\"last even\"><div class=\"highwire-article-citation highwire-citation-type-highwire-article\" data-apath=\"/neurology/early/2018/10/31/WNL.0000000000006583.atom\" data-node-nid=\"164965\" data-pisa=\"neurology;WNL.0000000000006583v1\" data-pisa-master=\"neurology;WNL.0000000000006583\" id=\"node164965\"><div class=\"highwire-cite highwire-cite-highwire-article highwire-citation-aan-list-compact clearfix\">\n",
       "<a class=\"highwire-cite-linked-title\" data-hide-link-title=\"0\" data-icon-position=\"\" href=\"/content/early/2018/10/31/WNL.0000000000006583\"><span class=\"highwire-cite-title title-with-subtitle\">Misdiagnosis of multiple sclerosis</span><span class=\"highwire-cite-subtitle\">Impact of the 2017 McDonald criteria on clinical practice</span></a>\n",
       "<div class=\"highwire-cite-authors\"><div class=\"highwire-citation-authors-type highwire-citation-authors-type-author\"><span class=\"contributor-of-type\"><em></em></span> <span class=\"highwire-citation-authors\"><span class=\"highwire-citation-author first\" data-delta=\"0\">Andrew J. Solomon</span>, <span class=\"highwire-citation-author\" data-delta=\"1\">Robert T. Naismith</span>, <span class=\"highwire-citation-author\" data-delta=\"2\">Anne H. Cross</span></span></div></div>\n",
       "<div class=\"highwire-cite-extras\"><div class=\"aan-article-citation-variant-list\"><ul class=\"links variants-list inline\"><li class=\"abstract first\"><a class=\"highwire-variant-link variant-abstract \" data-hide-link-title=\"0\" data-icon-position=\"\" href=\"/content/early/2018/10/31/WNL.0000000000006583.abstract\" rel=\"alternate\" title=\"Abstract\">Abstract </a></li>\n",
       "<li class=\"full-textpdf last\"><a class=\"highwire-variant-link variant-full-textpdf \" data-hide-link-title=\"0\" data-icon-position=\"\" href=\"/content/early/2018/10/31/WNL.0000000000006583.full.pdf\" rel=\"alternate\" title=\"Full Text (PDF)\" type=\"application/pdf\">Full Text (PDF) </a></li>\n",
       "</ul></div><span class=\"highwire-foxycart-add-to-cart-ahah highwire-foxycart-add-to-cart-ahah\" data-apath=\"/neurology/early/2018/10/31/WNL.0000000000006583.atom\" data-font-icon=\"icon-shopping-cart\" data-parent-id=\"1301\" data-text=\"Add to Cart (%short-price)\" data-type=\"link\"></span></div>\n",
       "</div>\n",
       "</div></li></ul></div></div><h2 class=\"element-invisible\">Pages</h2><div class=\"item-list\"><ul class=\"pager\"><li class=\"pager-current first\">1</li>\n",
       "<li class=\"pager-item\"><a href=\"/content/early/recent?page=1\" title=\"Go to page 2\">2</a></li>\n",
       "<li class=\"pager-next\"><a href=\"/content/early/recent?page=1\" title=\"Go to next page\">next ›</a></li>\n",
       "<li class=\"pager-last last\"><a href=\"/content/early/recent?page=1\" title=\"Go to last page\">last »</a></li>\n",
       "</ul></div> </div>\n",
       "</div>"
      ]
     },
     "execution_count": 12,
     "metadata": {},
     "output_type": "execute_result"
    }
   ],
   "source": [
    "div"
   ]
  },
  {
   "cell_type": "markdown",
   "metadata": {},
   "source": [
    "- 구조 : Ahead of Print - Date (기사항목 - 업데이트 날짜별 분류)"
   ]
  },
  {
   "cell_type": "code",
   "execution_count": 13,
   "metadata": {},
   "outputs": [],
   "source": [
    "down_divs = div.find_all('div',attrs={'class':'highwire-list-wrapper highwire-list-pap highwire-article-citation-list'})"
   ]
  },
  {
   "cell_type": "code",
   "execution_count": 14,
   "metadata": {},
   "outputs": [
    {
     "data": {
      "text/plain": [
       "<div class=\"highwire-list-wrapper highwire-list-pap highwire-article-citation-list\"><h3 class=\"highwire-list-title\">December 12, 2018</h3><div class=\"highwire-list\"><ul id=\"december-12-2018\"><li class=\"first odd\"><div class=\"highwire-article-citation highwire-citation-type-highwire-article\" data-apath=\"/neurology/early/2018/12/12/WNL.0000000000006729.atom\" data-node-nid=\"165714\" data-pisa=\"neurology;WNL.0000000000006729v1\" data-pisa-master=\"neurology;WNL.0000000000006729\" id=\"node165714\"><div class=\"highwire-cite highwire-cite-highwire-article highwire-citation-aan-list-compact clearfix\">\n",
       "<div class=\"highwire-cite-overline\"><span class=\"highwire-cite-metadata-oa-ind highwire-cite-metadata\">Open Access</span></div>\n",
       "<a class=\"highwire-cite-linked-title\" data-hide-link-title=\"0\" data-icon-position=\"\" href=\"/content/early/2018/12/12/WNL.0000000000006729\"><span class=\"highwire-cite-title title-with-subtitle\"><em>SYNGAP1</em> encephalopathy</span><span class=\"highwire-cite-subtitle\">A distinctive generalized developmental and epileptic encephalopathy</span></a>\n",
       "<div class=\"highwire-cite-authors\"><div class=\"highwire-citation-authors-type highwire-citation-authors-type-author\"><span class=\"contributor-of-type\"><em></em></span> <span class=\"highwire-citation-authors\"><span class=\"highwire-citation-author first\" data-delta=\"0\">Danique R.M. Vlaskamp</span>, <span class=\"highwire-citation-author\" data-delta=\"1\">Benjamin J. Shaw</span>, <span class=\"highwire-citation-author\" data-delta=\"2\">Rosemary Burgess</span>, <span class=\"highwire-citation-author\" data-delta=\"3\">Davide Mei</span>, <span class=\"highwire-citation-author\" data-delta=\"4\">Martino Montomoli</span>, <span class=\"highwire-citation-author\" data-delta=\"5\">Han Xie</span>, <span class=\"highwire-citation-author\" data-delta=\"6\">Candace T. Myers</span>, <span class=\"highwire-citation-author\" data-delta=\"7\">Mark F. Bennett</span>, <span class=\"highwire-citation-author\" data-delta=\"8\">Wenshu XiangWei</span>, <span class=\"highwire-citation-author\" data-delta=\"9\">Danielle Williams</span>, <span class=\"highwire-citation-author\" data-delta=\"10\">Saskia M. Maas</span>, <span class=\"highwire-citation-author\" data-delta=\"11\">Alice S. Brooks</span>, <span class=\"highwire-citation-author\" data-delta=\"12\">Grazia M.S. Mancini</span>, <span class=\"highwire-citation-author\" data-delta=\"13\">Ingrid M.B.H. van de Laar</span>, <span class=\"highwire-citation-author\" data-delta=\"14\">Johanna M. van Hagen</span>, <span class=\"highwire-citation-author\" data-delta=\"15\">Tyson L. Ware</span>, <span class=\"highwire-citation-author\" data-delta=\"16\">Richard I. Webster</span>, <span class=\"highwire-citation-author\" data-delta=\"17\">Stephen Malone</span>, <span class=\"highwire-citation-author\" data-delta=\"18\">Samuel F. Berkovic</span>, <span class=\"highwire-citation-author\" data-delta=\"19\">Renate M. Kalnins</span>, <span class=\"highwire-citation-author\" data-delta=\"20\">Federico Sicca</span>, <span class=\"highwire-citation-author\" data-delta=\"21\">G. Christoph Korenke</span>, <span class=\"highwire-citation-author\" data-delta=\"22\">Conny M.A. van Ravenswaaij-Arts</span>, <span class=\"highwire-citation-author\" data-delta=\"23\">Michael S. Hildebrand</span>, <span class=\"highwire-citation-author\" data-delta=\"24\">Heather C. Mefford</span>, <span class=\"highwire-citation-author\" data-delta=\"25\">Yuwu Jiang</span>, <span class=\"highwire-citation-author\" data-delta=\"26\">Renzo Guerrini</span>, <span class=\"highwire-citation-author\" data-delta=\"27\">Ingrid E. Scheffer</span></span></div></div>\n",
       "<div class=\"highwire-cite-extras\"><div class=\"aan-article-citation-variant-list\"><ul class=\"links variants-list inline\"><li class=\"abstract first\"><a class=\"highwire-variant-link variant-abstract \" data-hide-link-title=\"0\" data-icon-position=\"\" href=\"/content/early/2018/12/12/WNL.0000000000006729.abstract\" rel=\"alternate\" title=\"Abstract\">Abstract </a></li>\n",
       "<li class=\"full-textpdf last\"><a class=\"highwire-variant-link variant-full-textpdf \" data-hide-link-title=\"0\" data-icon-position=\"\" href=\"/content/early/2018/12/12/WNL.0000000000006729.full.pdf\" rel=\"alternate\" title=\"Full Text (PDF)\" type=\"application/pdf\">Full Text (PDF) </a></li>\n",
       "</ul></div><span class=\"highwire-foxycart-add-to-cart-ahah highwire-foxycart-add-to-cart-ahah\" data-apath=\"/neurology/early/2018/12/12/WNL.0000000000006729.atom\" data-font-icon=\"icon-shopping-cart\" data-parent-id=\"1301\" data-text=\"Add to Cart (%short-price)\" data-type=\"link\"></span></div>\n",
       "</div>\n",
       "</div></li><li class=\"even\"><div class=\"highwire-article-citation highwire-citation-type-highwire-article\" data-apath=\"/neurology/early/2018/12/12/WNL.0000000000006778.atom\" data-node-nid=\"165715\" data-pisa=\"neurology;WNL.0000000000006778v1\" data-pisa-master=\"neurology;WNL.0000000000006778\" id=\"node165715\"><div class=\"highwire-cite highwire-cite-highwire-article highwire-citation-aan-list-compact clearfix\">\n",
       "<a class=\"highwire-cite-linked-title\" data-hide-link-title=\"0\" data-icon-position=\"\" href=\"/content/early/2018/12/12/WNL.0000000000006778\"><span class=\"highwire-cite-title\">Military-related risk factors in female veterans and risk of dementia</span></a>\n",
       "<div class=\"highwire-cite-authors\"><div class=\"highwire-citation-authors-type highwire-citation-authors-type-author\"><span class=\"contributor-of-type\"><em></em></span> <span class=\"highwire-citation-authors\"><span class=\"highwire-citation-author first\" data-delta=\"0\">Kristine Yaffe</span>, <span class=\"highwire-citation-author\" data-delta=\"1\">Sandy J. Lwi</span>, <span class=\"highwire-citation-author\" data-delta=\"2\">Tina D. Hoang</span>, <span class=\"highwire-citation-author\" data-delta=\"3\">Feng Xia</span>, <span class=\"highwire-citation-author\" data-delta=\"4\">Deborah E. Barnes</span>, <span class=\"highwire-citation-author\" data-delta=\"5\">Shira Maguen</span>, <span class=\"highwire-citation-author\" data-delta=\"6\">Carrie B. Peltz</span></span></div></div>\n",
       "<div class=\"highwire-cite-extras\"><div class=\"aan-article-citation-variant-list\"><ul class=\"links variants-list inline\"><li class=\"abstract first\"><a class=\"highwire-variant-link variant-abstract \" data-hide-link-title=\"0\" data-icon-position=\"\" href=\"/content/early/2018/12/12/WNL.0000000000006778.abstract\" rel=\"alternate\" title=\"Abstract\">Abstract </a></li>\n",
       "<li class=\"full-textpdf last\"><a class=\"highwire-variant-link variant-full-textpdf \" data-hide-link-title=\"0\" data-icon-position=\"\" href=\"/content/early/2018/12/12/WNL.0000000000006778.full.pdf\" rel=\"alternate\" title=\"Full Text (PDF)\" type=\"application/pdf\">Full Text (PDF) </a></li>\n",
       "</ul></div><span class=\"highwire-foxycart-add-to-cart-ahah highwire-foxycart-add-to-cart-ahah\" data-apath=\"/neurology/early/2018/12/12/WNL.0000000000006778.atom\" data-font-icon=\"icon-shopping-cart\" data-parent-id=\"1301\" data-text=\"Add to Cart (%short-price)\" data-type=\"link\"></span></div>\n",
       "</div>\n",
       "</div></li><li class=\"odd\"><div class=\"highwire-article-citation highwire-citation-type-highwire-article\" data-apath=\"/neurology/early/2018/12/12/WNL.0000000000006720.atom\" data-node-nid=\"165716\" data-pisa=\"neurology;WNL.0000000000006720v1\" data-pisa-master=\"neurology;WNL.0000000000006720\" id=\"node165716\"><div class=\"highwire-cite highwire-cite-highwire-article highwire-citation-aan-list-compact clearfix\">\n",
       "<a class=\"highwire-cite-linked-title\" data-hide-link-title=\"0\" data-icon-position=\"\" href=\"/content/early/2018/12/12/WNL.0000000000006720\"><span class=\"highwire-cite-title\">A synaptic protein defect associated with reflex seizure disorder</span></a>\n",
       "<div class=\"highwire-cite-authors\"><div class=\"highwire-citation-authors-type highwire-citation-authors-type-author\"><span class=\"contributor-of-type\"><em></em></span> <span class=\"highwire-citation-authors\"><span class=\"highwire-citation-author first\" data-delta=\"0\">Pasquale Striano</span>, <span class=\"highwire-citation-author\" data-delta=\"1\">Peter Huppke</span></span></div></div>\n",
       "<div class=\"highwire-cite-extras\"><div class=\"aan-article-citation-variant-list\"><ul class=\"links variants-list inline\"><li class=\"full-textpdf first last\"><a class=\"highwire-variant-link variant-full-textpdf \" data-hide-link-title=\"0\" data-icon-position=\"\" href=\"/content/early/2018/12/12/WNL.0000000000006720.full.pdf\" rel=\"alternate\" title=\"Full Text (PDF)\" type=\"application/pdf\">Full Text (PDF) </a></li>\n",
       "</ul></div><span class=\"highwire-foxycart-add-to-cart-ahah highwire-foxycart-add-to-cart-ahah\" data-apath=\"/neurology/early/2018/12/12/WNL.0000000000006720.atom\" data-font-icon=\"icon-shopping-cart\" data-parent-id=\"1301\" data-text=\"Add to Cart (%short-price)\" data-type=\"link\"></span></div>\n",
       "</div>\n",
       "</div></li><li class=\"even\"><div class=\"highwire-article-citation highwire-citation-type-highwire-article\" data-apath=\"/neurology/early/2018/12/12/WNL.0000000000006768.atom\" data-node-nid=\"165712\" data-pisa=\"neurology;WNL.0000000000006768v1\" data-pisa-master=\"neurology;WNL.0000000000006768\" id=\"node165712\"><div class=\"highwire-cite highwire-cite-highwire-article highwire-citation-aan-list-compact clearfix\">\n",
       "<a class=\"highwire-cite-linked-title\" data-hide-link-title=\"0\" data-icon-position=\"\" href=\"/content/early/2018/12/12/WNL.0000000000006768\"><span class=\"highwire-cite-title title-with-subtitle\">Associations of TBI, PTSD, and depression with dementia risk among female military veterans</span><span class=\"highwire-cite-subtitle\">Not just men</span></a>\n",
       "<div class=\"highwire-cite-authors\"><div class=\"highwire-citation-authors-type highwire-citation-authors-type-author\"><span class=\"contributor-of-type\"><em></em></span> <span class=\"highwire-citation-authors\"><span class=\"highwire-citation-author first\" data-delta=\"0\">Andrea L. C. Schneider</span>, <span class=\"highwire-citation-author\" data-delta=\"1\">Geoffrey Ling</span></span></div></div>\n",
       "<div class=\"highwire-cite-extras\"><div class=\"aan-article-citation-variant-list\"><ul class=\"links variants-list inline\"><li class=\"full-textpdf first last\"><a class=\"highwire-variant-link variant-full-textpdf \" data-hide-link-title=\"0\" data-icon-position=\"\" href=\"/content/early/2018/12/12/WNL.0000000000006768.full.pdf\" rel=\"alternate\" title=\"Full Text (PDF)\" type=\"application/pdf\">Full Text (PDF) </a></li>\n",
       "</ul></div><span class=\"highwire-foxycart-add-to-cart-ahah highwire-foxycart-add-to-cart-ahah\" data-apath=\"/neurology/early/2018/12/12/WNL.0000000000006768.atom\" data-font-icon=\"icon-shopping-cart\" data-parent-id=\"1301\" data-text=\"Add to Cart (%short-price)\" data-type=\"link\"></span></div>\n",
       "</div>\n",
       "</div></li><li class=\"last odd\"><div class=\"highwire-article-citation highwire-citation-type-highwire-article\" data-apath=\"/neurology/early/2018/12/12/WNL.0000000000006737.atom\" data-node-nid=\"165713\" data-pisa=\"neurology;WNL.0000000000006737v1\" data-pisa-master=\"neurology;WNL.0000000000006737\" id=\"node165713\"><div class=\"highwire-cite highwire-cite-highwire-article highwire-citation-aan-list-compact clearfix\">\n",
       "<a class=\"highwire-cite-linked-title\" data-hide-link-title=\"0\" data-icon-position=\"\" href=\"/content/early/2018/12/12/WNL.0000000000006737\"><span class=\"highwire-cite-title\">Age and time course of long-term motor and nonmotor complications in Parkinson disease</span></a>\n",
       "<div class=\"highwire-cite-authors\"><div class=\"highwire-citation-authors-type highwire-citation-authors-type-author\"><span class=\"contributor-of-type\"><em></em></span> <span class=\"highwire-citation-authors\"><span class=\"highwire-citation-author first\" data-delta=\"0\">Stéphane Prange</span>, <span class=\"highwire-citation-author\" data-delta=\"1\">Teodor Danaila</span>, <span class=\"highwire-citation-author\" data-delta=\"2\">Chloé Laurencin</span>, <span class=\"highwire-citation-author\" data-delta=\"3\">Catherine Caire</span>, <span class=\"highwire-citation-author\" data-delta=\"4\">Elise Metereau</span>, <span class=\"highwire-citation-author\" data-delta=\"5\">Hélène Merle</span>, <span class=\"highwire-citation-author\" data-delta=\"6\">Emmanuel Broussolle</span>, <span class=\"highwire-citation-author\" data-delta=\"7\">Delphine Maucort-Boulch</span>, <span class=\"highwire-citation-author\" data-delta=\"8\">Stéphane Thobois</span></span></div></div>\n",
       "<div class=\"highwire-cite-extras\"><div class=\"aan-article-citation-variant-list\"><ul class=\"links variants-list inline\"><li class=\"abstract first\"><a class=\"highwire-variant-link variant-abstract \" data-hide-link-title=\"0\" data-icon-position=\"\" href=\"/content/early/2018/12/12/WNL.0000000000006737.abstract\" rel=\"alternate\" title=\"Abstract\">Abstract </a></li>\n",
       "<li class=\"full-textpdf last\"><a class=\"highwire-variant-link variant-full-textpdf \" data-hide-link-title=\"0\" data-icon-position=\"\" href=\"/content/early/2018/12/12/WNL.0000000000006737.full.pdf\" rel=\"alternate\" title=\"Full Text (PDF)\" type=\"application/pdf\">Full Text (PDF) </a></li>\n",
       "</ul></div><span class=\"highwire-foxycart-add-to-cart-ahah highwire-foxycart-add-to-cart-ahah\" data-apath=\"/neurology/early/2018/12/12/WNL.0000000000006737.atom\" data-font-icon=\"icon-shopping-cart\" data-parent-id=\"1301\" data-text=\"Add to Cart (%short-price)\" data-type=\"link\"></span></div>\n",
       "</div>\n",
       "</div></li></ul></div></div>"
      ]
     },
     "execution_count": 14,
     "metadata": {},
     "output_type": "execute_result"
    }
   ],
   "source": [
    "down_divs[3]"
   ]
  },
  {
   "cell_type": "code",
   "execution_count": 15,
   "metadata": {},
   "outputs": [
    {
     "name": "stdout",
     "output_type": "stream",
     "text": [
      "12\n"
     ]
    }
   ],
   "source": [
    "print(len(down_divs))"
   ]
  },
  {
   "cell_type": "code",
   "execution_count": 38,
   "metadata": {},
   "outputs": [],
   "source": [
    "#구조 : Ahead of Print - Date (기사항목 - 업데이트 날짜별 분류)\n",
    "#에서 날짜 별로 나눈 기사 묶음은 총 12개"
   ]
  },
  {
   "cell_type": "markdown",
   "metadata": {},
   "source": [
    "- 구조 : Ahead of Print - Date - articles (기사항목 - 업데이트 날짜별 분류 - 기사)"
   ]
  },
  {
   "cell_type": "code",
   "execution_count": 16,
   "metadata": {},
   "outputs": [],
   "source": [
    "ul = down_divs[0].find('ul')"
   ]
  },
  {
   "cell_type": "code",
   "execution_count": 17,
   "metadata": {},
   "outputs": [
    {
     "data": {
      "text/plain": [
       "<ul id=\"december-21-2018\"><li class=\"first odd\"><div class=\"highwire-article-citation highwire-citation-type-highwire-article\" data-apath=\"/neurology/early/2018/12/21/WNL.0000000000006766.atom\" data-node-nid=\"165859\" data-pisa=\"neurology;WNL.0000000000006766v1\" data-pisa-master=\"neurology;WNL.0000000000006766\" id=\"node165859\"><div class=\"highwire-cite highwire-cite-highwire-article highwire-citation-aan-list-compact clearfix\">\n",
       "<a class=\"highwire-cite-linked-title\" data-hide-link-title=\"0\" data-icon-position=\"\" href=\"/content/early/2018/12/21/WNL.0000000000006766\"><span class=\"highwire-cite-title title-with-subtitle\">Forecasting outcomes in anti-NMDAR encephalitis</span><span class=\"highwire-cite-subtitle\">Clearer prognostic markers needed</span></a>\n",
       "<div class=\"highwire-cite-authors\"><div class=\"highwire-citation-authors-type highwire-citation-authors-type-author\"><span class=\"contributor-of-type\"><em></em></span> <span class=\"highwire-citation-authors\"><span class=\"highwire-citation-author first\" data-delta=\"0\">Stephan Rüegg</span>, <span class=\"highwire-citation-author\" data-delta=\"1\">E. Ann Yeh</span>, <span class=\"highwire-citation-author\" data-delta=\"2\">Jerome Honnorat</span></span></div></div>\n",
       "<div class=\"highwire-cite-extras\"><div class=\"aan-article-citation-variant-list\"><ul class=\"links variants-list inline\"><li class=\"full-textpdf first last\"><a class=\"highwire-variant-link variant-full-textpdf \" data-hide-link-title=\"0\" data-icon-position=\"\" href=\"/content/early/2018/12/21/WNL.0000000000006766.full.pdf\" rel=\"alternate\" title=\"Full Text (PDF)\" type=\"application/pdf\">Full Text (PDF) </a></li>\n",
       "</ul></div><span class=\"highwire-foxycart-add-to-cart-ahah highwire-foxycart-add-to-cart-ahah\" data-apath=\"/neurology/early/2018/12/21/WNL.0000000000006766.atom\" data-font-icon=\"icon-shopping-cart\" data-parent-id=\"1301\" data-text=\"Add to Cart (%short-price)\" data-type=\"link\"></span></div>\n",
       "</div>\n",
       "</div></li><li class=\"even\"><div class=\"highwire-article-citation highwire-citation-type-highwire-article\" data-apath=\"/neurology/early/2018/12/21/WNL.0000000000006789.atom\" data-node-nid=\"165860\" data-pisa=\"neurology;WNL.0000000000006789v1\" data-pisa-master=\"neurology;WNL.0000000000006789\" id=\"node165860\"><div class=\"highwire-cite highwire-cite-highwire-article highwire-citation-aan-list-compact clearfix\">\n",
       "<a class=\"highwire-cite-linked-title\" data-hide-link-title=\"0\" data-icon-position=\"\" href=\"/content/early/2018/12/21/WNL.0000000000006789\"><span class=\"highwire-cite-title\">Cytotoxic edema affecting distinct fiber tracts in Ciguatera fish poisoning</span></a>\n",
       "<div class=\"highwire-cite-authors\"><div class=\"highwire-citation-authors-type highwire-citation-authors-type-author\"><span class=\"contributor-of-type\"><em></em></span> <span class=\"highwire-citation-authors\"><span class=\"highwire-citation-author first\" data-delta=\"0\">Yavor Yalachkov</span>, <span class=\"highwire-citation-author\" data-delta=\"1\">Marcel Hildner</span>, <span class=\"highwire-citation-author\" data-delta=\"2\">Nenad Polomac</span>, <span class=\"highwire-citation-author\" data-delta=\"3\">Kolja Jahnke</span>, <span class=\"highwire-citation-author\" data-delta=\"4\">Marlies Wagner</span>, <span class=\"highwire-citation-author\" data-delta=\"5\">Simon Baudrexel</span></span></div></div>\n",
       "<div class=\"highwire-cite-extras\"><div class=\"aan-article-citation-variant-list\"><ul class=\"links variants-list inline\"><li class=\"full-textpdf first last\"><a class=\"highwire-variant-link variant-full-textpdf \" data-hide-link-title=\"0\" data-icon-position=\"\" href=\"/content/early/2018/12/21/WNL.0000000000006789.full.pdf\" rel=\"alternate\" title=\"Full Text (PDF)\" type=\"application/pdf\">Full Text (PDF) </a></li>\n",
       "</ul></div><span class=\"highwire-foxycart-add-to-cart-ahah highwire-foxycart-add-to-cart-ahah\" data-apath=\"/neurology/early/2018/12/21/WNL.0000000000006789.atom\" data-font-icon=\"icon-shopping-cart\" data-parent-id=\"1301\" data-text=\"Add to Cart (%short-price)\" data-type=\"link\"></span></div>\n",
       "</div>\n",
       "</div></li><li class=\"odd\"><div class=\"highwire-article-citation highwire-citation-type-highwire-article\" data-apath=\"/neurology/early/2018/12/21/WNL.0000000000006751.atom\" data-node-nid=\"165861\" data-pisa=\"neurology;WNL.0000000000006751v1\" data-pisa-master=\"neurology;WNL.0000000000006751\" id=\"node165861\"><div class=\"highwire-cite highwire-cite-highwire-article highwire-citation-aan-list-compact clearfix\">\n",
       "<a class=\"highwire-cite-linked-title\" data-hide-link-title=\"0\" data-icon-position=\"\" href=\"/content/early/2018/12/21/WNL.0000000000006751\"><span class=\"highwire-cite-title title-with-subtitle\">Readmitted after a seizure-related hospitalization</span><span class=\"highwire-cite-subtitle\">Déjà vu</span></a>\n",
       "<div class=\"highwire-cite-authors\"><div class=\"highwire-citation-authors-type highwire-citation-authors-type-author\"><span class=\"contributor-of-type\"><em></em></span> <span class=\"highwire-citation-authors\"><span class=\"highwire-citation-author first\" data-delta=\"0\">Nathalie Jetté</span>, <span class=\"highwire-citation-author\" data-delta=\"1\">Kimford J. Meador</span>, <span class=\"highwire-citation-author\" data-delta=\"2\">Churl-Su Kwon</span></span></div></div>\n",
       "<div class=\"highwire-cite-extras\"><div class=\"aan-article-citation-variant-list\"><ul class=\"links variants-list inline\"><li class=\"full-textpdf first last\"><a class=\"highwire-variant-link variant-full-textpdf \" data-hide-link-title=\"0\" data-icon-position=\"\" href=\"/content/early/2018/12/21/WNL.0000000000006751.full.pdf\" rel=\"alternate\" title=\"Full Text (PDF)\" type=\"application/pdf\">Full Text (PDF) </a></li>\n",
       "</ul></div><span class=\"highwire-foxycart-add-to-cart-ahah highwire-foxycart-add-to-cart-ahah\" data-apath=\"/neurology/early/2018/12/21/WNL.0000000000006751.atom\" data-font-icon=\"icon-shopping-cart\" data-parent-id=\"1301\" data-text=\"Add to Cart (%short-price)\" data-type=\"link\"></span></div>\n",
       "</div>\n",
       "</div></li><li class=\"even\"><div class=\"highwire-article-citation highwire-citation-type-highwire-article\" data-apath=\"/neurology/early/2018/12/21/WNL.0000000000006788.atom\" data-node-nid=\"165856\" data-pisa=\"neurology;WNL.0000000000006788v1\" data-pisa-master=\"neurology;WNL.0000000000006788\" id=\"node165856\"><div class=\"highwire-cite highwire-cite-highwire-article highwire-citation-aan-list-compact clearfix\">\n",
       "<a class=\"highwire-cite-linked-title\" data-hide-link-title=\"0\" data-icon-position=\"\" href=\"/content/early/2018/12/21/WNL.0000000000006788\"><span class=\"highwire-cite-title title-with-subtitle\">Word comprehension in temporal cortex and Wernicke area</span><span class=\"highwire-cite-subtitle\">A PPA perspective</span></a>\n",
       "<div class=\"highwire-cite-authors\"><div class=\"highwire-citation-authors-type highwire-citation-authors-type-author\"><span class=\"contributor-of-type\"><em></em></span> <span class=\"highwire-citation-authors\"><span class=\"highwire-citation-author first\" data-delta=\"0\">M.-Marsel Mesulam</span>, <span class=\"highwire-citation-author\" data-delta=\"1\">Benjamin M. Rader</span>, <span class=\"highwire-citation-author\" data-delta=\"2\">Jaiashre Sridhar</span>, <span class=\"highwire-citation-author\" data-delta=\"3\">Matthew J. Nelson</span>, <span class=\"highwire-citation-author\" data-delta=\"4\">Jungmoon Hyun</span>, <span class=\"highwire-citation-author\" data-delta=\"5\">Alfred Rademaker</span>, <span class=\"highwire-citation-author\" data-delta=\"6\">Changiz Geula</span>, <span class=\"highwire-citation-author\" data-delta=\"7\">Eileen H. Bigio</span>, <span class=\"highwire-citation-author\" data-delta=\"8\">Cynthia K. Thompson</span>, <span class=\"highwire-citation-author\" data-delta=\"9\">Tamar D. Gefen</span>, <span class=\"highwire-citation-author\" data-delta=\"10\">Sandra Weintraub</span>, <span class=\"highwire-citation-author\" data-delta=\"11\">Emily J. Rogalski</span></span></div></div>\n",
       "<div class=\"highwire-cite-extras\"><div class=\"aan-article-citation-variant-list\"><ul class=\"links variants-list inline\"><li class=\"abstract first\"><a class=\"highwire-variant-link variant-abstract \" data-hide-link-title=\"0\" data-icon-position=\"\" href=\"/content/early/2018/12/21/WNL.0000000000006788.abstract\" rel=\"alternate\" title=\"Abstract\">Abstract </a></li>\n",
       "<li class=\"full-textpdf last\"><a class=\"highwire-variant-link variant-full-textpdf \" data-hide-link-title=\"0\" data-icon-position=\"\" href=\"/content/early/2018/12/21/WNL.0000000000006788.full.pdf\" rel=\"alternate\" title=\"Full Text (PDF)\" type=\"application/pdf\">Full Text (PDF) </a></li>\n",
       "</ul></div><span class=\"highwire-foxycart-add-to-cart-ahah highwire-foxycart-add-to-cart-ahah\" data-apath=\"/neurology/early/2018/12/21/WNL.0000000000006788.atom\" data-font-icon=\"icon-shopping-cart\" data-parent-id=\"1301\" data-text=\"Add to Cart (%short-price)\" data-type=\"link\"></span></div>\n",
       "</div>\n",
       "</div></li><li class=\"odd\"><div class=\"highwire-article-citation highwire-citation-type-highwire-article\" data-apath=\"/neurology/early/2018/12/21/WNL.0000000000006783.atom\" data-node-nid=\"165857\" data-pisa=\"neurology;WNL.0000000000006783v1\" data-pisa-master=\"neurology;WNL.0000000000006783\" id=\"node165857\"><div class=\"highwire-cite highwire-cite-highwire-article highwire-citation-aan-list-compact clearfix\">\n",
       "<div class=\"highwire-cite-overline\"><span class=\"highwire-cite-metadata-oa-ind highwire-cite-metadata\">Open Access</span></div>\n",
       "<a class=\"highwire-cite-linked-title\" data-hide-link-title=\"0\" data-icon-position=\"\" href=\"/content/early/2018/12/21/WNL.0000000000006783\"><span class=\"highwire-cite-title\">A score that predicts 1-year functional status in patients with anti-NMDA receptor encephalitis</span></a>\n",
       "<div class=\"highwire-cite-authors\"><div class=\"highwire-citation-authors-type highwire-citation-authors-type-author\"><span class=\"contributor-of-type\"><em></em></span> <span class=\"highwire-citation-authors\"><span class=\"highwire-citation-author first\" data-delta=\"0\">Ramani Balu</span>, <span class=\"highwire-citation-author\" data-delta=\"1\">Lindsey McCracken</span>, <span class=\"highwire-citation-author\" data-delta=\"2\">Eric Lancaster</span>, <span class=\"highwire-citation-author\" data-delta=\"3\">Francesc Graus</span>, <span class=\"highwire-citation-author\" data-delta=\"4\">Josep Dalmau</span>, <span class=\"highwire-citation-author\" data-delta=\"5\">Maarten J. Titulaer</span></span></div></div>\n",
       "<div class=\"highwire-cite-extras\"><div class=\"aan-article-citation-variant-list\"><ul class=\"links variants-list inline\"><li class=\"abstract first\"><a class=\"highwire-variant-link variant-abstract \" data-hide-link-title=\"0\" data-icon-position=\"\" href=\"/content/early/2018/12/21/WNL.0000000000006783.abstract\" rel=\"alternate\" title=\"Abstract\">Abstract </a></li>\n",
       "<li class=\"full-textpdf last\"><a class=\"highwire-variant-link variant-full-textpdf \" data-hide-link-title=\"0\" data-icon-position=\"\" href=\"/content/early/2018/12/21/WNL.0000000000006783.full.pdf\" rel=\"alternate\" title=\"Full Text (PDF)\" type=\"application/pdf\">Full Text (PDF) </a></li>\n",
       "</ul></div><span class=\"highwire-foxycart-add-to-cart-ahah highwire-foxycart-add-to-cart-ahah\" data-apath=\"/neurology/early/2018/12/21/WNL.0000000000006783.atom\" data-font-icon=\"icon-shopping-cart\" data-parent-id=\"1301\" data-text=\"Add to Cart (%short-price)\" data-type=\"link\"></span></div>\n",
       "</div>\n",
       "</div></li><li class=\"last even\"><div class=\"highwire-article-citation highwire-citation-type-highwire-article\" data-apath=\"/neurology/early/2018/12/21/WNL.0000000000006746.atom\" data-node-nid=\"165858\" data-pisa=\"neurology;WNL.0000000000006746v1\" data-pisa-master=\"neurology;WNL.0000000000006746\" id=\"node165858\"><div class=\"highwire-cite highwire-cite-highwire-article highwire-citation-aan-list-compact clearfix\">\n",
       "<a class=\"highwire-cite-linked-title\" data-hide-link-title=\"0\" data-icon-position=\"\" href=\"/content/early/2018/12/21/WNL.0000000000006746\"><span class=\"highwire-cite-title\">Readmission after seizure discharge in a nationally representative sample</span></a>\n",
       "<div class=\"highwire-cite-authors\"><div class=\"highwire-citation-authors-type highwire-citation-authors-type-author\"><span class=\"contributor-of-type\"><em></em></span> <span class=\"highwire-citation-authors\"><span class=\"highwire-citation-author first\" data-delta=\"0\">Leah J. Blank</span>, <span class=\"highwire-citation-author\" data-delta=\"1\">James A.G. Crispo</span>, <span class=\"highwire-citation-author\" data-delta=\"2\">Dylan P. Thibault</span>, <span class=\"highwire-citation-author\" data-delta=\"3\">Kathryn A. Davis</span>, <span class=\"highwire-citation-author\" data-delta=\"4\">Brian Litt</span>, <span class=\"highwire-citation-author\" data-delta=\"5\">Allison W. Willis</span></span></div></div>\n",
       "<div class=\"highwire-cite-extras\"><div class=\"aan-article-citation-variant-list\"><ul class=\"links variants-list inline\"><li class=\"abstract first\"><a class=\"highwire-variant-link variant-abstract \" data-hide-link-title=\"0\" data-icon-position=\"\" href=\"/content/early/2018/12/21/WNL.0000000000006746.abstract\" rel=\"alternate\" title=\"Abstract\">Abstract </a></li>\n",
       "<li class=\"full-textpdf last\"><a class=\"highwire-variant-link variant-full-textpdf \" data-hide-link-title=\"0\" data-icon-position=\"\" href=\"/content/early/2018/12/21/WNL.0000000000006746.full.pdf\" rel=\"alternate\" title=\"Full Text (PDF)\" type=\"application/pdf\">Full Text (PDF) </a></li>\n",
       "</ul></div><span class=\"highwire-foxycart-add-to-cart-ahah highwire-foxycart-add-to-cart-ahah\" data-apath=\"/neurology/early/2018/12/21/WNL.0000000000006746.atom\" data-font-icon=\"icon-shopping-cart\" data-parent-id=\"1301\" data-text=\"Add to Cart (%short-price)\" data-type=\"link\"></span></div>\n",
       "</div>\n",
       "</div></li></ul>"
      ]
     },
     "execution_count": 17,
     "metadata": {},
     "output_type": "execute_result"
    }
   ],
   "source": [
    "ul"
   ]
  },
  {
   "cell_type": "code",
   "execution_count": 18,
   "metadata": {},
   "outputs": [
    {
     "data": {
      "text/plain": [
       "6"
      ]
     },
     "execution_count": 18,
     "metadata": {},
     "output_type": "execute_result"
    }
   ],
   "source": [
    "len(ul)"
   ]
  },
  {
   "cell_type": "code",
   "execution_count": 37,
   "metadata": {},
   "outputs": [],
   "source": [
    "#구조 : Ahead of Print - Date - articles (기사항목 - 업데이트 날짜별 분류 - 기사)\n",
    "#에서 같은 날짜 기사는 총 6개"
   ]
  },
  {
   "cell_type": "markdown",
   "metadata": {},
   "source": [
    "- 같은 날짜 내 기사 6개의 기사 타이틀만 list로 구하기"
   ]
  },
  {
   "cell_type": "code",
   "execution_count": 19,
   "metadata": {},
   "outputs": [],
   "source": [
    "titles = ul.find_all('span',attrs={'class':'highwire-cite-title'})"
   ]
  },
  {
   "cell_type": "code",
   "execution_count": 22,
   "metadata": {
    "scrolled": true
   },
   "outputs": [
    {
     "data": {
      "text/plain": [
       "[<span class=\"highwire-cite-title title-with-subtitle\">Forecasting outcomes in anti-NMDAR encephalitis</span>,\n",
       " <span class=\"highwire-cite-title\">Cytotoxic edema affecting distinct fiber tracts in Ciguatera fish poisoning</span>,\n",
       " <span class=\"highwire-cite-title title-with-subtitle\">Readmitted after a seizure-related hospitalization</span>,\n",
       " <span class=\"highwire-cite-title title-with-subtitle\">Word comprehension in temporal cortex and Wernicke area</span>,\n",
       " <span class=\"highwire-cite-title\">A score that predicts 1-year functional status in patients with anti-NMDA receptor encephalitis</span>,\n",
       " <span class=\"highwire-cite-title\">Readmission after seizure discharge in a nationally representative sample</span>]"
      ]
     },
     "execution_count": 22,
     "metadata": {},
     "output_type": "execute_result"
    }
   ],
   "source": [
    "titles"
   ]
  },
  {
   "cell_type": "code",
   "execution_count": null,
   "metadata": {},
   "outputs": [],
   "source": [
    "# .text 로 여러개의 텍스트를 뽑을 수 없었음."
   ]
  },
  {
   "cell_type": "code",
   "execution_count": 25,
   "metadata": {},
   "outputs": [
    {
     "data": {
      "text/plain": [
       "'Forecasting outcomes in anti-NMDAR encephalitis'"
      ]
     },
     "execution_count": 25,
     "metadata": {},
     "output_type": "execute_result"
    }
   ],
   "source": [
    "titles[0].text"
   ]
  },
  {
   "cell_type": "code",
   "execution_count": 34,
   "metadata": {},
   "outputs": [],
   "source": [
    "title_list = []\n",
    "for t in titles:\n",
    "    each_title = t.text\n",
    "    title_list.append(each_title)"
   ]
  },
  {
   "cell_type": "code",
   "execution_count": 35,
   "metadata": {},
   "outputs": [
    {
     "data": {
      "text/plain": [
       "['Forecasting outcomes in anti-NMDAR encephalitis',\n",
       " 'Cytotoxic edema affecting distinct fiber tracts in Ciguatera fish poisoning',\n",
       " 'Readmitted after a seizure-related hospitalization',\n",
       " 'Word comprehension in temporal cortex and Wernicke area',\n",
       " 'A score that predicts 1-year functional status in patients with anti-NMDA receptor encephalitis',\n",
       " 'Readmission after seizure discharge in a nationally representative sample']"
      ]
     },
     "execution_count": 35,
     "metadata": {},
     "output_type": "execute_result"
    }
   ],
   "source": [
    "title_list"
   ]
  },
  {
   "cell_type": "markdown",
   "metadata": {},
   "source": [
    "- 기사 날짜 구하기"
   ]
  },
  {
   "cell_type": "code",
   "execution_count": 48,
   "metadata": {},
   "outputs": [
    {
     "data": {
      "text/plain": [
       "'December 21, 2018'"
      ]
     },
     "execution_count": 48,
     "metadata": {},
     "output_type": "execute_result"
    }
   ],
   "source": [
    "date = div.find('h3').text\n",
    "date"
   ]
  },
  {
   "cell_type": "code",
   "execution_count": 47,
   "metadata": {},
   "outputs": [
    {
     "data": {
      "text/plain": [
       "'december-21-2018'"
      ]
     },
     "execution_count": 47,
     "metadata": {},
     "output_type": "execute_result"
    }
   ],
   "source": [
    "date_ul = ul['id']\n",
    "date_ul"
   ]
  },
  {
   "cell_type": "markdown",
   "metadata": {},
   "source": [
    "- 2018-12-21 기사의 타이틀,서브타이틀,기자이름,url 구하기\n",
    "- 구조 : Ahead of Print - Date - articles - article (기사항목 - 업데이트 날짜별 분류 - 기사묶음 - 기사)"
   ]
  },
  {
   "cell_type": "code",
   "execution_count": 75,
   "metadata": {},
   "outputs": [],
   "source": [
    "content = ul.find_all('span',attrs={'class':'highwire-cite-title'})\n",
    "content2 = ul.find_all('span',attrs={'class':'highwire-cite-subtitle'})\n",
    "content3 = ul.find_all('span',attrs={'class':'highwire-citation-authors'})"
   ]
  },
  {
   "cell_type": "code",
   "execution_count": 76,
   "metadata": {},
   "outputs": [
    {
     "name": "stdout",
     "output_type": "stream",
     "text": [
      "[<span class=\"highwire-cite-title title-with-subtitle\">Forecasting outcomes in anti-NMDAR encephalitis</span>, <span class=\"highwire-cite-title\">Cytotoxic edema affecting distinct fiber tracts in Ciguatera fish poisoning</span>, <span class=\"highwire-cite-title title-with-subtitle\">Readmitted after a seizure-related hospitalization</span>, <span class=\"highwire-cite-title title-with-subtitle\">Word comprehension in temporal cortex and Wernicke area</span>, <span class=\"highwire-cite-title\">A score that predicts 1-year functional status in patients with anti-NMDA receptor encephalitis</span>, <span class=\"highwire-cite-title\">Readmission after seizure discharge in a nationally representative sample</span>]\n"
     ]
    }
   ],
   "source": [
    "print(content)"
   ]
  },
  {
   "cell_type": "code",
   "execution_count": 77,
   "metadata": {},
   "outputs": [
    {
     "data": {
      "text/plain": [
       "'Forecasting outcomes in anti-NMDAR encephalitis'"
      ]
     },
     "execution_count": 77,
     "metadata": {},
     "output_type": "execute_result"
    }
   ],
   "source": [
    "title = content[0].text\n",
    "title"
   ]
  },
  {
   "cell_type": "code",
   "execution_count": 78,
   "metadata": {},
   "outputs": [
    {
     "data": {
      "text/plain": [
       "'Clearer prognostic markers needed'"
      ]
     },
     "execution_count": 78,
     "metadata": {},
     "output_type": "execute_result"
    }
   ],
   "source": [
    "sub_title = content2[0].text\n",
    "sub_title"
   ]
  },
  {
   "cell_type": "code",
   "execution_count": 79,
   "metadata": {},
   "outputs": [
    {
     "data": {
      "text/plain": [
       "'Stephan Rüegg, E. Ann Yeh, Jerome Honnorat'"
      ]
     },
     "execution_count": 79,
     "metadata": {},
     "output_type": "execute_result"
    }
   ],
   "source": [
    "author = content3[0].text\n",
    "author"
   ]
  },
  {
   "cell_type": "code",
   "execution_count": 80,
   "metadata": {},
   "outputs": [
    {
     "data": {
      "text/plain": [
       "'http://n.neurology.org/content/early/2018/12/21/WNL.0000000000006766'"
      ]
     },
     "execution_count": 80,
     "metadata": {},
     "output_type": "execute_result"
    }
   ],
   "source": [
    "article_url = home_url + ul.find('a')['href']\n",
    "article_url"
   ]
  },
  {
   "cell_type": "code",
   "execution_count": 81,
   "metadata": {},
   "outputs": [
    {
     "data": {
      "text/plain": [
       "['December 21, 2018',\n",
       " 'Forecasting outcomes in anti-NMDAR encephalitis',\n",
       " 'Clearer prognostic markers needed',\n",
       " 'Stephan Rüegg, E. Ann Yeh, Jerome Honnorat',\n",
       " 'http://n.neurology.org/content/early/2018/12/21/WNL.0000000000006766']"
      ]
     },
     "execution_count": 81,
     "metadata": {},
     "output_type": "execute_result"
    }
   ],
   "source": [
    "result = [date,title,sub_title,author,article_url]\n",
    "result"
   ]
  },
  {
   "cell_type": "code",
   "execution_count": 93,
   "metadata": {},
   "outputs": [],
   "source": [
    "result = [date,title,sub_title,author,article_url]\n",
    "\n",
    "for r in result :\n",
    "    titles = ul.find_all('span',attrs={'class':'highwire-cite-title'})\n",
    "    sub_titles = ul.find_all('span',attrs={'class':'highwire-cite-subtitle'})\n",
    "    author = ul.find_all('span',attrs={'class':'highwire-citation-authors'})\n",
    "    article_url = home_url + ul.find('a')['href']\n",
    "    global info\n",
    "    info = []\n",
    "    info = info.append(result)"
   ]
  },
  {
   "cell_type": "code",
   "execution_count": 96,
   "metadata": {},
   "outputs": [
    {
     "name": "stdout",
     "output_type": "stream",
     "text": [
      "None\n"
     ]
    }
   ],
   "source": [
    "print(info)"
   ]
  },
  {
   "cell_type": "markdown",
   "metadata": {},
   "source": [
    "????????????????????????"
   ]
  },
  {
   "cell_type": "code",
   "execution_count": null,
   "metadata": {},
   "outputs": [],
   "source": []
  }
 ],
 "metadata": {
  "kernelspec": {
   "display_name": "Python 3",
   "language": "python",
   "name": "python3"
  },
  "language_info": {
   "codemirror_mode": {
    "name": "ipython",
    "version": 3
   },
   "file_extension": ".py",
   "mimetype": "text/x-python",
   "name": "python",
   "nbconvert_exporter": "python",
   "pygments_lexer": "ipython3",
   "version": "3.7.1"
  }
 },
 "nbformat": 4,
 "nbformat_minor": 2
}
